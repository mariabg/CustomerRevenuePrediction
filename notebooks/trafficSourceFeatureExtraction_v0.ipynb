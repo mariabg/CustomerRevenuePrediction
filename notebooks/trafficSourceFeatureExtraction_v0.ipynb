{
 "cells": [
  {
   "cell_type": "markdown",
   "metadata": {},
   "source": [
    "##### Import libraries, function declaration and .csv load"
   ]
  },
  {
   "cell_type": "code",
   "execution_count": 1,
   "metadata": {},
   "outputs": [],
   "source": [
    "import pandas as pd\n",
    "import json"
   ]
  },
  {
   "cell_type": "code",
   "execution_count": 2,
   "metadata": {},
   "outputs": [],
   "source": [
    "def jsonprints(x):\n",
    "    print(json.dumps(json.loads(x), indent=2))"
   ]
  },
  {
   "cell_type": "code",
   "execution_count": 3,
   "metadata": {},
   "outputs": [],
   "source": [
    "# recursive flatten function from https://towardsdatascience.com/flattening-json-objects-in-python-f5343c794b10\n",
    "def flatten_json(y):\n",
    "    out = {}\n",
    "\n",
    "    def flatten(x, name=''):\n",
    "        if type(x) is dict:\n",
    "            for a in x:\n",
    "                flatten(x[a], name + a + '_')\n",
    "        elif type(x) is list:\n",
    "            i = 0\n",
    "            for a in x:\n",
    "                flatten(a, name + str(i) + '_')\n",
    "                i += 1\n",
    "        else:\n",
    "            out[name[:-1]] = x\n",
    "\n",
    "    flatten(y)\n",
    "    return out"
   ]
  },
  {
   "cell_type": "code",
   "execution_count": 4,
   "metadata": {},
   "outputs": [],
   "source": [
    "def nanPercentage (x, col):\n",
    "    nulls = sum(pd.isnull(x[col]))\n",
    "    noNulls = x[x[col].isna() == False][col].count()\n",
    "    total = nulls + noNulls\n",
    "    if total == x.shape[0]:\n",
    "        return nulls/total\n",
    "    else:\n",
    "        print('Something went wrong!')\n",
    "        return -1"
   ]
  },
  {
   "cell_type": "code",
   "execution_count": 5,
   "metadata": {
    "scrolled": false
   },
   "outputs": [
    {
     "name": "stderr",
     "output_type": "stream",
     "text": [
      "/anaconda3/lib/python3.6/site-packages/IPython/core/interactiveshell.py:2728: DtypeWarning: Columns (3) have mixed types. Specify dtype option on import or set low_memory=False.\n",
      "  interactivity=interactivity, compiler=compiler, result=result)\n"
     ]
    }
   ],
   "source": [
    "data = pd.read_csv(\"../data/train.csv\")"
   ]
  },
  {
   "cell_type": "markdown",
   "metadata": {},
   "source": [
    "##### Select the column of interest, parse its json into several dataframe columns"
   ]
  },
  {
   "cell_type": "code",
   "execution_count": 6,
   "metadata": {},
   "outputs": [],
   "source": [
    "df = data\n",
    "# df = data.sample(n=5000)\n",
    "# df.describe(include='all')\n",
    "\n",
    "traffic = df['trafficSource']"
   ]
  },
  {
   "cell_type": "code",
   "execution_count": 7,
   "metadata": {},
   "outputs": [],
   "source": [
    "trafficFlatten = [flatten_json(json.loads(d)) for d in df['trafficSource']]\n",
    "t = pd.DataFrame(trafficFlatten)"
   ]
  },
  {
   "cell_type": "code",
   "execution_count": 8,
   "metadata": {
    "scrolled": true
   },
   "outputs": [
    {
     "data": {
      "text/html": [
       "<div>\n",
       "<style scoped>\n",
       "    .dataframe tbody tr th:only-of-type {\n",
       "        vertical-align: middle;\n",
       "    }\n",
       "\n",
       "    .dataframe tbody tr th {\n",
       "        vertical-align: top;\n",
       "    }\n",
       "\n",
       "    .dataframe thead th {\n",
       "        text-align: right;\n",
       "    }\n",
       "</style>\n",
       "<table border=\"1\" class=\"dataframe\">\n",
       "  <thead>\n",
       "    <tr style=\"text-align: right;\">\n",
       "      <th></th>\n",
       "      <th>adContent</th>\n",
       "      <th>adwordsClickInfo_adNetworkType</th>\n",
       "      <th>adwordsClickInfo_criteriaParameters</th>\n",
       "      <th>adwordsClickInfo_gclId</th>\n",
       "      <th>adwordsClickInfo_isVideoAd</th>\n",
       "      <th>adwordsClickInfo_page</th>\n",
       "      <th>adwordsClickInfo_slot</th>\n",
       "      <th>campaign</th>\n",
       "      <th>campaignCode</th>\n",
       "      <th>isTrueDirect</th>\n",
       "      <th>keyword</th>\n",
       "      <th>medium</th>\n",
       "      <th>referralPath</th>\n",
       "      <th>source</th>\n",
       "    </tr>\n",
       "  </thead>\n",
       "  <tbody>\n",
       "    <tr>\n",
       "      <th>0</th>\n",
       "      <td>NaN</td>\n",
       "      <td>NaN</td>\n",
       "      <td>not available in demo dataset</td>\n",
       "      <td>NaN</td>\n",
       "      <td>NaN</td>\n",
       "      <td>NaN</td>\n",
       "      <td>NaN</td>\n",
       "      <td>(not set)</td>\n",
       "      <td>NaN</td>\n",
       "      <td>NaN</td>\n",
       "      <td>(not provided)</td>\n",
       "      <td>organic</td>\n",
       "      <td>NaN</td>\n",
       "      <td>google</td>\n",
       "    </tr>\n",
       "    <tr>\n",
       "      <th>1</th>\n",
       "      <td>NaN</td>\n",
       "      <td>NaN</td>\n",
       "      <td>not available in demo dataset</td>\n",
       "      <td>NaN</td>\n",
       "      <td>NaN</td>\n",
       "      <td>NaN</td>\n",
       "      <td>NaN</td>\n",
       "      <td>(not set)</td>\n",
       "      <td>NaN</td>\n",
       "      <td>NaN</td>\n",
       "      <td>(not provided)</td>\n",
       "      <td>organic</td>\n",
       "      <td>NaN</td>\n",
       "      <td>google</td>\n",
       "    </tr>\n",
       "    <tr>\n",
       "      <th>2</th>\n",
       "      <td>NaN</td>\n",
       "      <td>NaN</td>\n",
       "      <td>not available in demo dataset</td>\n",
       "      <td>NaN</td>\n",
       "      <td>NaN</td>\n",
       "      <td>NaN</td>\n",
       "      <td>NaN</td>\n",
       "      <td>(not set)</td>\n",
       "      <td>NaN</td>\n",
       "      <td>NaN</td>\n",
       "      <td>(not provided)</td>\n",
       "      <td>organic</td>\n",
       "      <td>NaN</td>\n",
       "      <td>google</td>\n",
       "    </tr>\n",
       "    <tr>\n",
       "      <th>3</th>\n",
       "      <td>NaN</td>\n",
       "      <td>NaN</td>\n",
       "      <td>not available in demo dataset</td>\n",
       "      <td>NaN</td>\n",
       "      <td>NaN</td>\n",
       "      <td>NaN</td>\n",
       "      <td>NaN</td>\n",
       "      <td>(not set)</td>\n",
       "      <td>NaN</td>\n",
       "      <td>NaN</td>\n",
       "      <td>google + online</td>\n",
       "      <td>organic</td>\n",
       "      <td>NaN</td>\n",
       "      <td>google</td>\n",
       "    </tr>\n",
       "    <tr>\n",
       "      <th>4</th>\n",
       "      <td>NaN</td>\n",
       "      <td>NaN</td>\n",
       "      <td>not available in demo dataset</td>\n",
       "      <td>NaN</td>\n",
       "      <td>NaN</td>\n",
       "      <td>NaN</td>\n",
       "      <td>NaN</td>\n",
       "      <td>(not set)</td>\n",
       "      <td>NaN</td>\n",
       "      <td>True</td>\n",
       "      <td>(not provided)</td>\n",
       "      <td>organic</td>\n",
       "      <td>NaN</td>\n",
       "      <td>google</td>\n",
       "    </tr>\n",
       "  </tbody>\n",
       "</table>\n",
       "</div>"
      ],
      "text/plain": [
       "  adContent adwordsClickInfo_adNetworkType  \\\n",
       "0       NaN                            NaN   \n",
       "1       NaN                            NaN   \n",
       "2       NaN                            NaN   \n",
       "3       NaN                            NaN   \n",
       "4       NaN                            NaN   \n",
       "\n",
       "  adwordsClickInfo_criteriaParameters adwordsClickInfo_gclId  \\\n",
       "0       not available in demo dataset                    NaN   \n",
       "1       not available in demo dataset                    NaN   \n",
       "2       not available in demo dataset                    NaN   \n",
       "3       not available in demo dataset                    NaN   \n",
       "4       not available in demo dataset                    NaN   \n",
       "\n",
       "  adwordsClickInfo_isVideoAd adwordsClickInfo_page adwordsClickInfo_slot  \\\n",
       "0                        NaN                   NaN                   NaN   \n",
       "1                        NaN                   NaN                   NaN   \n",
       "2                        NaN                   NaN                   NaN   \n",
       "3                        NaN                   NaN                   NaN   \n",
       "4                        NaN                   NaN                   NaN   \n",
       "\n",
       "    campaign campaignCode isTrueDirect          keyword   medium referralPath  \\\n",
       "0  (not set)          NaN          NaN   (not provided)  organic          NaN   \n",
       "1  (not set)          NaN          NaN   (not provided)  organic          NaN   \n",
       "2  (not set)          NaN          NaN   (not provided)  organic          NaN   \n",
       "3  (not set)          NaN          NaN  google + online  organic          NaN   \n",
       "4  (not set)          NaN         True   (not provided)  organic          NaN   \n",
       "\n",
       "   source  \n",
       "0  google  \n",
       "1  google  \n",
       "2  google  \n",
       "3  google  \n",
       "4  google  "
      ]
     },
     "execution_count": 8,
     "metadata": {},
     "output_type": "execute_result"
    }
   ],
   "source": [
    "t.head()"
   ]
  },
  {
   "cell_type": "markdown",
   "metadata": {},
   "source": [
    "##### General idea of the columns content"
   ]
  },
  {
   "cell_type": "code",
   "execution_count": 9,
   "metadata": {},
   "outputs": [
    {
     "name": "stdout",
     "output_type": "stream",
     "text": [
      "adContent: 0.9878869433289106\n",
      "adwordsClickInfo_adNetworkType: 0.9762519462669852\n",
      "adwordsClickInfo_criteriaParameters: 0.0\n",
      "adwordsClickInfo_gclId: 0.9761401777009538\n",
      "adwordsClickInfo_isVideoAd: 0.9762519462669852\n",
      "adwordsClickInfo_page: 0.9762519462669852\n",
      "adwordsClickInfo_slot: 0.9762519462669852\n",
      "campaign: 0.0\n",
      "campaignCode: 0.9999988933805344\n",
      "isTrueDirect: 0.6967807333124552\n",
      "keyword: 0.5565510212437739\n",
      "medium: 0.0\n",
      "referralPath: 0.6337742474157669\n",
      "source: 0.0\n"
     ]
    }
   ],
   "source": [
    "for col in t:\n",
    "    print(col + ':', nanPercentage(t, col))\n",
    "    \n",
    "# will add here all the columns that are not worth to keep for droping all of the together\n",
    "dropList = []"
   ]
  },
  {
   "cell_type": "markdown",
   "metadata": {},
   "source": [
    "##### ```trafficSource['adContent']```\n",
    "\n",
    "¿? Change this to a bool var \"adHasContent\""
   ]
  },
  {
   "cell_type": "code",
   "execution_count": 10,
   "metadata": {},
   "outputs": [
    {
     "data": {
      "text/plain": [
       "Google Merchandise Collection                  5122\n",
       "Google Online Store                            1245\n",
       "Display Ad created 3/11/14                      967\n",
       "Full auto ad IMAGE ONLY                         822\n",
       "Ad from 12/13/16                                610\n",
       "Ad from 11/3/16                                 489\n",
       "Display Ad created 3/11/15                      392\n",
       "{KeyWord:Google Brand Items}                    251\n",
       "{KeyWord:Google Merchandise}                    155\n",
       "Ad from 11/7/16                                 123\n",
       "Google Merchandise                               87\n",
       "First Full Auto Template Test Ad                 87\n",
       "20% discount                                     75\n",
       "{KeyWord:Google Branded Gear}                    67\n",
       "{KeyWord:Looking for Google Bags?}               65\n",
       "Swag with Google Logos                           64\n",
       "Display Ad created 11/17/14                      50\n",
       "{KeyWord:Want Google Stickers?}                  42\n",
       "JD_5a_v1                                         41\n",
       "{KeyWord:Google Drinkware}                       32\n",
       "{KeyWord:Google Men's T-Shirts}                  30\n",
       "LeEco_1a                                         25\n",
       "Full auto ad TEXT ONLY                           16\n",
       "{KeyWord:Google Branded Kit}                     16\n",
       "{KeyWord:Google Branded Apparel}                 10\n",
       "Want Google Sunglasses                            8\n",
       "Google Paraphernalia                              7\n",
       "Full auto ad TEXT/NATIVE                          7\n",
       "{KeyWord:Google Branded Outerwear}                5\n",
       "{KeyWord:Want Google Pet Toys?}                   4\n",
       "Official Google Merchandise - Fast Shipping       4\n",
       "Google Store                                      4\n",
       "Full auto ad NATIVE ONLY                          3\n",
       "free shipping                                     3\n",
       "url_builder                                       3\n",
       "Full auto ad with Primary Color                   3\n",
       "Ad from 2/17/17                                   3\n",
       "Free Shipping!                                    2\n",
       "Google store                                      2\n",
       "Men's-Outerwear Google Apparel                    1\n",
       "GA Help Center                                    1\n",
       "google store                                      1\n",
       "visit us again                                    1\n",
       "Swag w/ Google Logos                              1\n",
       "Name: adContent, dtype: int64"
      ]
     },
     "execution_count": 10,
     "metadata": {},
     "output_type": "execute_result"
    }
   ],
   "source": [
    "t['adContent'].value_counts()\n",
    "\n",
    "# t['adHasContent'] = \n",
    "# drop.append('adContent')"
   ]
  },
  {
   "cell_type": "markdown",
   "metadata": {},
   "source": [
    "##### ``` trafficSource['adwordsClickInfo_adNetworkType']```"
   ]
  },
  {
   "cell_type": "code",
   "execution_count": 11,
   "metadata": {},
   "outputs": [
    {
     "data": {
      "text/plain": [
       "Google Search      21453\n",
       "Search partners        7\n",
       "Name: adwordsClickInfo_adNetworkType, dtype: int64"
      ]
     },
     "execution_count": 11,
     "metadata": {},
     "output_type": "execute_result"
    }
   ],
   "source": [
    "t['adwordsClickInfo_adNetworkType'].value_counts()"
   ]
  },
  {
   "cell_type": "markdown",
   "metadata": {},
   "source": [
    "##### ``` trafficSource['adwordsClickInfo_criteriaParameters']```"
   ]
  },
  {
   "cell_type": "code",
   "execution_count": 12,
   "metadata": {},
   "outputs": [
    {
     "data": {
      "text/plain": [
       "0"
      ]
     },
     "execution_count": 12,
     "metadata": {},
     "output_type": "execute_result"
    }
   ],
   "source": [
    "checkEmpty = t[t['adwordsClickInfo_criteriaParameters'] != 'not available in demo dataset']\n",
    "len(checkEmpty)"
   ]
  },
  {
   "cell_type": "code",
   "execution_count": 13,
   "metadata": {},
   "outputs": [],
   "source": [
    "dropList.append('adwordsClickInfo_criteriaParameters')"
   ]
  },
  {
   "cell_type": "markdown",
   "metadata": {},
   "source": [
    "##### ``` trafficSource['adwordsClickInfo_gclId']```"
   ]
  },
  {
   "cell_type": "code",
   "execution_count": 14,
   "metadata": {},
   "outputs": [
    {
     "data": {
      "text/plain": [
       "Cj0KEQjwmIrJBRCRmJ_x7KDo-9oBEiQAuUPKMufMpuG3ZdwYO8GTsjiBFd5MPHStZa9y_9NCrI8X97oaAglc8P8HAQ      70\n",
       "Cj0KEQjw1ee_BRD3hK6x993YzeoBEiQA5RH_BEA562M9tvl_mtnAFvtDnDqOQRp1RvxMMgwjcX1LAfwaAj4o8P8HAQ      41\n",
       "CJH1vbf94M8CFUElgQodyakHgQ                                                                      29\n",
       "Cj0KEQiAw_DEBRChnYiQ_562gsEBEiQA4LcssmB_RWgvpPnltzlzj5rGwqx5lk87wC5CjfcqzneNZewaAiAp8P8HAQ      27\n",
       "CjwKEAiAj7TCBRCp2Z22ue-zrj4SJACG7SBEJui6ggr6ocA-eDC2-lX7W1m5IA1c_qNbzwZVTqUanxoCb5rw_wcB        24\n",
       "CN_u9PaVhdACFcNahgodTCQAjw                                                                      22\n",
       "CjwKEAiAxKrFBRDm25f60OegtwwSJABgEC-Z0_DLPcXHm1ZTqlR1YWeWXU875yaqwupt7pGMgFEZThoCeEzw_wcB        21\n",
       "CjwKEAiAvs7CBRC24rao6bGCoiASJABaCt5DtalFxcoSsvr2E2adUhx6z6OE0KAuVtqKzl-BcVN1-hoCNlrw_wcB        20\n",
       "CNHp7Nf2ytMCFVlWDQod_IoL5A                                                                      20\n",
       "CJ6xtee6j9ACFQqDfgod8TkDNw                                                                      18\n",
       "CjwKEAjw387JBRDPtJePvOej8kASJADkV9TLLYm88mDQieFBbZeS2hrQ7p-uHNZo45H2pUP3uPLDvRoCG2Hw_wcB        18\n",
       "Cj0KEQiAtqHEBRCNrdC6rYq9_oYBEiQAejvRlydKqhjz1oz3BhBTfMjjueAO4Cx4no5mJL6u3XbzFHAaAlL-8P8HAQ      17\n",
       "Cj0KEQiA6_TBBRDInaPjhcelt5oBEiQApPeTFwpkek9qjhpRwTa19k00tY0xRkHNiQRA3IOmKXsa9zQaAogR8P8HAQ      14\n",
       "Cj0KEQjwuZvIBRD-8Z6B2M2Sy68BEiQAtjYS3LI8d1dPIlfea2ufVpIl8XqQYsKmi09Rdqak4YDMrU4aAiz88P8HAQ      14\n",
       "Cj0KEQjwo-XIBRCOycL7hsuI_NoBEiQAuS6HtHOpolLDj1NmtFB8mNSxnWlOn2o79AL0iQ6yZUgark0aAqXK8P8HAQ      14\n",
       "Cj0KEQiAuonGBRCaotXoycysvIMBEiQAcxV0nH04PTH5N1jmKl9nOggKBEHrtNlXRm6BaKGsO9Gl46QaAsLx8P8HAQ      14\n",
       "Cj0KEQiA5IHEBRCLr_PZvq2_6qcBEiQAL4cQ011rzjEGMvYlv9sKjCWtjAETnmRX32HaNGTDbySFbKIaAj4X8P8HAQ      13\n",
       "CLHAuey57M0CFcUmhgod5KoAtg                                                                      13\n",
       "CjwKEAjwzN27BRDFn9aAwLmH2yISJABWuEXch7u7TBTE6PpSp7vD-m41OH79HJKFBwknlCdljiI0qRoC0Xrw_wcB        13\n",
       "CjwKEAjw5_vHBRCBtt2NqqCDjiESJABD5rCJ5tpiaut2Yg5RataAlIq3m3M4uKGqws0Hg0URrfFB_BoCIEHw_wcB        12\n",
       "Cj0KCQjwktHLBRDsARIsAFBSb6x3yDhaJwwJNzgCb4oakNpi7L8nkxjmuNVYtZFhYtTYdBKPaWFHpXgaAmXPEALw_wcB    12\n",
       "Cj0KEQiAot_FBRCqt8jVsoDKoZABEiQAqFL76LHSlBk--Nef3azG5vFpZSg_QP6OzQ9IPEE22l6zFC8aAtg28P8HAQ      11\n",
       "Cj0KEQjw57W9BRDM9_a-2vWJ68EBEiQAwPNFKyoNXka0H6qcqGOryxbofLW4y9plErdx22ZK43oZUE8aApJg8P8HAQ      11\n",
       "CJqomdrD6c8CFQkPaQodftgGhg                                                                      11\n",
       "CjwKEAiAg5_CBRDo4o6e4o3NtG0SJAB-IatYXBAYgFg8NK3p_WIV0IY2ps5BVqPgm7G2eW4TQQWxthoCuI_w_wcB        10\n",
       "Cj0KEQiA0L_FBRDMmaCTw5nxm-ABEiQABn-VqYPBjHllWA_2v3yH9ygg977T-iJQptfHa4lhzyd60bkaAqAS8P8HAQ      10\n",
       "CjwKEAiA6rrBBRDsrLGM4uTPkWASJADnWZQ48mvLDyfiClyJYj9XwKGHe9K4ZDjLnVU9PZNtYI3uahoCaVPw_wcB        10\n",
       "CKvj8PjynNACFQ-DaQodGm4N-Q                                                                      10\n",
       "CjwKEAjwtJzLBRC7z43vr63nr3wSJABjJDgJS6U-a8yZzN8aXHzKhWbsr66K23jUJSI8Jw494AlszRoCVHbw_wcB        10\n",
       "CjwKCAjwh9PGBRAfEiwAIaVuaHgaXDRDnS4R0Q7boxdW-4HpuAw9XOP_3xlNMtz-gDCQHU0IytxRHRoC6tgQAvD_BwE      9\n",
       "                                                                                                ..\n",
       "Cj0KCQjwhrzLBRC3ARIsAPmhsnXIdiJPwjf05OxO9QQGDaht1yE1FJ36BaFUi87HHGAYv_tjDy0wZWIaAu-aEALw_wcB     1\n",
       "CjwKEAjws5zABRDqkoOniLqfywESJACjdoiGfepWubulMgisJ8023xlkIKqqiab31oddLie3zbW2nhoCYmzw_wcB         1\n",
       "CPOls9_r9s8CFU5qfgodRX0PqA                                                                       1\n",
       "CjwKEAjw16HLBRDF9L2UmOCH7U8SJAASVESosQRoQrhwjn6Ldv2Ykpxp5W6f8CWMMBCnAnZJsHHWzRoCjH3w_wcB         1\n",
       "Cj0KCQjwhMjKBRDjARIsAO4rzfhOEc_6V_0R3YXV3VHTtqMisTsRzw2Dv52CbNiVvQGdgRKr2cKsbIoaAqqHEALw_wcB     1\n",
       "CjwKEAjwrMzHBRDW3saA88aT80MSJACbvo1TvDPbRQcJ6MUJpuOghnkhGxGwDzICtsyUfp3EgXS2yxoCkUvw_wcB         1\n",
       "CjwKEAjwtbPGBRDhoLaqn6HknWsSJABR-o5syjm-fTCy7f8OqjHgUETJxHdZ7ektMRdmXCQDkfxygBoCnL7w_wcB         1\n",
       "CjwKCAjwsqjKBRBtEiwAkWyN3w2CMC9m7YBE5Uvw3ei5Ps4k0rQC_cUNIfeLFbbnotarKP-kfUsifRoCLvsQAvD_BwE      1\n",
       "CjwKCAjw387JBRBPEiwA5FfUy-NcBnAWRDHV0qPK8jzSCF-uhiuj36921AlDsbcLmInOcOW1GsrJXRoCoK4QAvD_BwE      1\n",
       "CjwKEAjwu8m-BRDM8KTcjdj8qy0SJACdjSZpym4skN-GvAQUKpJKzbgCO1T_ZMVgO0a8m6aPtJrh-RoCX9vw_wcB         1\n",
       "CjwKEAiAg5_CBRDo4o6e4o3NtG0SJAB-IatYCOzKw6Y_efoyTxIWVzIRcofbH2dKQfNyUrPudHZoXRoC5Ffw_wcB         1\n",
       "CjwKCAjwsqjKBRBtEiwAkWyN3yLgu1dEfR3L3KKj8jov09dNi0OmJ4Gsidg8TOB-8z4nBe-hQMwm6hoCRWAQAvD_BwE      1\n",
       "Cj0KEQjw-73GBRCC7KODl9zToJMBEiQAj1Jgf4vh6iDPyoB5phPflEPhp6WR4DJOjowyH3GikTzvU-kaAkNG8P8HAQ       1\n",
       "Cj0KEQiA5bvEBRCM6vypnc7QgMkBEiQAUZftQC9hkfsd18tGOQuqpRZW-ZSX04iy8hL9haKl0Jw-YsAaAoI-8P8HAQ       1\n",
       "Cj0KEQjwyN7JBRCZn7LKgb3ki8kBEiQAaLEsqjnoD7xxOpy4HDtpcJfJYCKqtdWq35-XmLXPM9ceHHwaAieN8P8HAQ       1\n",
       "EAIaIQobChMIwN6uiMWL1AIVg25-Ch0U8g-2EAAYASAAEgLNzvD_BwE                                          1\n",
       "CjwKEAiAj7TCBRCp2Z22ue-zrj4SJACG7SBER4v-eihGmI8b0DfP16m4dwercVRNfDKz1NxS9ppM9RoCFMzw_wcB         1\n",
       "CjwKEAiA-rfDBRDeyOybg8jd2U4SJAAoE5XqgyEX0E4_e_fs3fjTzq0UnnX3oe5DDK-yiC566iFz0BoCYQHw_wcB         1\n",
       "Cj0KEQiA-f3CBRCbluKf4vu008kBEiQAl-iGqx06OjkNmeeMdz1X0ZmeiqwddiFtI_NXb8NGSJDHPUYaAsPg8P8HAQ       1\n",
       "Cj0KEQjw1K2_BRC0s6jtgJzB-aMBEiQA-WzDMTMdM-KyD9rA8uEo4FhxP-pxnRc83AxXbRPfYPhY4OMaArW58P8HAQ       1\n",
       "EAIaIQobChMIiOzmlb3N1AIVRUwNCh0aSA2bEAAYASAAEgLrJvD_BwE                                          1\n",
       "Cj0KEQjwn_3GBRDc8rCnup-1x8wBEiQAdw3OARBZMmUiotSI3vyCH_nSB3AsDK2equbPRquO5bJbC84aAsEA8P8HAQ       1\n",
       "Cj0KEQiA1b7CBRDjmIPL4u-Zy6gBEiQAsJhTMIyvd-ly_mqq2K3WF251pczpd0nfuqQqW_sRmbxHZjsaAvoi8P8HAQ       1\n",
       "CKz4ltXr-9ACFQkHaQodycQE4A                                                                       1\n",
       "Cj0KCQjwgZrJBRDSARIsAPyPgN-P403TerJaLPejR92lMVeH-Qc87__yif3A8ktZqW3L4pZfvYKf38saAjS2EALw_wcB     1\n",
       "CjwKEAjwpdnJBRC4hcTFtc6fwEkSJABwupNiLBuhrMCG2chewzlfRlQsqy182lDkcLTFJPJpmB7tyRoCUE7w_wcB         1\n",
       "CMKZzePOss4CFcNefgodfukHDw                                                                       1\n",
       "CjwKEAjw_PfGBRDW_sutqMbQsmMSJAAMpUapHqaP6RvR8l8OnoXqaYsnVJVcjxT91d4jQaWtr9_SjhoCSB3w_wcB         1\n",
       "CjwKEAjw-uDABRDPz4-0tp6T6lMSJADNoyPbN9RBtgqO-Q6atkOS-XIngJN4TpdivMxC_RumJ6HuhhoCqhzw_wcB         1\n",
       "CjwKEAiA1ITCBRDO-oLA-q_n8xYSJADjBQfG7CxfdAO5-2CBhX8-OrMrRJ04HcKfnMEy6G_czLD-LBoCFsrw_wcB         1\n",
       "Name: adwordsClickInfo_gclId, Length: 17774, dtype: int64"
      ]
     },
     "execution_count": 14,
     "metadata": {},
     "output_type": "execute_result"
    }
   ],
   "source": [
    "t['adwordsClickInfo_gclId'].value_counts()"
   ]
  },
  {
   "cell_type": "code",
   "execution_count": 15,
   "metadata": {},
   "outputs": [],
   "source": [
    "dropList.append('adwordsClickInfo_gclId')"
   ]
  },
  {
   "cell_type": "markdown",
   "metadata": {},
   "source": [
    "##### ``` trafficSource['adwordsClickInfo_isVideoAd']```\n",
    "\n",
    "Sólo Nans y Falses, drop?"
   ]
  },
  {
   "cell_type": "code",
   "execution_count": 16,
   "metadata": {},
   "outputs": [
    {
     "data": {
      "text/plain": [
       "True    882193\n",
       "Name: adwordsClickInfo_isVideoAd, dtype: int64"
      ]
     },
     "execution_count": 16,
     "metadata": {},
     "output_type": "execute_result"
    }
   ],
   "source": [
    "t[t['adwordsClickInfo_isVideoAd'] != False]['adwordsClickInfo_isVideoAd'].isna().value_counts()"
   ]
  },
  {
   "cell_type": "code",
   "execution_count": 17,
   "metadata": {},
   "outputs": [
    {
     "data": {
      "text/plain": [
       "21460"
      ]
     },
     "execution_count": 17,
     "metadata": {},
     "output_type": "execute_result"
    }
   ],
   "source": [
    "t[t['adwordsClickInfo_isVideoAd'] == False]['adwordsClickInfo_isVideoAd'].count()"
   ]
  },
  {
   "cell_type": "code",
   "execution_count": 18,
   "metadata": {},
   "outputs": [],
   "source": [
    "dropList.append('adwordsClickInfo_isVideoAd')"
   ]
  },
  {
   "cell_type": "markdown",
   "metadata": {},
   "source": [
    "##### ``` trafficSource['adwordsClickInfo_page']```\n",
    "\n",
    "there might be info here, find out whats the meaning and maybe keep it for seeing correlation with purchases"
   ]
  },
  {
   "cell_type": "code",
   "execution_count": 19,
   "metadata": {},
   "outputs": [
    {
     "data": {
      "text/plain": [
       "1     21362\n",
       "2        73\n",
       "3        10\n",
       "5         7\n",
       "7         3\n",
       "9         2\n",
       "4         2\n",
       "14        1\n",
       "Name: adwordsClickInfo_page, dtype: int64"
      ]
     },
     "execution_count": 19,
     "metadata": {},
     "output_type": "execute_result"
    }
   ],
   "source": [
    "t['adwordsClickInfo_page'].value_counts()"
   ]
  },
  {
   "cell_type": "code",
   "execution_count": null,
   "metadata": {},
   "outputs": [],
   "source": []
  },
  {
   "cell_type": "markdown",
   "metadata": {},
   "source": [
    "##### ``` trafficSource['adwordsClickInfo_slot']```\n",
    "\n",
    "Creo que es el lugar donde se pone tu anuncio en una busqueta (top si arriba, RHS en los laterales, nan si no viene de un anuncio o no se tiene la info)"
   ]
  },
  {
   "cell_type": "code",
   "execution_count": 20,
   "metadata": {},
   "outputs": [
    {
     "data": {
      "text/plain": [
       "Top    20956\n",
       "RHS      504\n",
       "Name: adwordsClickInfo_slot, dtype: int64"
      ]
     },
     "execution_count": 20,
     "metadata": {},
     "output_type": "execute_result"
    }
   ],
   "source": [
    "t['adwordsClickInfo_slot'].value_counts()"
   ]
  },
  {
   "cell_type": "markdown",
   "metadata": {},
   "source": [
    "##### ``` trafficSource['campaign']```\n",
    "\n",
    "¿? Bool var isCampaign"
   ]
  },
  {
   "cell_type": "code",
   "execution_count": 21,
   "metadata": {},
   "outputs": [
    {
     "data": {
      "text/plain": [
       "(not set)                                          865347\n",
       "Data Share Promo                                    16403\n",
       "AW - Dynamic Search Ads Whole Site                  14244\n",
       "AW - Accessories                                     7070\n",
       "test-liyuhz                                           392\n",
       "AW - Electronics                                       96\n",
       "Retail (DO NOT EDIT owners nophakun and tianyu)        50\n",
       "AW - Apparel                                           46\n",
       "All Products                                            4\n",
       "Data Share                                              1\n",
       "Name: campaign, dtype: int64"
      ]
     },
     "execution_count": 21,
     "metadata": {},
     "output_type": "execute_result"
    }
   ],
   "source": [
    "t['campaign'].value_counts()"
   ]
  },
  {
   "cell_type": "markdown",
   "metadata": {},
   "source": [
    "##### ``` trafficSource['campaignCode']```"
   ]
  },
  {
   "cell_type": "code",
   "execution_count": 22,
   "metadata": {},
   "outputs": [],
   "source": [
    "dropList.append('campaignCode')"
   ]
  },
  {
   "cell_type": "markdown",
   "metadata": {},
   "source": [
    "##### ``` trafficSource['isTrueDirect']```"
   ]
  },
  {
   "cell_type": "code",
   "execution_count": 23,
   "metadata": {},
   "outputs": [],
   "source": [
    "# t['isTrueDirect']"
   ]
  },
  {
   "cell_type": "markdown",
   "metadata": {},
   "source": [
    "##### ``` trafficSource['keyword']```\n",
    "\n",
    "check, but drop most likely"
   ]
  },
  {
   "cell_type": "code",
   "execution_count": 24,
   "metadata": {},
   "outputs": [
    {
     "data": {
      "text/plain": [
       "0          (not provided)\n",
       "1          (not provided)\n",
       "2          (not provided)\n",
       "3         google + online\n",
       "4          (not provided)\n",
       "5          (not provided)\n",
       "6          (not provided)\n",
       "7          (not provided)\n",
       "8          (not provided)\n",
       "9          (not provided)\n",
       "10         (not provided)\n",
       "11         (not provided)\n",
       "12         (not provided)\n",
       "13         (not provided)\n",
       "14         (not provided)\n",
       "15                    NaN\n",
       "16         (not provided)\n",
       "17         (not provided)\n",
       "18         (not provided)\n",
       "19         (not provided)\n",
       "20         (not provided)\n",
       "21                    NaN\n",
       "22         (not provided)\n",
       "23         (not provided)\n",
       "24         (not provided)\n",
       "25         (not provided)\n",
       "26         (not provided)\n",
       "27         (not provided)\n",
       "28                    NaN\n",
       "29         (not provided)\n",
       "               ...       \n",
       "903623                NaN\n",
       "903624                NaN\n",
       "903625                NaN\n",
       "903626                NaN\n",
       "903627                NaN\n",
       "903628                NaN\n",
       "903629                NaN\n",
       "903630                NaN\n",
       "903631                NaN\n",
       "903632                NaN\n",
       "903633                NaN\n",
       "903634                NaN\n",
       "903635                NaN\n",
       "903636                NaN\n",
       "903637                NaN\n",
       "903638                NaN\n",
       "903639                NaN\n",
       "903640                NaN\n",
       "903641                NaN\n",
       "903642                NaN\n",
       "903643                NaN\n",
       "903644                NaN\n",
       "903645                NaN\n",
       "903646                NaN\n",
       "903647                NaN\n",
       "903648                NaN\n",
       "903649                NaN\n",
       "903650                NaN\n",
       "903651                NaN\n",
       "903652                NaN\n",
       "Name: keyword, Length: 903653, dtype: object"
      ]
     },
     "execution_count": 24,
     "metadata": {},
     "output_type": "execute_result"
    }
   ],
   "source": [
    "t['keyword']"
   ]
  },
  {
   "cell_type": "markdown",
   "metadata": {},
   "source": [
    "##### ``` trafficSource['Medium']```\n",
    "\n",
    "- merge (not set) and (none)\n",
    "- cpc -> Cost Per Click \n",
    "- affiliate -> Affiliate marketing is a type of performance-based marketing in which a business rewards one or more affiliates for each visitor or customer brought by the affiliate's own marketing efforts.\n",
    "- cpm -> Cost per impression\n",
    "\n",
    "\n",
    "¿cpc vienen de search y cpm de webs? ¿Se juntan? ¿Importan?"
   ]
  },
  {
   "cell_type": "code",
   "execution_count": 25,
   "metadata": {},
   "outputs": [
    {
     "data": {
      "text/plain": [
       "organic      381561\n",
       "referral     330955\n",
       "(none)       143026\n",
       "cpc           25326\n",
       "affiliate     16403\n",
       "cpm            6262\n",
       "(not set)       120\n",
       "Name: medium, dtype: int64"
      ]
     },
     "execution_count": 25,
     "metadata": {},
     "output_type": "execute_result"
    }
   ],
   "source": [
    "t['medium'].value_counts()"
   ]
  },
  {
   "cell_type": "markdown",
   "metadata": {},
   "source": [
    "##### ``` trafficSource['referralPath']```"
   ]
  },
  {
   "cell_type": "code",
   "execution_count": 26,
   "metadata": {},
   "outputs": [],
   "source": [
    "dropList.append('referralPath')"
   ]
  },
  {
   "cell_type": "markdown",
   "metadata": {},
   "source": [
    "##### ``` trafficSource['source']```\n",
    "\n",
    "¿? regex for the main domain (last whatevs.com), and drop less than 1000"
   ]
  },
  {
   "cell_type": "code",
   "execution_count": 27,
   "metadata": {},
   "outputs": [
    {
     "data": {
      "text/plain": [
       "google                                               400788\n",
       "youtube.com                                          212602\n",
       "(direct)                                             143028\n",
       "mall.googleplex.com                                   66416\n",
       "Partners                                              16411\n",
       "analytics.google.com                                  16172\n",
       "dfa                                                    5686\n",
       "google.com                                             4669\n",
       "m.facebook.com                                         3365\n",
       "baidu                                                  3356\n",
       "sites.google.com                                       2983\n",
       "facebook.com                                           2296\n",
       "siliconvalley.about.com                                2097\n",
       "reddit.com                                             2022\n",
       "qiita.com                                              1813\n",
       "quora.com                                              1546\n",
       "bing                                                   1530\n",
       "t.co                                                   1529\n",
       "yahoo                                                  1480\n",
       "mail.google.com                                        1457\n",
       "gdeals.googleplex.com                                  1063\n",
       "groups.google.com                                      1025\n",
       "l.facebook.com                                          795\n",
       "blog.golang.org                                         742\n",
       "dealspotr.com                                           528\n",
       "plus.google.com                                         524\n",
       "moma.corp.google.com                                    419\n",
       "docs.google.com                                         388\n",
       "productforums.google.com                                364\n",
       "google.co.jp                                            356\n",
       "                                                      ...  \n",
       "0.shared.bow.cat2.ads-bow.qk.borg.google.com:9873         1\n",
       "voice.google.com                                          1\n",
       "msn                                                       1\n",
       "0.shared.bow.cat2.ads-bow.yw.borg.google.com:9862         1\n",
       "0.shared.bow.cat2.ads-bow.qk.borg.google.com:9848         1\n",
       "start.wow.com                                             1\n",
       "0.shared.bow.cat2.ads-bow.yw.borg.google.com:9856         1\n",
       "hosted.verticalresponse.com                               1\n",
       "google.no                                                 1\n",
       "0.shared.bow.cat2.ads-bow.yw.borg.google.com:9880         1\n",
       "newsstand.google.com                                      1\n",
       "nl.yhs4.search.yahoo.com                                  1\n",
       "adwords-displayads-nightly.corp.google.com                1\n",
       "ps-dm.reddit.com                                          1\n",
       "login.corp.google.com                                     1\n",
       "google.com.ar                                             1\n",
       "images.google.at                                          1\n",
       "google.sk                                                 1\n",
       "meetup.com                                                1\n",
       "google.com.ng                                             1\n",
       "it.pinterest.com                                          1\n",
       "intranet                                                  1\n",
       "0.shared.bow.cat2.ads-bow.lf.borg.google.com:9860         1\n",
       "cse.google.com                                            1\n",
       "google.ro                                                 1\n",
       "0.shared.bow.cat2.ads-bow.qk.borg.google.com:9899         1\n",
       "0.shared.bow.cat2.ads-bow.lf.borg.google.com:9857         1\n",
       "papyrus.mtv.corp.google.com:9021                          1\n",
       "blackboard.towson.edu                                     1\n",
       "redbull.corp.google.com                                   1\n",
       "Name: source, Length: 380, dtype: int64"
      ]
     },
     "execution_count": 27,
     "metadata": {},
     "output_type": "execute_result"
    }
   ],
   "source": [
    "t['source'].value_counts()"
   ]
  },
  {
   "cell_type": "markdown",
   "metadata": {},
   "source": [
    "***"
   ]
  },
  {
   "cell_type": "code",
   "execution_count": 28,
   "metadata": {},
   "outputs": [],
   "source": [
    "df['trafficSource'] = t.drop(dropList, axis=1)"
   ]
  }
 ],
 "metadata": {
  "kernelspec": {
   "display_name": "Python 3",
   "language": "python",
   "name": "python3"
  },
  "language_info": {
   "codemirror_mode": {
    "name": "ipython",
    "version": 3
   },
   "file_extension": ".py",
   "mimetype": "text/x-python",
   "name": "python",
   "nbconvert_exporter": "python",
   "pygments_lexer": "ipython3",
   "version": "3.6.4"
  }
 },
 "nbformat": 4,
 "nbformat_minor": 2
}
