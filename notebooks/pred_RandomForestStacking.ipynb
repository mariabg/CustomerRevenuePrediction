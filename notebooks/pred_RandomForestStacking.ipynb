{
 "cells": [
  {
   "cell_type": "markdown",
   "metadata": {},
   "source": [
    "### Funciones y librerías usadas en el Notebook"
   ]
  },
  {
   "cell_type": "code",
   "execution_count": 1,
   "metadata": {},
   "outputs": [],
   "source": [
    "import pandas as pd\n",
    "import numpy as np\n",
    "# from scipy import stats\n",
    "from sklearn import preprocessing\n",
    "from sklearn.metrics import classification_report, confusion_matrix\n",
    "from sklearn.metrics import mean_squared_error\n",
    "from sklearn.ensemble import RandomForestRegressor\n",
    "from sklearn.ensemble import RandomForestClassifier\n",
    "\n",
    "pd.set_option('display.max_columns', 30)"
   ]
  },
  {
   "cell_type": "code",
   "execution_count": 2,
   "metadata": {},
   "outputs": [],
   "source": [
    "# Call example:\n",
    "  # extract_date_info(df, 'month')\n",
    "def extract_date_info(df, parametro):\n",
    "    if parametro == \"date\":\n",
    "        df[\"date\"] = [d.date() for d in df[\"visitStartTime\"]]\n",
    "    if parametro == \"time\":\n",
    "        df[\"time\"] = [d.time() for d in df[\"visitStartTime\"]]\n",
    "    if parametro == \"hour\":\n",
    "        df[\"hour\"] = [d.hour for d in df[\"visitStartTime\"]]\n",
    "    if parametro == \"day\":\n",
    "        df[\"day\"] = df[\"visitStartTime\"].dt.day\n",
    "    if parametro == \"month\":\n",
    "        df['month'] = df[\"visitStartTime\"].dt.month\n",
    "    if parametro == \"weekday\":\n",
    "        df['weekday'] = df[\"visitStartTime\"].dt.weekday\n",
    "    if parametro == \"weekofyear\": \n",
    "        df['weekofyear'] = df[\"visitStartTime\"].dt.weekofyear\n",
    "    return\n",
    "\n",
    "# handmade mapping\n",
    "browser = {'Chrome': 1, 'Safari': 2, 'Firefox': 3, 'Internet Explorer': 4, 'Edge': 5, \n",
    "           'Android Webview': 0, 'Safari (in-app)': 0, 'Opera Mini': 0, 'Opera': 0,\n",
    "           'UC Browser': 0}\n",
    "category = {'desktop': 1, 'mobile': 2, 'tablet': 3}\n",
    "operatingSystem = {'Windows': 1, 'Macintosh': 2, 'Android': 3, 'iOS': 4,'Linux': 5,\n",
    "    'Chrome OS': 6, '(not set)': 0, 'Windows Phone': 0, 'BlackBerry': 0, 'Samsung': 0}"
   ]
  },
  {
   "cell_type": "code",
   "execution_count": 3,
   "metadata": {},
   "outputs": [
    {
     "name": "stderr",
     "output_type": "stream",
     "text": [
      "/anaconda3/lib/python3.6/site-packages/numpy/lib/arraysetops.py:466: FutureWarning: elementwise comparison failed; returning scalar instead, but in the future will perform elementwise comparison\n",
      "  mask |= (ar1 == a)\n"
     ]
    }
   ],
   "source": [
    "df = pd.read_csv('../data/train_v2_cleaned.csv', index_col=0, parse_dates=['visitStartTime'], dtype={'fullVisitorId': 'str'})"
   ]
  },
  {
   "cell_type": "code",
   "execution_count": 4,
   "metadata": {},
   "outputs": [
    {
     "data": {
      "text/html": [
       "<div>\n",
       "<style scoped>\n",
       "    .dataframe tbody tr th:only-of-type {\n",
       "        vertical-align: middle;\n",
       "    }\n",
       "\n",
       "    .dataframe tbody tr th {\n",
       "        vertical-align: top;\n",
       "    }\n",
       "\n",
       "    .dataframe thead th {\n",
       "        text-align: right;\n",
       "    }\n",
       "</style>\n",
       "<table border=\"1\" class=\"dataframe\">\n",
       "  <thead>\n",
       "    <tr style=\"text-align: right;\">\n",
       "      <th></th>\n",
       "      <th>channelGrouping</th>\n",
       "      <th>fullVisitorId</th>\n",
       "      <th>visitNumber</th>\n",
       "      <th>visitStartTime</th>\n",
       "      <th>browser</th>\n",
       "      <th>deviceCategory</th>\n",
       "      <th>operatingSystem</th>\n",
       "      <th>city</th>\n",
       "      <th>country</th>\n",
       "      <th>region</th>\n",
       "      <th>subContinent</th>\n",
       "      <th>adContent</th>\n",
       "      <th>adPosition</th>\n",
       "      <th>campaign</th>\n",
       "      <th>isTrueDirect</th>\n",
       "      <th>medium</th>\n",
       "      <th>source</th>\n",
       "      <th>timeOnSite</th>\n",
       "      <th>totalTransactionRevenue</th>\n",
       "      <th>transactions</th>\n",
       "      <th>prevPurchases</th>\n",
       "    </tr>\n",
       "  </thead>\n",
       "  <tbody>\n",
       "    <tr>\n",
       "      <th>0</th>\n",
       "      <td>Direct</td>\n",
       "      <td>0423043652415339154</td>\n",
       "      <td>3.0</td>\n",
       "      <td>2016-08-01 07:00:12</td>\n",
       "      <td>Safari</td>\n",
       "      <td>mobile</td>\n",
       "      <td>iOS</td>\n",
       "      <td>not available in demo dataset</td>\n",
       "      <td>United States</td>\n",
       "      <td>United States</td>\n",
       "      <td>Northern America</td>\n",
       "      <td>NaN</td>\n",
       "      <td>NaN</td>\n",
       "      <td>(not set)</td>\n",
       "      <td>True</td>\n",
       "      <td>(none)</td>\n",
       "      <td>(direct)</td>\n",
       "      <td>NaN</td>\n",
       "      <td>0.0</td>\n",
       "      <td>NaN</td>\n",
       "      <td>0.0</td>\n",
       "    </tr>\n",
       "    <tr>\n",
       "      <th>1</th>\n",
       "      <td>Social</td>\n",
       "      <td>8294721032567046680</td>\n",
       "      <td>1.0</td>\n",
       "      <td>2016-08-01 07:04:26</td>\n",
       "      <td>Chrome</td>\n",
       "      <td>desktop</td>\n",
       "      <td>Windows</td>\n",
       "      <td>not available in demo dataset</td>\n",
       "      <td>Thailand</td>\n",
       "      <td>Thailand</td>\n",
       "      <td>Southeast Asia</td>\n",
       "      <td>NaN</td>\n",
       "      <td>NaN</td>\n",
       "      <td>(not set)</td>\n",
       "      <td>NaN</td>\n",
       "      <td>referral</td>\n",
       "      <td>youtube.com</td>\n",
       "      <td>NaN</td>\n",
       "      <td>0.0</td>\n",
       "      <td>NaN</td>\n",
       "      <td>0.0</td>\n",
       "    </tr>\n",
       "    <tr>\n",
       "      <th>2</th>\n",
       "      <td>Organic Search</td>\n",
       "      <td>7718623669497357235</td>\n",
       "      <td>1.0</td>\n",
       "      <td>2016-08-01 07:04:41</td>\n",
       "      <td>Amazon Silk</td>\n",
       "      <td>tablet</td>\n",
       "      <td>Android</td>\n",
       "      <td>not available in demo dataset</td>\n",
       "      <td>United States</td>\n",
       "      <td>United States</td>\n",
       "      <td>Northern America</td>\n",
       "      <td>NaN</td>\n",
       "      <td>NaN</td>\n",
       "      <td>(not set)</td>\n",
       "      <td>NaN</td>\n",
       "      <td>organic</td>\n",
       "      <td>google</td>\n",
       "      <td>40.0</td>\n",
       "      <td>0.0</td>\n",
       "      <td>NaN</td>\n",
       "      <td>0.0</td>\n",
       "    </tr>\n",
       "    <tr>\n",
       "      <th>3</th>\n",
       "      <td>Organic Search</td>\n",
       "      <td>4798058133221713505</td>\n",
       "      <td>1.0</td>\n",
       "      <td>2016-08-01 07:06:01</td>\n",
       "      <td>Chrome</td>\n",
       "      <td>desktop</td>\n",
       "      <td>Windows</td>\n",
       "      <td>not available in demo dataset</td>\n",
       "      <td>Canada</td>\n",
       "      <td>Canada</td>\n",
       "      <td>Northern America</td>\n",
       "      <td>NaN</td>\n",
       "      <td>NaN</td>\n",
       "      <td>(not set)</td>\n",
       "      <td>NaN</td>\n",
       "      <td>organic</td>\n",
       "      <td>google</td>\n",
       "      <td>89.0</td>\n",
       "      <td>0.0</td>\n",
       "      <td>NaN</td>\n",
       "      <td>0.0</td>\n",
       "    </tr>\n",
       "    <tr>\n",
       "      <th>4</th>\n",
       "      <td>Direct</td>\n",
       "      <td>5076747981380011349</td>\n",
       "      <td>1.0</td>\n",
       "      <td>2016-08-01 07:06:10</td>\n",
       "      <td>Chrome</td>\n",
       "      <td>desktop</td>\n",
       "      <td>Windows</td>\n",
       "      <td>Quezon City</td>\n",
       "      <td>Philippines</td>\n",
       "      <td>Metro Manila</td>\n",
       "      <td>Southeast Asia</td>\n",
       "      <td>NaN</td>\n",
       "      <td>NaN</td>\n",
       "      <td>(not set)</td>\n",
       "      <td>True</td>\n",
       "      <td>(none)</td>\n",
       "      <td>(direct)</td>\n",
       "      <td>NaN</td>\n",
       "      <td>0.0</td>\n",
       "      <td>NaN</td>\n",
       "      <td>0.0</td>\n",
       "    </tr>\n",
       "  </tbody>\n",
       "</table>\n",
       "</div>"
      ],
      "text/plain": [
       "  channelGrouping        fullVisitorId  visitNumber      visitStartTime  \\\n",
       "0          Direct  0423043652415339154          3.0 2016-08-01 07:00:12   \n",
       "1          Social  8294721032567046680          1.0 2016-08-01 07:04:26   \n",
       "2  Organic Search  7718623669497357235          1.0 2016-08-01 07:04:41   \n",
       "3  Organic Search  4798058133221713505          1.0 2016-08-01 07:06:01   \n",
       "4          Direct  5076747981380011349          1.0 2016-08-01 07:06:10   \n",
       "\n",
       "       browser deviceCategory operatingSystem                           city  \\\n",
       "0       Safari         mobile             iOS  not available in demo dataset   \n",
       "1       Chrome        desktop         Windows  not available in demo dataset   \n",
       "2  Amazon Silk         tablet         Android  not available in demo dataset   \n",
       "3       Chrome        desktop         Windows  not available in demo dataset   \n",
       "4       Chrome        desktop         Windows                    Quezon City   \n",
       "\n",
       "         country         region      subContinent adContent adPosition  \\\n",
       "0  United States  United States  Northern America       NaN        NaN   \n",
       "1       Thailand       Thailand    Southeast Asia       NaN        NaN   \n",
       "2  United States  United States  Northern America       NaN        NaN   \n",
       "3         Canada         Canada  Northern America       NaN        NaN   \n",
       "4    Philippines   Metro Manila    Southeast Asia       NaN        NaN   \n",
       "\n",
       "    campaign isTrueDirect    medium       source  timeOnSite  \\\n",
       "0  (not set)         True    (none)     (direct)         NaN   \n",
       "1  (not set)          NaN  referral  youtube.com         NaN   \n",
       "2  (not set)          NaN   organic       google        40.0   \n",
       "3  (not set)          NaN   organic       google        89.0   \n",
       "4  (not set)         True    (none)     (direct)         NaN   \n",
       "\n",
       "   totalTransactionRevenue  transactions  prevPurchases  \n",
       "0                      0.0           NaN            0.0  \n",
       "1                      0.0           NaN            0.0  \n",
       "2                      0.0           NaN            0.0  \n",
       "3                      0.0           NaN            0.0  \n",
       "4                      0.0           NaN            0.0  "
      ]
     },
     "execution_count": 4,
     "metadata": {},
     "output_type": "execute_result"
    }
   ],
   "source": [
    "df.head()"
   ]
  },
  {
   "cell_type": "code",
   "execution_count": 5,
   "metadata": {},
   "outputs": [],
   "source": [
    "train_data = df.copy()\n",
    "\n",
    "train_data[\"browser\"] = train_data[\"browser\"].map(browser)\n",
    "train_data[\"deviceCategory\"] = train_data[\"deviceCategory\"].map(category)\n",
    "train_data[\"operatingSystem\"] = train_data[\"operatingSystem\"].map(operatingSystem)\n",
    "\n",
    "cat_cols = [\"channelGrouping\", \"city\", \"browser\", \"country\", \"region\",\n",
    "            \"subContinent\", 'isTrueDirect', 'medium', \"deviceCategory\",\n",
    "            \"source\", \"adContent\", \"adPosition\", \"campaign\", \"operatingSystem\"]\n",
    "\n",
    "labelencoder = preprocessing.LabelEncoder()\n",
    "for c in cat_cols:\n",
    "    train_data[c] = labelencoder.fit_transform(train_data[c].astype(str))\n",
    "    labels = train_data[c]\n",
    "    labelencoder.fit(labels)\n",
    "    labels = labelencoder.transform(labels)\n",
    "    \n",
    "extract_date_info(train_data, 'month')\n",
    "extract_date_info(train_data, 'weekday')\n",
    "extract_date_info(train_data, 'weekofyear')\n",
    "extract_date_info(train_data, 'hour')\n",
    "train_data.drop(['visitStartTime'], axis=1, inplace=True)\n",
    "train_data.drop(['medium', \"source\", \"adPosition\", \"campaign\"], axis=1, inplace=True)"
   ]
  },
  {
   "cell_type": "markdown",
   "metadata": {},
   "source": [
    "### Class orientation"
   ]
  },
  {
   "cell_type": "code",
   "execution_count": 6,
   "metadata": {},
   "outputs": [],
   "source": [
    "train_cero = pd.DataFrame()\n",
    "train_aux = pd.DataFrame()\n",
    "train_merge = pd.DataFrame()\n",
    "\n",
    "train_cero = train_data[train_data.totalTransactionRevenue == 0]\n",
    "train_aux = train_data[train_data.totalTransactionRevenue > 0]\n",
    "Q1 = train_aux['totalTransactionRevenue'].quantile(0.25)\n",
    "Q3 = train_aux['totalTransactionRevenue'].quantile(0.75)\n",
    "IQR = Q3 - Q1\n",
    "train_aux = train_aux[train_aux['totalTransactionRevenue'] > (Q3+1.5*IQR)]\n",
    "\n",
    "train_merge = train_merge.append(train_cero.sample(int(train_aux.shape[0])*7))\n",
    "train_merge = train_merge.append(train_aux)"
   ]
  },
  {
   "cell_type": "code",
   "execution_count": 7,
   "metadata": {},
   "outputs": [],
   "source": [
    "X = train_merge.drop(['totalTransactionRevenue', 'timeOnSite', 'transactions', 'fullVisitorId'], axis=1)\n",
    "y = train_merge['totalTransactionRevenue']\n",
    "y_binary = y.apply(lambda x: x if x == 0 else 1)"
   ]
  },
  {
   "cell_type": "code",
   "execution_count": 8,
   "metadata": {},
   "outputs": [],
   "source": [
    "train_x = X\n",
    "train_y = y_binary"
   ]
  },
  {
   "cell_type": "code",
   "execution_count": 9,
   "metadata": {},
   "outputs": [],
   "source": [
    "clf = RandomForestClassifier(n_estimators=200, max_depth=40,\n",
    "                            random_state=1, class_weight={0:.1, 1:.9})"
   ]
  },
  {
   "cell_type": "code",
   "execution_count": 10,
   "metadata": {},
   "outputs": [
    {
     "data": {
      "text/plain": [
       "RandomForestClassifier(bootstrap=True, class_weight={0: 0.1, 1: 0.9},\n",
       "            criterion='gini', max_depth=40, max_features='auto',\n",
       "            max_leaf_nodes=None, min_impurity_decrease=0.0,\n",
       "            min_impurity_split=None, min_samples_leaf=1,\n",
       "            min_samples_split=2, min_weight_fraction_leaf=0.0,\n",
       "            n_estimators=200, n_jobs=1, oob_score=False, random_state=1,\n",
       "            verbose=0, warm_start=False)"
      ]
     },
     "execution_count": 10,
     "metadata": {},
     "output_type": "execute_result"
    }
   ],
   "source": [
    "clf.fit(train_x, train_y)"
   ]
  },
  {
   "cell_type": "code",
   "execution_count": 11,
   "metadata": {},
   "outputs": [
    {
     "name": "stdout",
     "output_type": "stream",
     "text": [
      "country :  0.17469030335614483\n",
      "visitNumber :  0.13543831679577337\n",
      "subContinent :  0.07762584884994332\n",
      "hour :  0.07600344563093751\n",
      "weekofyear :  0.0753667194124979\n",
      "deviceCategory :  0.07019233602703523\n",
      "channelGrouping :  0.06240592570502895\n",
      "isTrueDirect :  0.054633435184832324\n",
      "operatingSystem :  0.05014153315350687\n",
      "weekday :  0.048010519122435584\n",
      "month :  0.04115905712551576\n",
      "city :  0.040945804507155736\n",
      "region :  0.034675462872228044\n",
      "prevPurchases :  0.031903171176525115\n",
      "browser :  0.023807872272935217\n",
      "adContent :  0.003000248807504181\n"
     ]
    }
   ],
   "source": [
    "featImportance, featCols = (list(t) for t in zip(*sorted(zip(clf.feature_importances_, list(train_x)), reverse=True)))\n",
    "for i in range(len(featCols)):\n",
    "    print(featCols[i], \": \", featImportance[i])"
   ]
  },
  {
   "cell_type": "markdown",
   "metadata": {},
   "source": [
    "#### Test with test.csv"
   ]
  },
  {
   "cell_type": "code",
   "execution_count": 12,
   "metadata": {},
   "outputs": [],
   "source": [
    "test = pd.read_csv('../data/test_v2_cleaned.csv', index_col=0, parse_dates=['visitStartTime'], dtype={'fullVisitorId': 'str'})"
   ]
  },
  {
   "cell_type": "code",
   "execution_count": 13,
   "metadata": {},
   "outputs": [],
   "source": [
    "test_data = test.copy()\n",
    "\n",
    "test_data[\"browser\"] = test_data[\"browser\"].map(browser)\n",
    "test_data[\"deviceCategory\"] = test_data[\"deviceCategory\"].map(category)\n",
    "test_data[\"operatingSystem\"] = test_data[\"operatingSystem\"].map(operatingSystem)\n",
    "\n",
    "cat_cols = [\"channelGrouping\", \"city\", \"browser\", \"country\", \"region\",\n",
    "            \"subContinent\", 'isTrueDirect', 'medium', \"deviceCategory\",\n",
    "            \"source\", \"adContent\", \"adPosition\", \"campaign\", \"operatingSystem\"]\n",
    "\n",
    "labelencoder = preprocessing.LabelEncoder()\n",
    "for c in cat_cols:\n",
    "    test_data[c] = labelencoder.fit_transform(test_data[c].astype(str))\n",
    "    labels = test_data[c]\n",
    "    labelencoder.fit(labels)\n",
    "    labels = labelencoder.transform(labels)\n",
    "    \n",
    "extract_date_info(test_data, 'month')\n",
    "extract_date_info(test_data, 'weekday')\n",
    "extract_date_info(test_data, 'weekofyear')\n",
    "extract_date_info(test_data, 'hour')\n",
    "test_data.drop(['visitStartTime'], axis=1, inplace=True)\n",
    "test_data.drop(['medium', \"source\", \"adPosition\", \"campaign\"], axis=1, inplace=True)"
   ]
  },
  {
   "cell_type": "code",
   "execution_count": 14,
   "metadata": {},
   "outputs": [],
   "source": [
    "X_test = test_data.drop(['totalTransactionRevenue', 'timeOnSite', 'transactions', 'fullVisitorId'], axis=1)\n",
    "y_test = test_data['totalTransactionRevenue']\n",
    "y_test = y_test.apply(lambda x: x if x == 0 else 1)"
   ]
  },
  {
   "cell_type": "code",
   "execution_count": 15,
   "metadata": {},
   "outputs": [],
   "source": [
    "y_pred_test = clf.predict(X_test)"
   ]
  },
  {
   "cell_type": "code",
   "execution_count": 16,
   "metadata": {},
   "outputs": [
    {
     "name": "stdout",
     "output_type": "stream",
     "text": [
      "0.010306557201516974\n"
     ]
    }
   ],
   "source": [
    "print(mean_squared_error(y_test, y_pred_test))"
   ]
  },
  {
   "cell_type": "code",
   "execution_count": 17,
   "metadata": {},
   "outputs": [
    {
     "name": "stdout",
     "output_type": "stream",
     "text": [
      "             precision    recall  f1-score   support\n",
      "\n",
      "        0.0       0.99      1.00      0.99    396995\n",
      "        1.0       0.96      0.10      0.19      4594\n",
      "\n",
      "avg / total       0.99      0.99      0.99    401589\n",
      "\n"
     ]
    }
   ],
   "source": [
    "print(classification_report(y_test, y_pred_test))"
   ]
  },
  {
   "cell_type": "code",
   "execution_count": 18,
   "metadata": {},
   "outputs": [
    {
     "name": "stdout",
     "output_type": "stream",
     "text": [
      "[[396976     19]\n",
      " [  4120    474]]\n"
     ]
    }
   ],
   "source": [
    "print(confusion_matrix(y_test, y_pred_test))"
   ]
  },
  {
   "cell_type": "markdown",
   "metadata": {},
   "source": [
    "### Rebalanced training with classification hint"
   ]
  },
  {
   "cell_type": "code",
   "execution_count": 19,
   "metadata": {},
   "outputs": [],
   "source": [
    "train_data = df.copy()\n",
    "\n",
    "train_data[\"browser\"] = train_data[\"browser\"].map(browser)\n",
    "train_data[\"deviceCategory\"] = train_data[\"deviceCategory\"].map(category)\n",
    "train_data[\"operatingSystem\"] = train_data[\"operatingSystem\"].map(operatingSystem)\n",
    "\n",
    "cat_cols = [\"channelGrouping\", \"city\", \"browser\", \"country\", \"region\",\n",
    "            \"subContinent\", 'isTrueDirect', 'medium', \"deviceCategory\",\n",
    "            \"source\", \"adContent\", \"adPosition\", \"campaign\", \"operatingSystem\"]\n",
    "\n",
    "labelencoder = preprocessing.LabelEncoder()\n",
    "for c in cat_cols:\n",
    "    train_data[c] = labelencoder.fit_transform(train_data[c].astype(str))\n",
    "    labels = train_data[c]\n",
    "    labelencoder.fit(labels)\n",
    "    labels = labelencoder.transform(labels)\n",
    "    \n",
    "extract_date_info(train_data, 'month')\n",
    "extract_date_info(train_data, 'weekday')\n",
    "extract_date_info(train_data, 'weekofyear')\n",
    "extract_date_info(train_data, 'hour')\n",
    "train_data.drop(['visitStartTime'], axis=1, inplace=True)\n",
    "train_data.drop(['medium', \"source\", \"adPosition\", \"campaign\"], axis=1, inplace=True)"
   ]
  },
  {
   "cell_type": "code",
   "execution_count": 20,
   "metadata": {},
   "outputs": [],
   "source": [
    "train_cero = pd.DataFrame()\n",
    "train_aux = pd.DataFrame()\n",
    "train_merge = pd.DataFrame()\n",
    "\n",
    "train_cero = train_data[train_data.totalTransactionRevenue == 0]\n",
    "train_aux = train_data[train_data.totalTransactionRevenue > 0]\n",
    "\n",
    "train_merge = train_merge.append(train_cero.sample(int(train_aux.shape[0]/4.5)))\n",
    "train_merge = train_merge.append(train_aux)"
   ]
  },
  {
   "cell_type": "code",
   "execution_count": 21,
   "metadata": {},
   "outputs": [],
   "source": [
    "X = train_merge.drop(['totalTransactionRevenue', 'timeOnSite', 'transactions', 'fullVisitorId'], axis=1)\n",
    "X['classHint'] = clf.predict(X)\n",
    "y = train_merge['totalTransactionRevenue']\n",
    "y = np.log1p(y)"
   ]
  },
  {
   "cell_type": "code",
   "execution_count": 22,
   "metadata": {},
   "outputs": [],
   "source": [
    "train_x = X\n",
    "train_y = y"
   ]
  },
  {
   "cell_type": "code",
   "execution_count": 23,
   "metadata": {},
   "outputs": [],
   "source": [
    "regr = RandomForestRegressor(max_depth=20, random_state=0, n_estimators=200)"
   ]
  },
  {
   "cell_type": "code",
   "execution_count": 24,
   "metadata": {},
   "outputs": [
    {
     "data": {
      "text/plain": [
       "RandomForestRegressor(bootstrap=True, criterion='mse', max_depth=20,\n",
       "           max_features='auto', max_leaf_nodes=None,\n",
       "           min_impurity_decrease=0.0, min_impurity_split=None,\n",
       "           min_samples_leaf=1, min_samples_split=2,\n",
       "           min_weight_fraction_leaf=0.0, n_estimators=200, n_jobs=1,\n",
       "           oob_score=False, random_state=0, verbose=0, warm_start=False)"
      ]
     },
     "execution_count": 24,
     "metadata": {},
     "output_type": "execute_result"
    }
   ],
   "source": [
    "regr.fit(train_x, train_y)"
   ]
  },
  {
   "cell_type": "code",
   "execution_count": 25,
   "metadata": {},
   "outputs": [
    {
     "name": "stdout",
     "output_type": "stream",
     "text": [
      "country :  0.30472465263572884\n",
      "classHint :  0.16651183743124037\n",
      "weekofyear :  0.08914029276269203\n",
      "hour :  0.08175849678303714\n",
      "visitNumber :  0.06278250355924408\n",
      "weekday :  0.05121576242860057\n",
      "city :  0.0422797476289861\n",
      "channelGrouping :  0.03828785452738326\n",
      "region :  0.03194747580028781\n",
      "deviceCategory :  0.030989036028874407\n",
      "operatingSystem :  0.027055815332263276\n",
      "month :  0.026489646430213513\n",
      "subContinent :  0.013611666206911809\n",
      "browser :  0.011796285747500287\n",
      "isTrueDirect :  0.009132818509474396\n",
      "adContent :  0.0078150830180344\n",
      "prevPurchases :  0.004461025169527599\n"
     ]
    }
   ],
   "source": [
    "featImportance, featCols = (list(t) for t in zip(*sorted(zip(regr.feature_importances_, list(train_x)), reverse=True)))\n",
    "for i in range(len(featCols)):\n",
    "    print(featCols[i], \": \", featImportance[i])"
   ]
  },
  {
   "cell_type": "markdown",
   "metadata": {},
   "source": [
    "#### Test with test.csv"
   ]
  },
  {
   "cell_type": "code",
   "execution_count": 26,
   "metadata": {},
   "outputs": [],
   "source": [
    "test = pd.read_csv('../data/test_v2_cleaned.csv', index_col=0, parse_dates=['visitStartTime'], dtype={'fullVisitorId': 'str'})"
   ]
  },
  {
   "cell_type": "code",
   "execution_count": 27,
   "metadata": {},
   "outputs": [],
   "source": [
    "test_data = test.copy()\n",
    "\n",
    "test_data[\"browser\"] = test_data[\"browser\"].map(browser)\n",
    "test_data[\"deviceCategory\"] = test_data[\"deviceCategory\"].map(category)\n",
    "test_data[\"operatingSystem\"] = test_data[\"operatingSystem\"].map(operatingSystem)\n",
    "\n",
    "cat_cols = [\"channelGrouping\", \"city\", \"browser\", \"country\", \"region\",\n",
    "            \"subContinent\", 'isTrueDirect', 'medium', \"deviceCategory\",\n",
    "            \"source\", \"adContent\", \"adPosition\", \"campaign\", \"operatingSystem\"]\n",
    "\n",
    "labelencoder = preprocessing.LabelEncoder()\n",
    "for c in cat_cols:\n",
    "    test_data[c] = labelencoder.fit_transform(test_data[c].astype(str))\n",
    "    labels = test_data[c]\n",
    "    labelencoder.fit(labels)\n",
    "    labels = labelencoder.transform(labels)\n",
    "    \n",
    "extract_date_info(test_data, 'month')\n",
    "extract_date_info(test_data, 'weekday')\n",
    "extract_date_info(test_data, 'weekofyear')\n",
    "extract_date_info(test_data, 'hour')\n",
    "test_data.drop(['visitStartTime'], axis=1, inplace=True)\n",
    "test_data.drop(['medium', \"source\", \"adPosition\", \"campaign\"], axis=1, inplace=True)"
   ]
  },
  {
   "cell_type": "code",
   "execution_count": 28,
   "metadata": {},
   "outputs": [],
   "source": [
    "X_test = test_data.drop(['totalTransactionRevenue', 'timeOnSite', 'transactions', 'fullVisitorId'], axis=1)\n",
    "X_test['classHint'] = clf.predict(X_test)\n",
    "y_test = test_data['totalTransactionRevenue']\n",
    "y_test = np.log1p(y_test)"
   ]
  },
  {
   "cell_type": "code",
   "execution_count": 29,
   "metadata": {},
   "outputs": [],
   "source": [
    "y_pred_test = regr.predict(X_test)"
   ]
  },
  {
   "cell_type": "code",
   "execution_count": 30,
   "metadata": {},
   "outputs": [
    {
     "name": "stdout",
     "output_type": "stream",
     "text": [
      "1.5367903265246439\n"
     ]
    }
   ],
   "source": [
    "print(mean_squared_error(y_test, y_pred_test))"
   ]
  },
  {
   "cell_type": "code",
   "execution_count": 31,
   "metadata": {},
   "outputs": [
    {
     "name": "stdout",
     "output_type": "stream",
     "text": [
      "0    2.986849\n",
      "dtype: float64\n",
      "totalTransactionRevenue    1.534261\n",
      "dtype: float64\n"
     ]
    }
   ],
   "source": [
    "# undo the log to check the real values\n",
    "y_pred_test = pd.DataFrame(y_pred_test).apply(lambda x: np.expm1(x))\n",
    "y_test = pd.DataFrame(y_test).apply(lambda x: np.expm1(x))\n",
    "print(y_pred_test.mean())\n",
    "print(y_test.mean())"
   ]
  },
  {
   "cell_type": "code",
   "execution_count": 32,
   "metadata": {},
   "outputs": [
    {
     "data": {
      "text/plain": [
       "0    0.894483\n",
       "dtype: float64"
      ]
     },
     "execution_count": 32,
     "metadata": {},
     "output_type": "execute_result"
    }
   ],
   "source": [
    "y_pred_test.median()"
   ]
  },
  {
   "cell_type": "code",
   "execution_count": 33,
   "metadata": {},
   "outputs": [
    {
     "data": {
      "text/html": [
       "<div>\n",
       "<style scoped>\n",
       "    .dataframe tbody tr th:only-of-type {\n",
       "        vertical-align: middle;\n",
       "    }\n",
       "\n",
       "    .dataframe tbody tr th {\n",
       "        vertical-align: top;\n",
       "    }\n",
       "\n",
       "    .dataframe thead th {\n",
       "        text-align: right;\n",
       "    }\n",
       "</style>\n",
       "<table border=\"1\" class=\"dataframe\">\n",
       "  <thead>\n",
       "    <tr style=\"text-align: right;\">\n",
       "      <th></th>\n",
       "      <th>0</th>\n",
       "    </tr>\n",
       "  </thead>\n",
       "  <tbody>\n",
       "    <tr>\n",
       "      <th>count</th>\n",
       "      <td>401589.000000</td>\n",
       "    </tr>\n",
       "    <tr>\n",
       "      <th>mean</th>\n",
       "      <td>2.986849</td>\n",
       "    </tr>\n",
       "    <tr>\n",
       "      <th>std</th>\n",
       "      <td>7.765001</td>\n",
       "    </tr>\n",
       "    <tr>\n",
       "      <th>min</th>\n",
       "      <td>0.000000</td>\n",
       "    </tr>\n",
       "    <tr>\n",
       "      <th>25%</th>\n",
       "      <td>0.318933</td>\n",
       "    </tr>\n",
       "    <tr>\n",
       "      <th>50%</th>\n",
       "      <td>0.894483</td>\n",
       "    </tr>\n",
       "    <tr>\n",
       "      <th>75%</th>\n",
       "      <td>2.860894</td>\n",
       "    </tr>\n",
       "    <tr>\n",
       "      <th>max</th>\n",
       "      <td>797.173588</td>\n",
       "    </tr>\n",
       "  </tbody>\n",
       "</table>\n",
       "</div>"
      ],
      "text/plain": [
       "                   0\n",
       "count  401589.000000\n",
       "mean        2.986849\n",
       "std         7.765001\n",
       "min         0.000000\n",
       "25%         0.318933\n",
       "50%         0.894483\n",
       "75%         2.860894\n",
       "max       797.173588"
      ]
     },
     "execution_count": 33,
     "metadata": {},
     "output_type": "execute_result"
    }
   ],
   "source": [
    "y_pred_test.describe()"
   ]
  },
  {
   "cell_type": "code",
   "execution_count": 34,
   "metadata": {},
   "outputs": [],
   "source": [
    "y_final_res = y_pred_test[0].apply(lambda x: x if x > 1.3 else 0)\n",
    "y_final_res_purchases = y_final_res[y_final_res>0]"
   ]
  },
  {
   "cell_type": "code",
   "execution_count": 35,
   "metadata": {},
   "outputs": [
    {
     "name": "stdout",
     "output_type": "stream",
     "text": [
      "2.736426977676951\n",
      "6.440248800280773\n"
     ]
    }
   ],
   "source": [
    "print(y_final_res.mean())\n",
    "print(y_final_res_purchases.mean())"
   ]
  },
  {
   "cell_type": "code",
   "execution_count": 36,
   "metadata": {},
   "outputs": [
    {
     "name": "stdout",
     "output_type": "stream",
     "text": [
      "             precision    recall  f1-score   support\n",
      "\n",
      "        0.0       1.00      0.58      0.73    396995\n",
      "        1.0       0.02      0.83      0.04      4594\n",
      "\n",
      "avg / total       0.99      0.58      0.73    401589\n",
      "\n"
     ]
    }
   ],
   "source": [
    "# binary evaluation of the results casting to zero all the values smaller that 1.3\n",
    "y_pred_test_binary = pd.DataFrame(y_final_res)[0].apply(lambda x: x if x == 0 else 1)\n",
    "y_test_binary = pd.DataFrame(y_test)['totalTransactionRevenue'].apply(lambda x: x if x == 0 else 1)\n",
    "print(classification_report(y_test_binary, y_pred_test_binary))"
   ]
  },
  {
   "cell_type": "code",
   "execution_count": 37,
   "metadata": {},
   "outputs": [
    {
     "name": "stdout",
     "output_type": "stream",
     "text": [
      "[[230173 166822]\n",
      " [   783   3811]]\n"
     ]
    }
   ],
   "source": [
    "print(confusion_matrix(y_test_binary, y_pred_test_binary))"
   ]
  },
  {
   "cell_type": "code",
   "execution_count": 38,
   "metadata": {},
   "outputs": [
    {
     "name": "stdout",
     "output_type": "stream",
     "text": [
      "             precision    recall  f1-score   support\n",
      "\n",
      "        0.0       1.00      0.04      0.08    396995\n",
      "        1.0       0.01      1.00      0.02      4594\n",
      "\n",
      "avg / total       0.99      0.05      0.08    401589\n",
      "\n"
     ]
    }
   ],
   "source": [
    "# binary evaluation of the results\n",
    "y_pred_test_binary = pd.DataFrame(y_pred_test)[0].apply(lambda x: x if x == 0 else 1)\n",
    "y_test_binary = pd.DataFrame(y_test)['totalTransactionRevenue'].apply(lambda x: x if x == 0 else 1)\n",
    "print(classification_report(y_test_binary, y_pred_test_binary))"
   ]
  },
  {
   "cell_type": "code",
   "execution_count": 39,
   "metadata": {},
   "outputs": [
    {
     "name": "stdout",
     "output_type": "stream",
     "text": [
      "[[ 17279 379716]\n",
      " [     0   4594]]\n"
     ]
    }
   ],
   "source": [
    "print(confusion_matrix(y_test_binary, y_pred_test_binary))"
   ]
  },
  {
   "cell_type": "code",
   "execution_count": 40,
   "metadata": {},
   "outputs": [],
   "source": [
    "# (TP+FP)*2 - TP*142"
   ]
  }
 ],
 "metadata": {
  "kernelspec": {
   "display_name": "Python 3",
   "language": "python",
   "name": "python3"
  },
  "language_info": {
   "codemirror_mode": {
    "name": "ipython",
    "version": 3
   },
   "file_extension": ".py",
   "mimetype": "text/x-python",
   "name": "python",
   "nbconvert_exporter": "python",
   "pygments_lexer": "ipython3",
   "version": "3.6.4"
  }
 },
 "nbformat": 4,
 "nbformat_minor": 2
}
