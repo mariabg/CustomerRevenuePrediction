{
 "cells": [
  {
   "cell_type": "markdown",
   "metadata": {},
   "source": [
    "## Turn this into a good-looking-informative-cell\n",
    "#### The output .csv file will contain the following fields\n",
    "    - channelGrouping\n",
    "    - fullVisitorId\n",
    "    - visitId\n",
    "    - visitNumber\n",
    "    - visitStartTime\n",
    "    - browser\n",
    "    - deviceCategory\n",
    "    - operatingSystem\n",
    "    - city\n",
    "    - country\n",
    "    - region\n",
    "    - subContinent\n",
    "    - hits\n",
    "    - newVisits\n",
    "    - *timeOnSite*\n",
    "    - totalTransactionRevenue\n",
    "    - *transactions dividir esto*\n",
    "    - adHasContent\n",
    "    - adPosition\n",
    "    - campaign\n",
    "    - isTrueDirect\n",
    "    - medium\n",
    "    - source"
   ]
  },
  {
   "cell_type": "markdown",
   "metadata": {},
   "source": [
    "### Funciones usadas en el Notebook"
   ]
  },
  {
   "cell_type": "code",
   "execution_count": 12,
   "metadata": {},
   "outputs": [],
   "source": [
    "# recursive flatten function from https://towardsdatascience.com/flattening-json-objects-in-python-f5343c794b10\n",
    "# Call example:\n",
    "  # flattenCol = [flatten_json(json.loads(d)) for d in df['trafficSource']]\n",
    "  # dataFrameOfFlattenCol = pd.DataFrame(flattenCol)\n",
    "def flatten_json(y):\n",
    "    out = {}\n",
    "\n",
    "    def flatten(x, name=''):\n",
    "        if type(x) is dict:\n",
    "            for a in x:\n",
    "                flatten(x[a], name + a + '_')\n",
    "        elif type(x) is list:\n",
    "            i = 0\n",
    "            for a in x:\n",
    "                flatten(a, name + str(i) + '_')\n",
    "                i += 1\n",
    "        else:\n",
    "            out[name[:-1]] = x\n",
    "\n",
    "    flatten(y)\n",
    "    return out\n",
    "\n",
    "def region_country(geo):\n",
    "    if geo['region'] == '(not set)':\n",
    "        return geo['country']\n",
    "    elif geo['region'] == 'not available in demo dataset':\n",
    "        return geo['country']\n",
    "    else:\n",
    "        return geo['region']"
   ]
  },
  {
   "cell_type": "markdown",
   "metadata": {},
   "source": [
    "### Importación de librerías y datos (separándolos a través de comandos bash)"
   ]
  },
  {
   "cell_type": "code",
   "execution_count": 11,
   "metadata": {},
   "outputs": [],
   "source": [
    "import pandas as pd\n",
    "import glob\n",
    "import json\n",
    "import numpy as np\n",
    "\n",
    "pd.set_option('display.max_columns', 30)"
   ]
  },
  {
   "cell_type": "code",
   "execution_count": 11,
   "metadata": {},
   "outputs": [
    {
     "name": "stdout",
     "output_type": "stream",
     "text": [
      "/bin/sh: line 0: cd: datasetPath: No such file or directory\r\n"
     ]
    }
   ],
   "source": []
  },
  {
   "cell_type": "code",
   "execution_count": 13,
   "metadata": {},
   "outputs": [
    {
     "name": "stdout",
     "output_type": "stream",
     "text": [
      "^C\n",
      "split: illegal option -- -\n",
      "usage: split [-a sufflen] [-b byte_count] [-l line_count] [-p pattern]\n",
      "             [file [prefix]]\n",
      "/bin/sh: `csv!': not a valid identifier\n"
     ]
    }
   ],
   "source": [
    "# TO DO: merge these two cells\n",
    "\n",
    "# bash commands for splitting a huge dataset into several smaller ones (~1.5GB size each)\n",
    "!rm -r -f ../data/tempSplittedData\n",
    "!mkdir ../data/tempSplittedData\n",
    "!mv ../data/train_v2.csv ../data/tempSplittedData\n",
    "!cd ../data/tempSplittedData/ && head -n 1 train_v2.csv > headerfile\n",
    "!cd ../data/tempSplittedData && tail -n +2 train_v2.csv > train_v2.tmp && mv train_v2.tmp train_v2.csv\n",
    "!cd ../data/tempSplittedData && split -l 100000 --additional-suffix=.csv train_v2.csv\n",
    "!for csv! in *.csv; do cat headerfile $csv > tmpfile2; mv tmpfile2 $csv; done\n",
    "!mv ../data/tempSplittedData/train_v2.csv ../data/\n",
    "!rm ../data/tempSplittedData/headerfile"
   ]
  },
  {
   "cell_type": "code",
   "execution_count": 14,
   "metadata": {},
   "outputs": [
    {
     "name": "stdout",
     "output_type": "stream",
     "text": [
      "cut: [-cf] list: illegal list value\r\n"
     ]
    }
   ],
   "source": [
    "!cd ../data/ && cut -d, -fhits --complement train_v2.csv "
   ]
  },
  {
   "cell_type": "code",
   "execution_count": 37,
   "metadata": {},
   "outputs": [],
   "source": [
    "allFiles = glob.glob(\"../data/tempSplittedData/*.csv\")\n",
    "df = pd.DataFrame({'channelGrouping': [],\n",
    "                    'device': [],\n",
    "                    'fullVisitorId': [],\n",
    "                    'geoNetwork': [],\n",
    "                    'socialEngagementType': [],\n",
    "                    'totals': [],\n",
    "                    'trafficSource': [],\n",
    "                    'visitNumber': [],\n",
    "                    'visitStartTime': []})\n",
    "\n",
    "for fl in allFiles:\n",
    "    temp = pd.read_csv(fl, usecols=[\"channelGrouping\", \"date\", \"device\", \"fullVisitorId\", \"geoNetwork\",\n",
    "                                    \"socialEngagementType\", \"totals\", \"trafficSource\", \"visitId\", \"visitNumber\",\n",
    "                                    \"visitStartTime\"], header=0, dtype={'fullVisitorId': 'str'})\n",
    "    # we leave out hits, customDimensions and date\n",
    "    temp.drop(columns=[\"date\", \"visitId\"], axis=1, inplace=True)\n",
    "    df.append(temp, ignore_index=True, inplace=True)\n",
    "\n",
    "# remove the splitted files\n",
    "!rm -r \"../data/tempSplittedData\""
   ]
  },
  {
   "cell_type": "code",
   "execution_count": 38,
   "metadata": {},
   "outputs": [
    {
     "data": {
      "text/html": [
       "<div>\n",
       "<style scoped>\n",
       "    .dataframe tbody tr th:only-of-type {\n",
       "        vertical-align: middle;\n",
       "    }\n",
       "\n",
       "    .dataframe tbody tr th {\n",
       "        vertical-align: top;\n",
       "    }\n",
       "\n",
       "    .dataframe thead th {\n",
       "        text-align: right;\n",
       "    }\n",
       "</style>\n",
       "<table border=\"1\" class=\"dataframe\">\n",
       "  <thead>\n",
       "    <tr style=\"text-align: right;\">\n",
       "      <th></th>\n",
       "      <th>channelGrouping</th>\n",
       "      <th>device</th>\n",
       "      <th>fullVisitorId</th>\n",
       "      <th>geoNetwork</th>\n",
       "      <th>socialEngagementType</th>\n",
       "      <th>totals</th>\n",
       "      <th>trafficSource</th>\n",
       "      <th>visitNumber</th>\n",
       "      <th>visitStartTime</th>\n",
       "    </tr>\n",
       "  </thead>\n",
       "  <tbody>\n",
       "    <tr>\n",
       "      <th>count</th>\n",
       "      <td>1708337</td>\n",
       "      <td>1708337</td>\n",
       "      <td>1708337</td>\n",
       "      <td>1708337</td>\n",
       "      <td>1708337</td>\n",
       "      <td>1708337</td>\n",
       "      <td>1708337</td>\n",
       "      <td>1.708337e+06</td>\n",
       "      <td>1.708337e+06</td>\n",
       "    </tr>\n",
       "    <tr>\n",
       "      <th>unique</th>\n",
       "      <td>8</td>\n",
       "      <td>298</td>\n",
       "      <td>1323730</td>\n",
       "      <td>59955</td>\n",
       "      <td>1</td>\n",
       "      <td>252374</td>\n",
       "      <td>76637</td>\n",
       "      <td>NaN</td>\n",
       "      <td>NaN</td>\n",
       "    </tr>\n",
       "    <tr>\n",
       "      <th>top</th>\n",
       "      <td>Organic Search</td>\n",
       "      <td>{\"browser\": \"Chrome\", \"browserVersion\": \"not a...</td>\n",
       "      <td>1957458976293878100</td>\n",
       "      <td>{\"continent\": \"Americas\", \"subContinent\": \"Nor...</td>\n",
       "      <td>Not Socially Engaged</td>\n",
       "      <td>{\"visits\": \"1\", \"hits\": \"1\", \"pageviews\": \"1\",...</td>\n",
       "      <td>{\"campaign\": \"(not set)\", \"source\": \"google\", ...</td>\n",
       "      <td>NaN</td>\n",
       "      <td>NaN</td>\n",
       "    </tr>\n",
       "    <tr>\n",
       "      <th>freq</th>\n",
       "      <td>738963</td>\n",
       "      <td>504589</td>\n",
       "      <td>400</td>\n",
       "      <td>132962</td>\n",
       "      <td>1708337</td>\n",
       "      <td>350177</td>\n",
       "      <td>460901</td>\n",
       "      <td>NaN</td>\n",
       "      <td>NaN</td>\n",
       "    </tr>\n",
       "    <tr>\n",
       "      <th>mean</th>\n",
       "      <td>NaN</td>\n",
       "      <td>NaN</td>\n",
       "      <td>NaN</td>\n",
       "      <td>NaN</td>\n",
       "      <td>NaN</td>\n",
       "      <td>NaN</td>\n",
       "      <td>NaN</td>\n",
       "      <td>2.335170e+00</td>\n",
       "      <td>1.498352e+09</td>\n",
       "    </tr>\n",
       "    <tr>\n",
       "      <th>std</th>\n",
       "      <td>NaN</td>\n",
       "      <td>NaN</td>\n",
       "      <td>NaN</td>\n",
       "      <td>NaN</td>\n",
       "      <td>NaN</td>\n",
       "      <td>NaN</td>\n",
       "      <td>NaN</td>\n",
       "      <td>9.354034e+00</td>\n",
       "      <td>1.624937e+07</td>\n",
       "    </tr>\n",
       "    <tr>\n",
       "      <th>min</th>\n",
       "      <td>NaN</td>\n",
       "      <td>NaN</td>\n",
       "      <td>NaN</td>\n",
       "      <td>NaN</td>\n",
       "      <td>NaN</td>\n",
       "      <td>NaN</td>\n",
       "      <td>NaN</td>\n",
       "      <td>1.000000e+00</td>\n",
       "      <td>1.470035e+09</td>\n",
       "    </tr>\n",
       "    <tr>\n",
       "      <th>25%</th>\n",
       "      <td>NaN</td>\n",
       "      <td>NaN</td>\n",
       "      <td>NaN</td>\n",
       "      <td>NaN</td>\n",
       "      <td>NaN</td>\n",
       "      <td>NaN</td>\n",
       "      <td>NaN</td>\n",
       "      <td>1.000000e+00</td>\n",
       "      <td>1.482738e+09</td>\n",
       "    </tr>\n",
       "    <tr>\n",
       "      <th>50%</th>\n",
       "      <td>NaN</td>\n",
       "      <td>NaN</td>\n",
       "      <td>NaN</td>\n",
       "      <td>NaN</td>\n",
       "      <td>NaN</td>\n",
       "      <td>NaN</td>\n",
       "      <td>NaN</td>\n",
       "      <td>1.000000e+00</td>\n",
       "      <td>1.499832e+09</td>\n",
       "    </tr>\n",
       "    <tr>\n",
       "      <th>75%</th>\n",
       "      <td>NaN</td>\n",
       "      <td>NaN</td>\n",
       "      <td>NaN</td>\n",
       "      <td>NaN</td>\n",
       "      <td>NaN</td>\n",
       "      <td>NaN</td>\n",
       "      <td>NaN</td>\n",
       "      <td>1.000000e+00</td>\n",
       "      <td>1.512513e+09</td>\n",
       "    </tr>\n",
       "    <tr>\n",
       "      <th>max</th>\n",
       "      <td>NaN</td>\n",
       "      <td>NaN</td>\n",
       "      <td>NaN</td>\n",
       "      <td>NaN</td>\n",
       "      <td>NaN</td>\n",
       "      <td>NaN</td>\n",
       "      <td>NaN</td>\n",
       "      <td>4.570000e+02</td>\n",
       "      <td>1.525158e+09</td>\n",
       "    </tr>\n",
       "  </tbody>\n",
       "</table>\n",
       "</div>"
      ],
      "text/plain": [
       "       channelGrouping                                             device  \\\n",
       "count          1708337                                            1708337   \n",
       "unique               8                                                298   \n",
       "top     Organic Search  {\"browser\": \"Chrome\", \"browserVersion\": \"not a...   \n",
       "freq            738963                                             504589   \n",
       "mean               NaN                                                NaN   \n",
       "std                NaN                                                NaN   \n",
       "min                NaN                                                NaN   \n",
       "25%                NaN                                                NaN   \n",
       "50%                NaN                                                NaN   \n",
       "75%                NaN                                                NaN   \n",
       "max                NaN                                                NaN   \n",
       "\n",
       "              fullVisitorId  \\\n",
       "count               1708337   \n",
       "unique              1323730   \n",
       "top     1957458976293878100   \n",
       "freq                    400   \n",
       "mean                    NaN   \n",
       "std                     NaN   \n",
       "min                     NaN   \n",
       "25%                     NaN   \n",
       "50%                     NaN   \n",
       "75%                     NaN   \n",
       "max                     NaN   \n",
       "\n",
       "                                               geoNetwork  \\\n",
       "count                                             1708337   \n",
       "unique                                              59955   \n",
       "top     {\"continent\": \"Americas\", \"subContinent\": \"Nor...   \n",
       "freq                                               132962   \n",
       "mean                                                  NaN   \n",
       "std                                                   NaN   \n",
       "min                                                   NaN   \n",
       "25%                                                   NaN   \n",
       "50%                                                   NaN   \n",
       "75%                                                   NaN   \n",
       "max                                                   NaN   \n",
       "\n",
       "        socialEngagementType  \\\n",
       "count                1708337   \n",
       "unique                     1   \n",
       "top     Not Socially Engaged   \n",
       "freq                 1708337   \n",
       "mean                     NaN   \n",
       "std                      NaN   \n",
       "min                      NaN   \n",
       "25%                      NaN   \n",
       "50%                      NaN   \n",
       "75%                      NaN   \n",
       "max                      NaN   \n",
       "\n",
       "                                                   totals  \\\n",
       "count                                             1708337   \n",
       "unique                                             252374   \n",
       "top     {\"visits\": \"1\", \"hits\": \"1\", \"pageviews\": \"1\",...   \n",
       "freq                                               350177   \n",
       "mean                                                  NaN   \n",
       "std                                                   NaN   \n",
       "min                                                   NaN   \n",
       "25%                                                   NaN   \n",
       "50%                                                   NaN   \n",
       "75%                                                   NaN   \n",
       "max                                                   NaN   \n",
       "\n",
       "                                            trafficSource   visitNumber  \\\n",
       "count                                             1708337  1.708337e+06   \n",
       "unique                                              76637           NaN   \n",
       "top     {\"campaign\": \"(not set)\", \"source\": \"google\", ...           NaN   \n",
       "freq                                               460901           NaN   \n",
       "mean                                                  NaN  2.335170e+00   \n",
       "std                                                   NaN  9.354034e+00   \n",
       "min                                                   NaN  1.000000e+00   \n",
       "25%                                                   NaN  1.000000e+00   \n",
       "50%                                                   NaN  1.000000e+00   \n",
       "75%                                                   NaN  1.000000e+00   \n",
       "max                                                   NaN  4.570000e+02   \n",
       "\n",
       "        visitStartTime  \n",
       "count     1.708337e+06  \n",
       "unique             NaN  \n",
       "top                NaN  \n",
       "freq               NaN  \n",
       "mean      1.498352e+09  \n",
       "std       1.624937e+07  \n",
       "min       1.470035e+09  \n",
       "25%       1.482738e+09  \n",
       "50%       1.499832e+09  \n",
       "75%       1.512513e+09  \n",
       "max       1.525158e+09  "
      ]
     },
     "execution_count": 38,
     "metadata": {},
     "output_type": "execute_result"
    }
   ],
   "source": [
    "df.describe(include='all')"
   ]
  },
  {
   "cell_type": "code",
   "execution_count": 39,
   "metadata": {},
   "outputs": [
    {
     "data": {
      "text/html": [
       "<div>\n",
       "<style scoped>\n",
       "    .dataframe tbody tr th:only-of-type {\n",
       "        vertical-align: middle;\n",
       "    }\n",
       "\n",
       "    .dataframe tbody tr th {\n",
       "        vertical-align: top;\n",
       "    }\n",
       "\n",
       "    .dataframe thead th {\n",
       "        text-align: right;\n",
       "    }\n",
       "</style>\n",
       "<table border=\"1\" class=\"dataframe\">\n",
       "  <thead>\n",
       "    <tr style=\"text-align: right;\">\n",
       "      <th></th>\n",
       "      <th>channelGrouping</th>\n",
       "      <th>device</th>\n",
       "      <th>fullVisitorId</th>\n",
       "      <th>geoNetwork</th>\n",
       "      <th>socialEngagementType</th>\n",
       "      <th>totals</th>\n",
       "      <th>trafficSource</th>\n",
       "      <th>visitNumber</th>\n",
       "      <th>visitStartTime</th>\n",
       "    </tr>\n",
       "  </thead>\n",
       "  <tbody>\n",
       "    <tr>\n",
       "      <th>0</th>\n",
       "      <td>Organic Search</td>\n",
       "      <td>{\"browser\": \"Firefox\", \"browserVersion\": \"not ...</td>\n",
       "      <td>3162355547410993243</td>\n",
       "      <td>{\"continent\": \"Europe\", \"subContinent\": \"Weste...</td>\n",
       "      <td>Not Socially Engaged</td>\n",
       "      <td>{\"visits\": \"1\", \"hits\": \"1\", \"pageviews\": \"1\",...</td>\n",
       "      <td>{\"campaign\": \"(not set)\", \"source\": \"google\", ...</td>\n",
       "      <td>1.0</td>\n",
       "      <td>1.508198e+09</td>\n",
       "    </tr>\n",
       "    <tr>\n",
       "      <th>1</th>\n",
       "      <td>Referral</td>\n",
       "      <td>{\"browser\": \"Chrome\", \"browserVersion\": \"not a...</td>\n",
       "      <td>8934116514970143966</td>\n",
       "      <td>{\"continent\": \"Americas\", \"subContinent\": \"Nor...</td>\n",
       "      <td>Not Socially Engaged</td>\n",
       "      <td>{\"visits\": \"1\", \"hits\": \"2\", \"pageviews\": \"2\",...</td>\n",
       "      <td>{\"referralPath\": \"/a/google.com/transportation...</td>\n",
       "      <td>6.0</td>\n",
       "      <td>1.508176e+09</td>\n",
       "    </tr>\n",
       "    <tr>\n",
       "      <th>2</th>\n",
       "      <td>Direct</td>\n",
       "      <td>{\"browser\": \"Chrome\", \"browserVersion\": \"not a...</td>\n",
       "      <td>7992466427990357681</td>\n",
       "      <td>{\"continent\": \"Americas\", \"subContinent\": \"Nor...</td>\n",
       "      <td>Not Socially Engaged</td>\n",
       "      <td>{\"visits\": \"1\", \"hits\": \"2\", \"pageviews\": \"2\",...</td>\n",
       "      <td>{\"campaign\": \"(not set)\", \"source\": \"(direct)\"...</td>\n",
       "      <td>1.0</td>\n",
       "      <td>1.508202e+09</td>\n",
       "    </tr>\n",
       "    <tr>\n",
       "      <th>3</th>\n",
       "      <td>Organic Search</td>\n",
       "      <td>{\"browser\": \"Chrome\", \"browserVersion\": \"not a...</td>\n",
       "      <td>9075655783635761930</td>\n",
       "      <td>{\"continent\": \"Asia\", \"subContinent\": \"Western...</td>\n",
       "      <td>Not Socially Engaged</td>\n",
       "      <td>{\"visits\": \"1\", \"hits\": \"2\", \"pageviews\": \"2\",...</td>\n",
       "      <td>{\"campaign\": \"(not set)\", \"source\": \"google\", ...</td>\n",
       "      <td>1.0</td>\n",
       "      <td>1.508170e+09</td>\n",
       "    </tr>\n",
       "    <tr>\n",
       "      <th>4</th>\n",
       "      <td>Organic Search</td>\n",
       "      <td>{\"browser\": \"Chrome\", \"browserVersion\": \"not a...</td>\n",
       "      <td>6960673291025684308</td>\n",
       "      <td>{\"continent\": \"Americas\", \"subContinent\": \"Cen...</td>\n",
       "      <td>Not Socially Engaged</td>\n",
       "      <td>{\"visits\": \"1\", \"hits\": \"2\", \"pageviews\": \"2\",...</td>\n",
       "      <td>{\"campaign\": \"(not set)\", \"source\": \"google\", ...</td>\n",
       "      <td>1.0</td>\n",
       "      <td>1.508191e+09</td>\n",
       "    </tr>\n",
       "  </tbody>\n",
       "</table>\n",
       "</div>"
      ],
      "text/plain": [
       "  channelGrouping                                             device  \\\n",
       "0  Organic Search  {\"browser\": \"Firefox\", \"browserVersion\": \"not ...   \n",
       "1        Referral  {\"browser\": \"Chrome\", \"browserVersion\": \"not a...   \n",
       "2          Direct  {\"browser\": \"Chrome\", \"browserVersion\": \"not a...   \n",
       "3  Organic Search  {\"browser\": \"Chrome\", \"browserVersion\": \"not a...   \n",
       "4  Organic Search  {\"browser\": \"Chrome\", \"browserVersion\": \"not a...   \n",
       "\n",
       "         fullVisitorId                                         geoNetwork  \\\n",
       "0  3162355547410993243  {\"continent\": \"Europe\", \"subContinent\": \"Weste...   \n",
       "1  8934116514970143966  {\"continent\": \"Americas\", \"subContinent\": \"Nor...   \n",
       "2  7992466427990357681  {\"continent\": \"Americas\", \"subContinent\": \"Nor...   \n",
       "3  9075655783635761930  {\"continent\": \"Asia\", \"subContinent\": \"Western...   \n",
       "4  6960673291025684308  {\"continent\": \"Americas\", \"subContinent\": \"Cen...   \n",
       "\n",
       "   socialEngagementType                                             totals  \\\n",
       "0  Not Socially Engaged  {\"visits\": \"1\", \"hits\": \"1\", \"pageviews\": \"1\",...   \n",
       "1  Not Socially Engaged  {\"visits\": \"1\", \"hits\": \"2\", \"pageviews\": \"2\",...   \n",
       "2  Not Socially Engaged  {\"visits\": \"1\", \"hits\": \"2\", \"pageviews\": \"2\",...   \n",
       "3  Not Socially Engaged  {\"visits\": \"1\", \"hits\": \"2\", \"pageviews\": \"2\",...   \n",
       "4  Not Socially Engaged  {\"visits\": \"1\", \"hits\": \"2\", \"pageviews\": \"2\",...   \n",
       "\n",
       "                                       trafficSource  visitNumber  \\\n",
       "0  {\"campaign\": \"(not set)\", \"source\": \"google\", ...          1.0   \n",
       "1  {\"referralPath\": \"/a/google.com/transportation...          6.0   \n",
       "2  {\"campaign\": \"(not set)\", \"source\": \"(direct)\"...          1.0   \n",
       "3  {\"campaign\": \"(not set)\", \"source\": \"google\", ...          1.0   \n",
       "4  {\"campaign\": \"(not set)\", \"source\": \"google\", ...          1.0   \n",
       "\n",
       "   visitStartTime  \n",
       "0    1.508198e+09  \n",
       "1    1.508176e+09  \n",
       "2    1.508202e+09  \n",
       "3    1.508170e+09  \n",
       "4    1.508191e+09  "
      ]
     },
     "execution_count": 39,
     "metadata": {},
     "output_type": "execute_result"
    }
   ],
   "source": [
    "df.head(5)"
   ]
  },
  {
   "cell_type": "code",
   "execution_count": 40,
   "metadata": {},
   "outputs": [
    {
     "data": {
      "text/plain": [
       "(1708337, 9)"
      ]
     },
     "execution_count": 40,
     "metadata": {},
     "output_type": "execute_result"
    }
   ],
   "source": [
    "df.shape"
   ]
  },
  {
   "cell_type": "code",
   "execution_count": 41,
   "metadata": {},
   "outputs": [],
   "source": [
    "# df = df.replace({\n",
    "# MERGE    \"(not set)\": np.nan,                  \"(none)\": np.nan,\n",
    "#               KEEP   \"not available in demo dataset\": np.nan})"
   ]
  },
  {
   "cell_type": "markdown",
   "metadata": {},
   "source": [
    "De las columnas unidimensionales mantenemos:\n",
    "- fullVisitorId\n",
    "- visitStartTime\n",
    "- channelGrouping"
   ]
  },
  {
   "cell_type": "code",
   "execution_count": 2,
   "metadata": {},
   "outputs": [
    {
     "ename": "NameError",
     "evalue": "name 'pd' is not defined",
     "output_type": "error",
     "traceback": [
      "\u001b[0;31m---------------------------------------------------------------------------\u001b[0m",
      "\u001b[0;31mNameError\u001b[0m                                 Traceback (most recent call last)",
      "\u001b[0;32m<ipython-input-2-e9da4b063eb0>\u001b[0m in \u001b[0;36m<module>\u001b[0;34m()\u001b[0m\n\u001b[0;32m----> 1\u001b[0;31m \u001b[0mdf\u001b[0m\u001b[0;34m[\u001b[0m\u001b[0;34m\"visitStartTime\"\u001b[0m\u001b[0;34m]\u001b[0m \u001b[0;34m=\u001b[0m \u001b[0mpd\u001b[0m\u001b[0;34m.\u001b[0m\u001b[0mto_datetime\u001b[0m\u001b[0;34m(\u001b[0m\u001b[0mdf\u001b[0m\u001b[0;34m[\u001b[0m\u001b[0;34m\"visitStartTime\"\u001b[0m\u001b[0;34m]\u001b[0m\u001b[0;34m,\u001b[0m \u001b[0munit\u001b[0m\u001b[0;34m=\u001b[0m\u001b[0;34m's'\u001b[0m\u001b[0;34m)\u001b[0m\u001b[0;34m\u001b[0m\u001b[0m\n\u001b[0m\u001b[1;32m      2\u001b[0m \u001b[0mdf\u001b[0m\u001b[0;34m.\u001b[0m\u001b[0mdrop\u001b[0m\u001b[0;34m(\u001b[0m\u001b[0;34m[\u001b[0m\u001b[0;34m'socialEngagementType'\u001b[0m\u001b[0;34m]\u001b[0m\u001b[0;34m,\u001b[0m \u001b[0maxis\u001b[0m\u001b[0;34m=\u001b[0m\u001b[0;36m1\u001b[0m\u001b[0;34m,\u001b[0m \u001b[0minplace\u001b[0m\u001b[0;34m=\u001b[0m\u001b[0;32mTrue\u001b[0m\u001b[0;34m)\u001b[0m\u001b[0;34m\u001b[0m\u001b[0m\n",
      "\u001b[0;31mNameError\u001b[0m: name 'pd' is not defined"
     ]
    }
   ],
   "source": [
    "df[\"visitStartTime\"] = pd.to_datetime(df[\"visitStartTime\"], unit='s')\n",
    "df.drop(['socialEngagementType'], axis=1, inplace=True)"
   ]
  },
  {
   "cell_type": "markdown",
   "metadata": {},
   "source": [
    "De la columna 'device' mantenemos:\n",
    "- browser\n",
    "- deviceCategory\n",
    "- operatingSystem"
   ]
  },
  {
   "cell_type": "code",
   "execution_count": 43,
   "metadata": {},
   "outputs": [
    {
     "name": "stdout",
     "output_type": "stream",
     "text": [
      "['channelGrouping', 'fullVisitorId', 'geoNetwork', 'totals', 'trafficSource', 'visitNumber', 'visitStartTime', 'browser', 'deviceCategory', 'operatingSystem']\n"
     ]
    }
   ],
   "source": [
    "deviceFlatten = [flatten_json(json.loads(d)) for d in df['device']]\n",
    "devi = pd.DataFrame(deviceFlatten)\n",
    "\n",
    "devi.drop(columns=['browserSize', 'browserVersion', 'flashVersion', 'language', \n",
    "    'mobileDeviceBranding', 'mobileDeviceInfo', 'mobileDeviceMarketingName',\n",
    "    'mobileDeviceModel', 'mobileInputSelector', 'operatingSystemVersion',\n",
    "    'screenColors','screenResolution'], inplace=True)\n",
    "\n",
    "#we map our data to its corresponding value\n",
    "isMobile = {False : 0, True : 1}\n",
    "devi[\"isMobile\"] = devi[\"isMobile\"].map(isMobile)\n",
    "\n",
    "devi.drop(columns=['isMobile'], inplace=True, axis=1)\n",
    "df.drop(columns=['device'], inplace=True, axis=1)\n",
    "df = df.join(devi)"
   ]
  },
  {
   "cell_type": "markdown",
   "metadata": {},
   "source": [
    "De la columna 'geoNetwork' mantenemos:\n",
    "- subcontinent\n",
    "- coutry\n",
    "- region (que contiene ciudad si no está disponible)\n",
    "- city"
   ]
  },
  {
   "cell_type": "code",
   "execution_count": 44,
   "metadata": {},
   "outputs": [],
   "source": [
    "geoNetworkFlatten = [flatten_json(json.loads(d)) for d in df['geoNetwork']]\n",
    "geo = pd.DataFrame(geoNetworkFlatten)\n",
    "geo.drop(['latitude','longitude','networkLocation','cityId','continent','metro', 'networkDomain'], axis=1, inplace=True)\n",
    "\n",
    "geo['region']=geo.apply(region_country,axis=1)\n",
    "# geo.loc[geo['city'] == \"not available in demo dataset\",'city'] = np.nan\n",
    "\n",
    "# geo['region'].fillna(geo['country'])\n",
    "\n",
    "df.drop(columns=['geoNetwork'], inplace=True, axis=1)\n",
    "df = df.join(geo)"
   ]
  },
  {
   "cell_type": "markdown",
   "metadata": {},
   "source": [
    "De la columna 'totals' mantenemos:\n",
    "- hits\n",
    "- transactionRevenue\n",
    "- newVisits"
   ]
  },
  {
   "cell_type": "code",
   "execution_count": 46,
   "metadata": {},
   "outputs": [],
   "source": [
    "#Transform json\n",
    "totalsList = [flatten_json(json.loads(d)) for d in df['totals']]\n",
    "totals_df = pd.DataFrame(totalsList)\n",
    "\n",
    "#Remove visits column as it does not provide any information\n",
    "# Remove sessionQualityDim: An estimate of how close a particular session was to transacting, ranging\n",
    "    # from 1 to 100, calculated for each session. A value closer to 1 indicates a low session quality, or\n",
    "    # far from transacting, while a value closer to 100 indicates a high session quality, or very close to\n",
    "    # transacting. A value of 0 indicates that Session Quality is not calculated for the selected time range.\n",
    "# Remove transactionRevenue (deprecated) to use totalTransactionRevenue instead\n",
    "totals_df = totals_df.drop(['visits', 'sessionQualityDim', 'transactionRevenue', 'hits', 'newVisits'], axis=1)\n",
    "\n",
    "#Change nan in \"transactionRevenue\" for 0. \n",
    "totals_df['totalTransactionRevenue'] = totals_df['totalTransactionRevenue'].fillna(0)\n",
    "\n",
    "#Change nan in \"bounces\" for 0\n",
    "totals_df['bounces'] = totals_df['bounces'].fillna(0)\n",
    "\n",
    "#There are some nan in pageviews but it is not trivial to find a value we can change these nan by logically.\n",
    "#The corrlation with hits is 0.984, so we can keep hits that does not have any nan value. Keeping both could be redundant.\n",
    "totals_df = totals_df.drop(['pageviews'], axis=1)\n",
    "\n",
    "#Not 100% proven yet, but i have a big feeling that bounces is mainly 1 when there is only 1 hit by defenition.\n",
    "#This means that even though the correlation doesn't provide a big value beetween them two, bounces is not giving much \n",
    "#additional info. Meaning using it is not relevant.\n",
    "totals_df = totals_df.drop(['bounces'], axis=1)\n",
    "\n",
    "totals_df['totalTransactionRevenue'] = totals_df['totalTransactionRevenue'].apply(lambda x: float(x)/1000000)\n",
    "\n",
    "df.drop(['totals'], inplace=True, axis=1)\n",
    "df = df.join(totals_df)"
   ]
  },
  {
   "cell_type": "code",
   "execution_count": null,
   "metadata": {},
   "outputs": [],
   "source": []
  },
  {
   "cell_type": "markdown",
   "metadata": {},
   "source": [
    "To be removed:"
   ]
  },
  {
   "cell_type": "code",
   "execution_count": 47,
   "metadata": {},
   "outputs": [],
   "source": [
    "trafficFlatten = [flatten_json(json.loads(d)) for d in df['trafficSource']]\n",
    "traffic = pd.DataFrame(trafficFlatten)"
   ]
  },
  {
   "cell_type": "code",
   "execution_count": 48,
   "metadata": {},
   "outputs": [
    {
     "data": {
      "text/plain": [
       "google                         658384\n",
       "(direct)                       565975\n",
       "youtube.com                    329450\n",
       "analytics.google.com            37436\n",
       "Partners                        32931\n",
       "sites.google.com                 9072\n",
       "google.com                       8341\n",
       "m.facebook.com                   6737\n",
       "dfa                              6704\n",
       "baidu                            4971\n",
       "reddit.com                       4092\n",
       "facebook.com                     3584\n",
       "googleads.g.doubleclick.net      3539\n",
       "qiita.com                        3394\n",
       "bing                             3368\n",
       "quora.com                        3032\n",
       "mail.google.com                  2558\n",
       "yahoo                            2436\n",
       "siliconvalley.about.com          2097\n",
       "groups.google.com                2009\n",
       "t.co                             2005\n",
       "l.facebook.com                   1529\n",
       "blog.golang.org                  1382\n",
       "dealspotr.com                     750\n",
       "support.google.com                676\n",
       "productforums.google.com          672\n",
       "plus.google.com                   650\n",
       "google.co.jp                      641\n",
       "away.vk.com                       613\n",
       "docs.google.com                   578\n",
       "                                ...  \n",
       "ps-dm.reddit.com                    1\n",
       "google.iq                           1\n",
       "images.google.at                    1\n",
       "images.google.com.br                1\n",
       "search.mywebsearch.com              1\n",
       "qc.search.yahoo.com                 1\n",
       "images.google.co.in                 1\n",
       "google.lt                           1\n",
       "info.com                            1\n",
       "us.reddit.com                       1\n",
       "apps.rackspace.com                  1\n",
       "google.bg                           1\n",
       "newsstand.google.com                1\n",
       "google.com.ar                       1\n",
       "google.ie                           1\n",
       "intranet                            1\n",
       "developers.google.com               1\n",
       "images.google.com.au                1\n",
       "tumblr.com                          1\n",
       "es.yhs4.search.yahoo.com            1\n",
       "google.com.bd                       1\n",
       "google.ro                           1\n",
       "p.qiao.baidu.com                    1\n",
       "mobile.facebook.com                 1\n",
       "hosted.verticalresponse.com         1\n",
       "start.wow.com                       1\n",
       "google.lv                           1\n",
       "computerworld.com                   1\n",
       "yahoo.com                           1\n",
       "id.pinterest.com                    1\n",
       "Name: source, Length: 345, dtype: int64"
      ]
     },
     "execution_count": 48,
     "metadata": {},
     "output_type": "execute_result"
    }
   ],
   "source": [
    "workingdf = traffic.copy()\n",
    "\n",
    "workingdf.drop(['adwordsClickInfo_criteriaParameters', 'adwordsClickInfo_adNetworkType',\n",
    "    'adwordsClickInfo_gclId', 'adwordsClickInfo_isVideoAd', 'adwordsClickInfo_page',\n",
    "    'keyword', 'referralPath'], axis=1, inplace=True)\n",
    "\n",
    "# workingdf['campaign'].value_counts()\n",
    "\n",
    "# workingdf.sample(10)\n",
    "# workingdf.describe()\n",
    "workingdf['source'].value_counts()"
   ]
  },
  {
   "cell_type": "code",
   "execution_count": 50,
   "metadata": {},
   "outputs": [],
   "source": [
    "# df['campaign'].value_counts()"
   ]
  },
  {
   "cell_type": "code",
   "execution_count": 51,
   "metadata": {},
   "outputs": [
    {
     "data": {
      "text/plain": [
       "(not set)                                                               1604526\n",
       "Data Share Promo                                                          32914\n",
       "1000557 | GA | US | en | Hybrid | GDN Text+Banner | AS                    24410\n",
       "1000557 | GA | US | en | Hybrid | GDN Remarketing                         15149\n",
       "AW - Dynamic Search Ads Whole Site                                        15146\n",
       "AW - Accessories                                                           7972\n",
       "Smart Display Campaign                                                     2664\n",
       "\"google + redesign/Accessories March 17\" All Users Similar Audiences       1179\n",
       "Page: contains \"/google+redesign/drinkware\" Similar Audiences               611\n",
       "\"google + redesign/Accessories March 17\" All Users                          562\n",
       "Sports & Fitness/Health & Fitness Buffs                                     463\n",
       "Run of Network Line Item                                                    428\n",
       "Media & Entertainment/Movie Lovers                                          311\n",
       "Technology/Mobile Enthusiasts                                               310\n",
       "Technology/Technophiles                                                     290\n",
       "Value Shoppers Affinity                                                     208\n",
       "Media & Entertainment/Music Lovers                                          195\n",
       "Page: contains \"/google+redesign/drinkware\"                                 192\n",
       "Page: contains \"/google+redesign/office\" Similar Audiences                  182\n",
       "Lifestyles & Hobbies/Shutterbugs                                            131\n",
       "Page: contains \"/google+redesign/electronics\"                                97\n",
       "Page: contains \"/google+redesign/office\"                                     93\n",
       "Page: contains \"/google+redesign/bags\" All Users                             83\n",
       "AW - Electronics                                                             75\n",
       "AW - Apparel                                                                 44\n",
       "Page: contains \"/google+redesign/bags\" All Users Similar Audiences           42\n",
       "Page: contains \"/google+redesign/bags\" 1 Day                                 27\n",
       "(direct)                                                                     12\n",
       "Page: contains \"/google+redesign/electronics\" Similar Audiences               9\n",
       "\"google + redesign/Accessories March 17\" 1 Day                                5\n",
       "All Products                                                                  4\n",
       "Gmail type campaign                                                           2\n",
       "Data Share                                                                    1\n",
       "Name: campaign, dtype: int64"
      ]
     },
     "execution_count": 51,
     "metadata": {},
     "output_type": "execute_result"
    }
   ],
   "source": [
    "workingdf['campaign'].value_counts()"
   ]
  },
  {
   "cell_type": "markdown",
   "metadata": {},
   "source": [
    "/To be removed>"
   ]
  },
  {
   "cell_type": "markdown",
   "metadata": {},
   "source": [
    "De la columna 'trafficSource' mantenemos:\n",
    "- adContent\n",
    "- adPosition\n",
    "- campaign\n",
    "- isTrueDirect\n",
    "- medium\n",
    "- source"
   ]
  },
  {
   "cell_type": "code",
   "execution_count": 56,
   "metadata": {},
   "outputs": [],
   "source": [
    "trafficFlatten = [flatten_json(json.loads(d)) for d in df['trafficSource']]\n",
    "traffic = pd.DataFrame(trafficFlatten)\n",
    "traffic.drop(['adwordsClickInfo_criteriaParameters', 'adwordsClickInfo_adNetworkType',\n",
    "    'adwordsClickInfo_gclId', 'adwordsClickInfo_isVideoAd', 'adwordsClickInfo_page',\n",
    "    'keyword', 'referralPath'], axis=1, inplace=True)\n",
    "\n",
    "# rename to a simpler name\n",
    "traffic.rename(index=str, columns={\n",
    "    \"adwordsClickInfo_slot\": \"adPosition\"}, inplace=True)\n",
    "\n",
    "df['adContent'] = traffic['adContent'].copy()\n",
    "df['adPosition'] = traffic['adPosition'].copy()\n",
    "df['campaign'] = traffic['campaign'].copy()\n",
    "df['isTrueDirect'] = traffic['isTrueDirect'].copy()\n",
    "df['medium'] = traffic['medium'].copy()\n",
    "df['source'] = traffic['source'].copy()\n",
    "\n",
    "# TO DO: traffic['source'] regex for the main domain (last whatevs.com), and drop less than 1000\n",
    "# traffic['source'] = traffic['source'].str.extract('{\"browser\": \"(.+?)\"', expand=True)\n",
    "\n",
    "df.drop(columns=['trafficSource'], inplace=True, axis=1)\n",
    "df = traffic.join(df)"
   ]
  },
  {
   "cell_type": "code",
   "execution_count": 93,
   "metadata": {},
   "outputs": [],
   "source": [
    "# df.drop(columns=['campaign'], inplace=True, axis=1)\n",
    "# df['campaign'] = traffic['campaign'].copy()\n",
    "# df['position'] = traffic['adPosition'].copy()\n",
    "# df['position'].value_counts()"
   ]
  },
  {
   "cell_type": "markdown",
   "metadata": {},
   "source": [
    "De trafficSource mantenemos:\n",
    "- adContent\n",
    "- adPosition\n",
    "- campaign\n",
    "- isTrueDirect\n",
    "- medium\n",
    "- source"
   ]
  },
  {
   "cell_type": "code",
   "execution_count": 96,
   "metadata": {},
   "outputs": [],
   "source": [
    "# a = traffic.join(df)"
   ]
  },
  {
   "cell_type": "code",
   "execution_count": 98,
   "metadata": {},
   "outputs": [],
   "source": [
    "# df = a.copy()"
   ]
  },
  {
   "cell_type": "code",
   "execution_count": 4,
   "metadata": {},
   "outputs": [],
   "source": [
    "# df['adContent'].value_counts()"
   ]
  },
  {
   "cell_type": "code",
   "execution_count": null,
   "metadata": {},
   "outputs": [],
   "source": [
    "# df = df.replace({\"(not set)\": np.nan,\n",
    "#                  \"(none)\": np.nan,\n",
    "#                  \"not available in demo dataset\": np.nan})"
   ]
  },
  {
   "cell_type": "code",
   "execution_count": 99,
   "metadata": {},
   "outputs": [
    {
     "data": {
      "text/plain": [
       "['adContent',\n",
       " 'adPosition',\n",
       " 'campaign',\n",
       " 'campaignCode',\n",
       " 'isTrueDirect',\n",
       " 'medium',\n",
       " 'source',\n",
       " 'channelGrouping',\n",
       " 'fullVisitorId',\n",
       " 'trafficSource',\n",
       " 'visitNumber',\n",
       " 'visitStartTime',\n",
       " 'browser',\n",
       " 'deviceCategory',\n",
       " 'operatingSystem',\n",
       " 'city',\n",
       " 'country',\n",
       " 'region',\n",
       " 'subContinent',\n",
       " 'timeOnSite',\n",
       " 'totalTransactionRevenue',\n",
       " 'transactions',\n",
       " 'position']"
      ]
     },
     "execution_count": 99,
     "metadata": {},
     "output_type": "execute_result"
    }
   ],
   "source": [
    "list(df)"
   ]
  },
  {
   "cell_type": "code",
   "execution_count": 101,
   "metadata": {},
   "outputs": [
    {
     "name": "stdout",
     "output_type": "stream",
     "text": [
      "(1708337, 23)\n",
      "64737\n"
     ]
    }
   ],
   "source": [
    "print(df.shape)"
   ]
  },
  {
   "cell_type": "code",
   "execution_count": null,
   "metadata": {},
   "outputs": [],
   "source": [
    "df.describe(include='all')"
   ]
  },
  {
   "cell_type": "code",
   "execution_count": null,
   "metadata": {},
   "outputs": [],
   "source": [
    "df.head(5)"
   ]
  },
  {
   "cell_type": "code",
   "execution_count": 103,
   "metadata": {},
   "outputs": [],
   "source": [
    "df.to_csv(\"../data/test_v2_cleaned.csv\")\n",
    "df.to_pickle(\"../data/test_v2_cleaned.pkl\")"
   ]
  }
 ],
 "metadata": {
  "kernelspec": {
   "display_name": "Python 3",
   "language": "python",
   "name": "python3"
  },
  "language_info": {
   "codemirror_mode": {
    "name": "ipython",
    "version": 3
   },
   "file_extension": ".py",
   "mimetype": "text/x-python",
   "name": "python",
   "nbconvert_exporter": "python",
   "pygments_lexer": "ipython3",
   "version": "3.6.4"
  }
 },
 "nbformat": 4,
 "nbformat_minor": 2
}
