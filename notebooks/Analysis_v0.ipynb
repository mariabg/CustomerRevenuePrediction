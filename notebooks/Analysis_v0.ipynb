{
 "cells": [
  {
   "cell_type": "code",
   "execution_count": 1,
   "metadata": {},
   "outputs": [],
   "source": [
    "import pandas as pd"
   ]
  },
  {
   "cell_type": "code",
   "execution_count": 2,
   "metadata": {},
   "outputs": [],
   "source": [
    "# Call example:\n",
    "  # df = extract_day(df, 'month')\n",
    "def extract_date_info(df, parametro):\n",
    "    if parametro == \"date\":\n",
    "        df[\"date\"] = [d.date() for d in df[\"visitStartTime\"]]\n",
    "    if parametro == \"time\":\n",
    "        df[\"time\"] = [d.time() for d in df[\"visitStartTime\"]]\n",
    "    if parametro == \"day\":\n",
    "        df[\"day\"] = df[\"visitStartTime\"].dt.day\n",
    "    if parametro == \"month\":\n",
    "        df['month'] = df[\"visitStartTime\"].dt.month\n",
    "    if parametro == \"weekday\":\n",
    "        df['weekday'] = df[\"visitStartTime\"].dt.weekday\n",
    "    if parametro == \"weekofyear\": \n",
    "        df['weekofyear'] = df[\"visitStartTime\"].dt.weekofyear\n",
    "    return df"
   ]
  },
  {
   "cell_type": "code",
   "execution_count": 3,
   "metadata": {},
   "outputs": [],
   "source": [
    "# df = read_csv(\"../data/train_v2_cleaned.csv\")"
   ]
  },
  {
   "cell_type": "code",
   "execution_count": null,
   "metadata": {},
   "outputs": [],
   "source": []
  }
 ],
 "metadata": {
  "kernelspec": {
   "display_name": "Python 3",
   "language": "python",
   "name": "python3"
  },
  "language_info": {
   "codemirror_mode": {
    "name": "ipython",
    "version": 3
   },
   "file_extension": ".py",
   "mimetype": "text/x-python",
   "name": "python",
   "nbconvert_exporter": "python",
   "pygments_lexer": "ipython3",
   "version": "3.6.4"
  }
 },
 "nbformat": 4,
 "nbformat_minor": 2
}
