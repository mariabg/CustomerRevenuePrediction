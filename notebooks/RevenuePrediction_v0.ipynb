{
 "cells": [
  {
   "cell_type": "code",
   "execution_count": 1,
   "metadata": {},
   "outputs": [],
   "source": [
    "import pandas as pd"
   ]
  },
  {
   "cell_type": "code",
   "execution_count": null,
   "metadata": {},
   "outputs": [],
   "source": [
    "# Call example:\n",
    "  # df = extract_day(df, 'month')\n",
    "def extract_date_info(df, parametro):\n",
    "    if parametro == \"date\":\n",
    "        df[\"date\"] = [d.date() for d in df[\"visitStartTime\"]]\n",
    "    if parametro == \"time\":\n",
    "        df[\"time\"] = [d.time() for d in df[\"visitStartTime\"]]\n",
    "    if parametro == \"day\":\n",
    "        df[\"day\"] = df[\"visitStartTime\"].dt.day\n",
    "    if parametro == \"month\":\n",
    "        df['month'] = df[\"visitStartTime\"].dt.month\n",
    "    if parametro == \"weekday\":\n",
    "        df['weekday'] = df[\"visitStartTime\"].dt.weekday\n",
    "    if parametro == \"weekofyear\": \n",
    "        df['weekofyear'] = df[\"visitStartTime\"].dt.weekofyear\n",
    "    return df"
   ]
  },
  {
   "cell_type": "code",
   "execution_count": 2,
   "metadata": {},
   "outputs": [],
   "source": [
    "# df = read_csv(\"../data/train_v2_cleaned.csv\")"
   ]
  },
  {
   "cell_type": "code",
   "execution_count": null,
   "metadata": {},
   "outputs": [],
   "source": [
    "# we can't use this information for prediction\n",
    "df.drop(columns=['hits', 'timeOnSite', 'sessionQualityDim', 'transactions'], inplace=True, axis=1)\n",
    "\n",
    "# We map our data to its corresponding value\n",
    "browser = {'Chrome': 1, 'Safari': 2, 'Firefox': 3, 'Internet Explorer': 4, 'Edge': 5, \n",
    "           'Android Webview': 0, 'Safari (in-app)': 0, 'Opera Mini': 0, 'Opera': 0,\n",
    "           'UC Browser': 0}\n",
    "category = {'desktop': 1, 'mobile': 2, 'tablet': 3}\n",
    "operatingSystem = {'Windows': 1, 'Macintosh': 2, 'Android': 3, 'iOS': 4,'Linux': 5,\n",
    "    'Chrome OS': 6, '(not set)': 0, 'Windows Phone': 0, 'BlackBerry': 0, 'Samsung': 0}\n",
    "\n",
    "df[\"browser\"] = df[\"browser\"].map(browser)\n",
    "df[\"deviceCategory\"] = df[\"deviceCategory\"].map(category)\n",
    "df[\"operatingSystem\"] = df[\"operatingSystem\"].map(operatingSystem)"
   ]
  },
  {
   "cell_type": "code",
   "execution_count": null,
   "metadata": {},
   "outputs": [],
   "source": [
    "y = df['totalTransactionRevenue']\n",
    "x = df.drop(columns=['totalTransactionRevenue'], axis=1)"
   ]
  }
 ],
 "metadata": {
  "kernelspec": {
   "display_name": "Python 3",
   "language": "python",
   "name": "python3"
  },
  "language_info": {
   "codemirror_mode": {
    "name": "ipython",
    "version": 3
   },
   "file_extension": ".py",
   "mimetype": "text/x-python",
   "name": "python",
   "nbconvert_exporter": "python",
   "pygments_lexer": "ipython3",
   "version": "3.6.4"
  }
 },
 "nbformat": 4,
 "nbformat_minor": 2
}
