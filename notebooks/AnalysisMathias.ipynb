{
 "cells": [
  {
   "cell_type": "markdown",
   "metadata": {},
   "source": [
    "# Google Analytics Customer Revenue Prediction\n",
    "\n",
    "Presenting the initial data:\n",
    "\n",
    "Data Fields: \n",
    "    fullVisitorIdv - A unique identifier for each user of the Google Merchandise Store. \n",
    "    channelGrouping - The channel via which the user came to the Store.\n",
    "    date - The date on which the user visited the Store.\n",
    "    device - The specifications for the device used to access the Store.\n",
    "    geoNetwork - This section contains information about the geography of the user.\n",
    "    sessionId - A unique identifier for this visit to the store.\n",
    "    socialEngagementType - Engagement type, either \"Socially Engaged\" or \"Not Socially Engaged\".\n",
    "    totals - This section contains aggregate values across the session.\n",
    "    trafficSource - This section contains information about the Traffic Source from which the session originated.\n",
    "    visitId - An identifier for this session. This is part of the value usually stored as the _utmb cookie. This is only unique to the user. For a completely unique ID, you should use a combination of fullVisitorId and visitId.\n",
    "    visitNumber - The session number for this user. If this is the first session, then this is set to 1.\n",
    "    visitStartTime - The timestamp (expressed as POSIX time)."
   ]
  },
  {
   "cell_type": "code",
   "execution_count": 3,
   "metadata": {},
   "outputs": [
    {
     "ename": "ImportError",
     "evalue": "cannot import name 'quantile'",
     "output_type": "error",
     "traceback": [
      "\u001b[0;31m---------------------------------------------------------------------------\u001b[0m",
      "\u001b[0;31mImportError\u001b[0m                               Traceback (most recent call last)",
      "\u001b[0;32m<ipython-input-3-32756cd65c12>\u001b[0m in \u001b[0;36m<module>\u001b[0;34m()\u001b[0m\n\u001b[1;32m      3\u001b[0m \u001b[0;32mimport\u001b[0m \u001b[0mwarnings\u001b[0m\u001b[0;34m\u001b[0m\u001b[0m\n\u001b[1;32m      4\u001b[0m \u001b[0;32mimport\u001b[0m \u001b[0mseaborn\u001b[0m \u001b[0;32mas\u001b[0m \u001b[0msns\u001b[0m\u001b[0;34m\u001b[0m\u001b[0m\n\u001b[0;32m----> 5\u001b[0;31m \u001b[0;32mfrom\u001b[0m \u001b[0mscipy\u001b[0m\u001b[0;34m.\u001b[0m\u001b[0mstats\u001b[0m \u001b[0;32mimport\u001b[0m \u001b[0mkurtosis\u001b[0m\u001b[0;34m,\u001b[0m \u001b[0mskew\u001b[0m\u001b[0;34m,\u001b[0m \u001b[0mquantile\u001b[0m\u001b[0;34m\u001b[0m\u001b[0m\n\u001b[0m\u001b[1;32m      6\u001b[0m \u001b[0;34m\u001b[0m\u001b[0m\n\u001b[1;32m      7\u001b[0m \u001b[0mdf\u001b[0m \u001b[0;34m=\u001b[0m \u001b[0mpd\u001b[0m\u001b[0;34m.\u001b[0m\u001b[0mread_csv\u001b[0m\u001b[0;34m(\u001b[0m\u001b[0;34m\"train_v2_cleaned.csv\"\u001b[0m\u001b[0;34m,\u001b[0m \u001b[0mindex_col\u001b[0m\u001b[0;34m=\u001b[0m\u001b[0;36m0\u001b[0m\u001b[0;34m)\u001b[0m\u001b[0;34m\u001b[0m\u001b[0m\n",
      "\u001b[0;31mImportError\u001b[0m: cannot import name 'quantile'"
     ]
    }
   ],
   "source": [
    "import pandas as pd\n",
    "import numpy as np\n",
    "import warnings\n",
    "import seaborn as sns\n",
    "from scipy.stats import kurtosis, skew, quantile\n",
    "\n",
    "df = pd.read_csv(\"train_v2_cleaned.csv\", index_col=0)"
   ]
  },
  {
   "cell_type": "code",
   "execution_count": null,
   "metadata": {},
   "outputs": [],
   "source": [
    "# Here we see the data types that we have in out dataset\n",
    "df.info()"
   ]
  },
  {
   "cell_type": "markdown",
   "metadata": {},
   "source": [
    "we have: \n",
    "        9   floats\n",
    "        4   integers\n",
    "        10  Object\n"
   ]
  },
  {
   "cell_type": "code",
   "execution_count": null,
   "metadata": {},
   "outputs": [],
   "source": [
    "# we print the first five rows just to see that our dataset is ready for analysis. \n",
    "df.head()"
   ]
  },
  {
   "cell_type": "markdown",
   "metadata": {},
   "source": [
    "# BROSWER -> TotalTransactionRevenue\n",
    "For this first analysis, i will start by looking at 'browser' and see what relationship keep with the 'totalTransactionRevenue' it may not be relevant to know from what browser company purchased are being made, but maybe we can find some interesting patterns. "
   ]
  },
  {
   "cell_type": "code",
   "execution_count": null,
   "metadata": {},
   "outputs": [],
   "source": [
    "# first lets see how many users used which browser. For this section, we are only intreseted to see values that\n",
    "# higer than 1k. The rest it doesn´t add any value in out dataset. \n",
    "\n",
    "df['browser'].value_counts()[:15] "
   ]
  },
  {
   "cell_type": "markdown",
   "metadata": {},
   "source": [
    "Chrome - 68.68%\n",
    "Safari - 18,23%\n",
    "Firefox - 3,74%\n",
    "\n",
    "Here we see what we expected, most users are on Chrome followed by Safari. This may lead us to an idea where the the operating system may be between windows and Mac. People don usually download Safari browser on a Windows Machine. We will see this later when we see the relationship with 'operatingSystem'."
   ]
  },
  {
   "cell_type": "code",
   "execution_count": null,
   "metadata": {},
   "outputs": [],
   "source": [
    "# now let´s see an histogram of browser usage for every user in our dataset. \n",
    "import matplotlib.pyplot as plt\n",
    "import seaborn as sns\n",
    "\n",
    "plt.figure(figsize=(14,6))\n",
    "\n",
    "sns.countplot(df[df['browser'].isin(df['browser']\n",
    "                                                       .value_counts()[:15].index.values)]['browser'], palette=\"hls\") # It's a module to count the category's\n",
    "plt.title(\"Most used browsers\", fontsize=20) # Simply setting the tittle. \n",
    "plt.xlabel(\"Browser name\", fontsize=16) # Adding a label to the X axis. \n",
    "plt.ylabel(\"Count\", fontsize=16) #Adding a text to the Y axis. \n",
    "plt.xticks(rotation=45) # Simply adjust the text rotation to see it easier. \n",
    "\n",
    "plt.show() "
   ]
  },
  {
   "cell_type": "code",
   "execution_count": 2,
   "metadata": {},
   "outputs": [
    {
     "ename": "NameError",
     "evalue": "name 'plt' is not defined",
     "output_type": "error",
     "traceback": [
      "\u001b[0;31m---------------------------------------------------------------------------\u001b[0m",
      "\u001b[0;31mNameError\u001b[0m                                 Traceback (most recent call last)",
      "\u001b[0;32m<ipython-input-2-95e269a8aadc>\u001b[0m in \u001b[0;36m<module>\u001b[0;34m()\u001b[0m\n\u001b[1;32m      1\u001b[0m \u001b[0;31m# Now lets get a coser look at the one that are most relevant to our dataset. Let´s see the firdst 5 Browsers\u001b[0m\u001b[0;34m\u001b[0m\u001b[0;34m\u001b[0m\u001b[0m\n\u001b[0;32m----> 2\u001b[0;31m \u001b[0mplt\u001b[0m\u001b[0;34m.\u001b[0m\u001b[0mfigure\u001b[0m\u001b[0;34m(\u001b[0m\u001b[0mfigsize\u001b[0m\u001b[0;34m=\u001b[0m\u001b[0;34m(\u001b[0m\u001b[0;36m14\u001b[0m\u001b[0;34m,\u001b[0m\u001b[0;36m6\u001b[0m\u001b[0;34m)\u001b[0m\u001b[0;34m)\u001b[0m\u001b[0;34m\u001b[0m\u001b[0m\n\u001b[0m\u001b[1;32m      3\u001b[0m \u001b[0;34m\u001b[0m\u001b[0m\n\u001b[1;32m      4\u001b[0m sns.countplot(df[df['browser'].isin(df['browser']\n\u001b[1;32m      5\u001b[0m                                                        .value_counts()[:5].index.values)]['browser'], palette=\"hls\") # It's a module to count the category's\n",
      "\u001b[0;31mNameError\u001b[0m: name 'plt' is not defined"
     ]
    }
   ],
   "source": [
    "# Now lets get a coser look at the one that are most relevant to our dataset. Let´s see the firdst 5 Browsers\n",
    "plt.figure(figsize=(14,6))\n",
    "\n",
    "sns.countplot(df[df['browser'].isin(df['browser']\n",
    "                                                       .value_counts()[:5].index.values)]['browser'], palette=\"hls\") # It's a module to count the category's\n",
    "plt.title(\"Most used browsers\", fontsize=20) # Simply setting the tittle. \n",
    "plt.xlabel(\"Browser name\", fontsize=16) # Adding a label to the X axis. \n",
    "plt.ylabel(\"Count\", fontsize=16) #Adding a text to the Y axis. \n",
    "plt.xticks(rotation=45) # Simply adjust the text rotation to see it easier. \n",
    "\n",
    "plt.show() "
   ]
  },
  {
   "cell_type": "markdown",
   "metadata": {},
   "source": [
    "Users in the dataset tend to visit the store through the Chrome Browser the most, followed by the Safari. This could lead us to a question where Safari users may come from a Macintosh operating system. Normally, safari is always installed in that OS. Altought Chrome is most demanded among users, this could also be used ehtother for Windows and MacOS platforms. We will see this when we cross OperatingSystem to see with are the most used by the consumers. \n"
   ]
  },
  {
   "cell_type": "code",
   "execution_count": 12,
   "metadata": {},
   "outputs": [
    {
     "name": "stdout",
     "output_type": "stream",
     "text": [
      "Transaction Revenue Min Value:  1.2\n",
      "Transaction Revenue Mean Value:  1.5558951243023724\n",
      "Transaction Revenue Median Value:  52.38\n",
      "Transaction Revenue Max Value:  0.4708206\n"
     ]
    }
   ],
   "source": [
    "#before we cross broswer with transactionRevenue to see which browser tend to make higher income to the store, \n",
    "#lets analyze the distribution of the totalTransactionRevenue and some statistical approaches. \n",
    "\n",
    "print(\"Transaction Revenue Min Value: \", \n",
    "      df[df['totalTransactionRevenue'] > 0][\"totalTransactionRevenue\"].min()) # printing the min value\n",
    "print(\"Transaction Revenue Mean Value: \", \n",
    "      df[\"totalTransactionRevenue\"].mean()) # mean value\n",
    "print(\"Transaction Revenue Median Value: \", \n",
    "      df[df['totalTransactionRevenue'] > 0][\"totalTransactionRevenue\"].median()) # median value\n",
    "print(\"Transaction Revenue Max Value: \", \n",
    "      df[df['totalTransactionRevenue'] > 0][\"totalTransactionRevenue\"].max()/100000) # the max value\n",
    "\n",
    "# TODO i get really high numbers. I have to see how data is in \n"
   ]
  },
  {
   "cell_type": "code",
   "execution_count": 48,
   "metadata": {},
   "outputs": [
    {
     "data": {
      "image/png": "[encoded data removed]",
      "text/plain": [
       "<matplotlib.figure.Figure at 0x117a0e9e8>"
      ]
     },
     "metadata": {},
     "output_type": "display_data"
    }
   ],
   "source": [
    "# let´s sea a distribution graph of transactionRevenue without the customers that generate zero transactions. \n",
    "plt.style.use('fivethirtyeight')\n",
    "plt.figure(figsize=(25,9))\n",
    "plt.subplot(1,2,1)\n",
    "# seting the distribuition of our data and normalizing using np.log on values highest than 0 and + \n",
    "# also, we will set the number of bins and if we want or not kde on our histogram\n",
    "ax = sns.distplot(np.log(df[df['totalTransactionRevenue'] > 0][\"totalTransactionRevenue\"] + 0.01), bins=40, kde=True)\n",
    "ax.set_xlabel('Transaction RevenueLog', fontsize=15) #seting the xlabel and size of font\n",
    "ax.set_ylabel('Distribuition', fontsize=15) #seting the ylabel and size of font\n",
    "ax.set_title(\"Distribuition of Revenue Log\", fontsize=20) #seting the title and size of font\n",
    "\n",
    "plt.show()\n"
   ]
  },
  {
   "cell_type": "code",
   "execution_count": 52,
   "metadata": {
    "scrolled": true
   },
   "outputs": [
    {
     "name": "stdout",
     "output_type": "stream",
     "text": [
      "Kurtosis: 1.1414434324693348\n",
      "Skewness: 0.8059761877514919\n"
     ]
    }
   ],
   "source": [
    "# After visualizing the plot, it is also interesting to see the Skewness and the Kurtosis. \n",
    "\n",
    "print('Kurtosis: {}'.format(kurtosis(np.log(df[df['totalTransactionRevenue'] > 0][\"totalTransactionRevenue\"]))))\n",
    "print('Skewness: {}'.format(skew((np.log(df[df['totalTransactionRevenue'] > 0][\"totalTransactionRevenue\"])))))"
   ]
  },
  {
   "cell_type": "code",
   "execution_count": 15,
   "metadata": {},
   "outputs": [],
   "source": [
    "def CalcOutliers(df_num): \n",
    "    '''\n",
    "    \n",
    "    Leonardo Ferreira 20/10/2018\n",
    "    Set a numerical value and it will calculate the upper, lower and total number of outliers\n",
    "    It will print a lot of statistics of the numerical feature that you set on input\n",
    "    \n",
    "    '''\n",
    "    # calculating mean and std of the array\n",
    "    data_mean, data_std = np.mean(df_num), np.std(df_num)\n",
    "\n",
    "    # seting the cut line to both higher and lower values\n",
    "    # You can change this value\n",
    "    cut = data_std * 3\n",
    "\n",
    "    #Calculating the higher and lower cut values\n",
    "    lower, upper = data_mean - cut, data_mean + cut\n",
    "\n",
    "    # creating an array of lower, higher and total outlier values \n",
    "    outliers_lower = [x for x in df_num if x < lower]\n",
    "    outliers_higher = [x for x in df_num if x > upper]\n",
    "    outliers_total = [x for x in df_num if x < lower or x > upper]\n",
    "\n",
    "    # array without outlier values\n",
    "    outliers_removed = [x for x in df_num if x > lower and x < upper]\n",
    "    \n",
    "    print('Identified lowest outliers: %d' % len(outliers_lower)) # printing total number of values in lower cut of outliers\n",
    "    print('Identified upper outliers: %d' % len(outliers_higher)) # printing total number of values in higher cut of outliers\n",
    "    print('Identified outliers: %d' % len(outliers_total)) # printing total number of values outliers of both sides\n",
    "    print('Non-outlier observations: %d' % len(outliers_removed)) # printing total number of non outlier values\n",
    "    print(\"Total percentual of Outliers: \", round((len(outliers_total) / len(outliers_removed) )*100, 4)) # Percentual of outliers in points\n",
    "    \n",
    "    return"
   ]
  },
  {
   "cell_type": "code",
   "execution_count": 32,
   "metadata": {},
   "outputs": [
    {
     "name": "stdout",
     "output_type": "stream",
     "text": [
      "Identified lowest outliers: 0\n",
      "Identified upper outliers: 63\n",
      "Identified outliers: 63\n",
      "Non-outlier observations: 16284\n",
      "Total percentual of Outliers:  0.3869\n"
     ]
    }
   ],
   "source": [
    "#Lets see how many outliers are in TotalTransactionRevenue before we cross this attribute with browsers. \n",
    "purchases = df[df['totalTransactionRevenue']> 0]\n",
    "CalcOutliers(purchases['totalTransactionRevenue']) "
   ]
  },
  {
   "cell_type": "markdown",
   "metadata": {},
   "source": [
    "# CROSSING BROWSER->TOTALTRANSACTIONREVENUE\n",
    "\n",
    "Now let´s see what information we get from totalTransactionRevenue and browser.\n",
    "Our question is: \n",
    "¿Does it have any relevance that one browser or the other is used to visits our store?"
   ]
  },
  {
   "cell_type": "code",
   "execution_count": 57,
   "metadata": {},
   "outputs": [],
   "source": [
    "# code for getting only the purchases\n",
    "purchases = df[df['totalTransactionRevenue']> 0]\n",
    "\n",
    "\n",
    "# code for removing outliers\n",
    "Q1 = purchases['totalTransactionRevenue'].quantile(0.05)\n",
    "Q3 = purchases['totalTransactionRevenue'].quantile(0.95)\n",
    "IQR = Q3 - Q1\n",
    "purchases = purchases[purchases['totalTransactionRevenue'] > (Q1-1.5*IQR)]\n",
    "purchases = purchases[purchases['totalTransactionRevenue'] < (Q3+1.5*IQR)]"
   ]
  },
  {
   "cell_type": "code",
   "execution_count": 56,
   "metadata": {},
   "outputs": [
    {
     "data": {
      "image/png": "[encoded data removed]",
      "text/plain": [
       "<matplotlib.figure.Figure at 0x117a5aa58>"
      ]
     },
     "metadata": {},
     "output_type": "display_data"
    }
   ],
   "source": [
    "ax = sns.distplot((purchases[purchases['totalTransactionRevenue'] > 0][\"totalTransactionRevenue\"] + 0.01), bins=40, kde=True)\n",
    "\n",
    "plt.show()"
   ]
  },
  {
   "cell_type": "code",
   "execution_count": 53,
   "metadata": {},
   "outputs": [
    {
     "ename": "AttributeError",
     "evalue": "module 'seaborn' has no attribute 'boxenplot'",
     "output_type": "error",
     "traceback": [
      "\u001b[0;31m----------------\u001b[0m",
      "\u001b[0;31mAttributeError\u001b[0mTraceback (most recent call last)",
      "\u001b[0;32m<ipython-input-53-3fd06e5f7a4f>\u001b[0m in \u001b[0;36m<module>\u001b[0;34m()\u001b[0m\n\u001b[1;32m      2\u001b[0m \u001b[0;34m\u001b[0m\u001b[0m\n\u001b[1;32m      3\u001b[0m \u001b[0;31m#It's another way to plot our data. using a variable that contains the plot parameters\u001b[0m\u001b[0;34m\u001b[0m\u001b[0;34m\u001b[0m\u001b[0m\n\u001b[0;32m----> 4\u001b[0;31m Browser_Revenue = sns.boxenplot(x='browser', y='totalTransactionRevenue', \n\u001b[0m\u001b[1;32m      5\u001b[0m                  data=purchases[(purchases['browser'].isin((purchases['browser'].value_counts()[:7].index.values)))])\n\u001b[1;32m      6\u001b[0m \u001b[0;34m\u001b[0m\u001b[0m\n",
      "\u001b[0;31mAttributeError\u001b[0m: module 'seaborn' has no attribute 'boxenplot'"
     ]
    },
    {
     "data": {
      "text/plain": [
       "<matplotlib.figure.Figure at 0x118668208>"
      ]
     },
     "metadata": {},
     "output_type": "display_data"
    }
   ],
   "source": [
    "plt.figure(figsize=(13,6)) #figure size\n",
    "\n",
    "#It's another way to plot our data. using a variable that contains the plot parameters\n",
    "Browser_Revenue = sns.boxenplot(x='browser', y='totalTransactionRevenue', \n",
    "                 data=purchases[(purchases['browser'].isin((purchases['browser'].value_counts()[:7].index.values)))])\n",
    "\n",
    "\n",
    "Browser_Revenue.set_title('Browsers Name by Transactions Revenue', fontsize=20) # title and fontsize\n",
    "Browser_Revenue.set_xticklabels(Browser_Revenue.get_xticklabels(),rotation=45) # It's the way to rotate the xticks when we use variable to our graphs\n",
    "Browser_Revenue.set_xlabel('Device Names', fontsize=18) # Xlabel\n",
    "Browser_Revenue.set_ylabel('Trans Revenue(log) Dist', fontsize=18) #Ylabel\n",
    "plt.xticks(rotation=45) # Simply adjust the text rotation to see it easier.\n",
    "\n",
    "\n",
    "plt.show()"
   ]
  },
  {
   "cell_type": "code",
   "execution_count": 54,
   "metadata": {},
   "outputs": [
    {
     "ename": "ModuleNotFoundError",
     "evalue": "No module named 'plotly'",
     "output_type": "error",
     "traceback": [
      "\u001b[0;31m----------------\u001b[0m",
      "\u001b[0;31mModuleNotFoundError\u001b[0mTraceback (most recent call last)",
      "\u001b[0;32m<ipython-input-54-55c5b236feeb>\u001b[0m in \u001b[0;36m<module>\u001b[0;34m()\u001b[0m\n\u001b[1;32m      1\u001b[0m \u001b[0;31m# Esta funcion fue cogida de un kernel de kaggle en el que imprime la gráfica en horizontal\u001b[0m\u001b[0;34m\u001b[0m\u001b[0;34m\u001b[0m\u001b[0m\n\u001b[0;32m----> 2\u001b[0;31m \u001b[0;32mfrom\u001b[0m \u001b[0mplotly\u001b[0m \u001b[0;32mimport\u001b[0m \u001b[0mtools\u001b[0m\u001b[0;34m\u001b[0m\u001b[0m\n\u001b[0m\u001b[1;32m      3\u001b[0m \u001b[0;32mimport\u001b[0m \u001b[0mplotly\u001b[0m\u001b[0;34m.\u001b[0m\u001b[0mplotly\u001b[0m \u001b[0;32mas\u001b[0m \u001b[0mpy\u001b[0m\u001b[0;34m\u001b[0m\u001b[0m\n\u001b[1;32m      4\u001b[0m \u001b[0;32mimport\u001b[0m \u001b[0mplotly\u001b[0m\u001b[0;34m.\u001b[0m\u001b[0moffline\u001b[0m \u001b[0;32mas\u001b[0m \u001b[0mpy\u001b[0m\u001b[0;34m\u001b[0m\u001b[0m\n\u001b[1;32m      5\u001b[0m \u001b[0mpy\u001b[0m\u001b[0;34m.\u001b[0m\u001b[0minit_notebook_mode\u001b[0m\u001b[0;34m(\u001b[0m\u001b[0mconnected\u001b[0m\u001b[0;34m=\u001b[0m\u001b[0;32mTrue\u001b[0m\u001b[0;34m)\u001b[0m\u001b[0;34m\u001b[0m\u001b[0m\n",
      "\u001b[0;31mModuleNotFoundError\u001b[0m: No module named 'plotly'"
     ]
    }
   ],
   "source": [
    "# Esta funcion fue cogida de un kernel de kaggle en el que imprime la gráfica en horizontal \n",
    "from plotly import tools\n",
    "import plotly.plotly as py\n",
    "import plotly.offline as py\n",
    "py.init_notebook_mode(connected=True)\n",
    "import plotly.graph_objs as go\n",
    "\n",
    "def horizontal_bar_chart(cnt_srs, color):\n",
    "    trace = go.Bar(\n",
    "        y=cnt_srs.index[::-1],\n",
    "        x=cnt_srs.values[::-1],\n",
    "        showlegend=False,\n",
    "        orientation = 'h',\n",
    "        marker=dict(\n",
    "            color=color,\n",
    "        ),\n",
    "    )\n",
    "    return trace"
   ]
  },
  {
   "cell_type": "markdown",
   "metadata": {},
   "source": [
    "# Browser, Device Category & Operating system.\n",
    "\n",
    "Here we analyse though an histogram, the individual count including the zero values and the cross with revenue. \n",
    "What we cant to know is if it meand anything the browser that is being used to visit the store and what income does it bring with it. In other words:\n",
    "¿Does it add any relationship to the transactionRevenue total in out dataset?\n",
    "¿Which browser makes more moeny in our store?\n",
    "¿From which device catergory are most of the revenue made from?\n",
    "¿Are Chrome Browsser the ones that make more revenue in the Store?\n",
    "¿What operating system is mostly used and which is the one that makes more revenue?"
   ]
  },
  {
   "cell_type": "code",
   "execution_count": 14,
   "metadata": {},
   "outputs": [
    {
     "name": "stdout",
     "output_type": "stream",
     "text": [
      "This is the format of your plot grid:\n",
      "[ (1,1) x1,y1 ]  [ (1,2) x2,y2 ]  [ (1,3) x3,y3 ]\n",
      "[ (2,1) x4,y4 ]  [ (2,2) x5,y5 ]  [ (2,3) x6,y6 ]\n",
      "[ (3,1) x7,y7 ]  [ (3,2) x8,y8 ]  [ (3,3) x9,y9 ]\n",
      "\n"
     ]
    },
    {
     "data": {
      "application/vnd.plotly.v1+json": {
       "config": {
        "linkText": "Export to plot.ly",
        "plotlyServerURL": "https://plot.ly",
        "showLink": true
       },
       "data": [
        {
         "marker": {
          "color": "teal"
         },
         "orientation": "h",
         "showlegend": false,
         "type": "bar",
         "uid": "d89cf034-0d39-4fb5-a97d-547f75df764b",
         "x": [
          8505,
          12709,
          13254,
          14061,
          18174,
          30161,
          31368,
          56359,
          275044,
          1035956
         ],
         "xaxis": "x",
         "y": [
          "Opera",
          "Safari (in-app)",
          "Opera Mini",
          "Samsung Internet",
          "Edge",
          "Android Webview",
          "Internet Explorer",
          "Firefox",
          "Safari",
          "Chrome"
         ],
         "yaxis": "y"
        },
        {
         "marker": {
          "color": "teal"
         },
         "orientation": "h",
         "showlegend": false,
         "type": "bar",
         "uid": "606393d1-6284-48eb-8e9e-a912e77f3a4b",
         "x": [
          8505,
          12709,
          13254,
          14061,
          18174,
          30161,
          31368,
          56359,
          275044,
          1035956
         ],
         "xaxis": "x2",
         "y": [
          "Opera",
          "Safari (in-app)",
          "Opera Mini",
          "Samsung Internet",
          "Edge",
          "Android Webview",
          "Internet Explorer",
          "Firefox",
          "Safari",
          "Chrome"
         ],
         "yaxis": "y2"
        },
        {
         "marker": {
          "color": "teal"
         },
         "orientation": "h",
         "showlegend": false,
         "type": "bar",
         "uid": "4a37f46a-c9d5-4bdc-8629-e8e335e18782",
         "x": [
          84392.71017048795,
          13835.077504130932,
          0,
          17202.19045587085,
          488907.23010894685,
          6569.41082855343,
          335395.94491201226,
          3869068.1168934866,
          266023.8725440293,
          1964165.4375282347
         ],
         "xaxis": "x3",
         "y": [
          "Opera",
          "Safari (in-app)",
          "Opera Mini",
          "Samsung Internet",
          "Edge",
          "Android Webview",
          "Internet Explorer",
          "Firefox",
          "Safari",
          "Chrome"
         ],
         "yaxis": "y3"
        },
        {
         "marker": {
          "color": "#484849"
         },
         "orientation": "h",
         "showlegend": false,
         "type": "bar",
         "uid": "975dad17-1d7e-4b2d-b604-7dd02a584fcc",
         "x": [
          58300,
          416786,
          1033252
         ],
         "xaxis": "x4",
         "y": [
          "tablet",
          "mobile",
          "desktop"
         ],
         "yaxis": "y4"
        },
        {
         "marker": {
          "color": "#484849"
         },
         "orientation": "h",
         "showlegend": false,
         "type": "bar",
         "uid": "22b91929-808d-40fe-9b20-b60d61fe7d6d",
         "x": [
          58300,
          416786,
          1033252
         ],
         "xaxis": "x5",
         "y": [
          "tablet",
          "mobile",
          "desktop"
         ],
         "yaxis": "y5"
        },
        {
         "marker": {
          "color": "#484849"
         },
         "orientation": "h",
         "showlegend": false,
         "type": "bar",
         "uid": "18350ccb-c4c0-4d07-a540-75979624d327",
         "x": [
          227420.5831903945,
          167384.29313844515,
          2190940.535319554
         ],
         "xaxis": "x6",
         "y": [
          "tablet",
          "mobile",
          "desktop"
         ],
         "yaxis": "y6"
        },
        {
         "marker": {
          "color": "#36729C"
         },
         "orientation": "h",
         "showlegend": false,
         "type": "bar",
         "uid": "2ffb7706-32e8-4605-867b-55f09a3ad6bf",
         "x": [
          311,
          625,
          804,
          1456,
          45353,
          56421,
          194353,
          264781,
          386173,
          547046
         ],
         "xaxis": "x7",
         "y": [
          "BlackBerry",
          "Tizen",
          "Samsung",
          "Windows Phone",
          "Chrome OS",
          "Linux",
          "iOS",
          "Android",
          "Macintosh",
          "Windows"
         ],
         "yaxis": "y7"
        },
        {
         "marker": {
          "color": "#36729C"
         },
         "orientation": "h",
         "showlegend": false,
         "type": "bar",
         "uid": "31c91625-0c25-4595-9f4c-6153c5494b5e",
         "x": [
          311,
          625,
          804,
          1456,
          45353,
          56421,
          194353,
          264781,
          386173,
          547046
         ],
         "xaxis": "x8",
         "y": [
          "BlackBerry",
          "Tizen",
          "Samsung",
          "Windows Phone",
          "Chrome OS",
          "Linux",
          "iOS",
          "Android",
          "Macintosh",
          "Windows"
         ],
         "yaxis": "y8"
        },
        {
         "marker": {
          "color": "#36729C"
         },
         "orientation": "h",
         "showlegend": false,
         "type": "bar",
         "uid": "32cd0723-1a36-409a-8977-e9ffe1edc4af",
         "x": [
          0,
          0,
          0,
          0,
          5531087.028421493,
          1230956.558728133,
          180005.196729662,
          178068.55476790253,
          3297617.3890976324,
          1226456.3309118429
         ],
         "xaxis": "x9",
         "y": [
          "BlackBerry",
          "Tizen",
          "Samsung",
          "Windows Phone",
          "Chrome OS",
          "Linux",
          "iOS",
          "Android",
          "Macintosh",
          "Windows"
         ],
         "yaxis": "y9"
        }
       ],
       "layout": {
        "annotations": [
         {
          "font": {
           "size": 16
          },
          "showarrow": false,
          "text": "Device Browser - Count",
          "x": 0.14444444444444446,
          "xanchor": "center",
          "xref": "paper",
          "y": 1,
          "yanchor": "bottom",
          "yref": "paper"
         },
         {
          "font": {
           "size": 16
          },
          "showarrow": false,
          "text": "Device Browser - Non-zero Revenue Count",
          "x": 0.5,
          "xanchor": "center",
          "xref": "paper",
          "y": 1,
          "yanchor": "bottom",
          "yref": "paper"
         },
         {
          "font": {
           "size": 16
          },
          "showarrow": false,
          "text": "Device Browser - Mean Revenue",
          "x": 0.8555555555555556,
          "xanchor": "center",
          "xref": "paper",
          "y": 1,
          "yanchor": "bottom",
          "yref": "paper"
         },
         {
          "font": {
           "size": 16
          },
          "showarrow": false,
          "text": "Device Category - Count",
          "x": 0.14444444444444446,
          "xanchor": "center",
          "xref": "paper",
          "y": 0.6533333333333333,
          "yanchor": "bottom",
          "yref": "paper"
         },
         {
          "font": {
           "size": 16
          },
          "showarrow": false,
          "text": "Device Category - Non-zero Revenue Count",
          "x": 0.5,
          "xanchor": "center",
          "xref": "paper",
          "y": 0.6533333333333333,
          "yanchor": "bottom",
          "yref": "paper"
         },
         {
          "font": {
           "size": 16
          },
          "showarrow": false,
          "text": "Device Category - Mean Revenue",
          "x": 0.8555555555555556,
          "xanchor": "center",
          "xref": "paper",
          "y": 0.6533333333333333,
          "yanchor": "bottom",
          "yref": "paper"
         },
         {
          "font": {
           "size": 16
          },
          "showarrow": false,
          "text": "Device OS - Count",
          "x": 0.14444444444444446,
          "xanchor": "center",
          "xref": "paper",
          "y": 0.3066666666666667,
          "yanchor": "bottom",
          "yref": "paper"
         },
         {
          "font": {
           "size": 16
          },
          "showarrow": false,
          "text": "Device OS - Non-zero Revenue Count",
          "x": 0.5,
          "xanchor": "center",
          "xref": "paper",
          "y": 0.3066666666666667,
          "yanchor": "bottom",
          "yref": "paper"
         },
         {
          "font": {
           "size": 16
          },
          "showarrow": false,
          "text": "Device OS - Mean Revenue",
          "x": 0.8555555555555556,
          "xanchor": "center",
          "xref": "paper",
          "y": 0.3066666666666667,
          "yanchor": "bottom",
          "yref": "paper"
         }
        ],
        "height": 1200,
        "paper_bgcolor": "rgb(233,233,233)",
        "title": "Device Plots",
        "width": 1200,
        "xaxis": {
         "anchor": "y",
         "domain": [
          0,
          0.2888888888888889
         ]
        },
        "xaxis2": {
         "anchor": "y2",
         "domain": [
          0.35555555555555557,
          0.6444444444444445
         ]
        },
        "xaxis3": {
         "anchor": "y3",
         "domain": [
          0.7111111111111111,
          1
         ]
        },
        "xaxis4": {
         "anchor": "y4",
         "domain": [
          0,
          0.2888888888888889
         ]
        },
        "xaxis5": {
         "anchor": "y5",
         "domain": [
          0.35555555555555557,
          0.6444444444444445
         ]
        },
        "xaxis6": {
         "anchor": "y6",
         "domain": [
          0.7111111111111111,
          1
         ]
        },
        "xaxis7": {
         "anchor": "y7",
         "domain": [
          0,
          0.2888888888888889
         ]
        },
        "xaxis8": {
         "anchor": "y8",
         "domain": [
          0.35555555555555557,
          0.6444444444444445
         ]
        },
        "xaxis9": {
         "anchor": "y9",
         "domain": [
          0.7111111111111111,
          1
         ]
        },
        "yaxis": {
         "anchor": "x",
         "domain": [
          0.6933333333333334,
          1
         ]
        },
        "yaxis2": {
         "anchor": "x2",
         "domain": [
          0.6933333333333334,
          1
         ]
        },
        "yaxis3": {
         "anchor": "x3",
         "domain": [
          0.6933333333333334,
          1
         ]
        },
        "yaxis4": {
         "anchor": "x4",
         "domain": [
          0.3466666666666667,
          0.6533333333333333
         ]
        },
        "yaxis5": {
         "anchor": "x5",
         "domain": [
          0.3466666666666667,
          0.6533333333333333
         ]
        },
        "yaxis6": {
         "anchor": "x6",
         "domain": [
          0.3466666666666667,
          0.6533333333333333
         ]
        },
        "yaxis7": {
         "anchor": "x7",
         "domain": [
          0,
          0.3066666666666667
         ]
        },
        "yaxis8": {
         "anchor": "x8",
         "domain": [
          0,
          0.3066666666666667
         ]
        },
        "yaxis9": {
         "anchor": "x9",
         "domain": [
          0,
          0.3066666666666667
         ]
        }
       }
      },
      "text/html": [
       "<div id=\"71bb5894-b897-438b-bb35-64d2bef05bc7\" style=\"height: 1200px; width: 1200px;\" class=\"plotly-graph-div\"></div><script type=\"text/javascript\">require([\"plotly\"], function(Plotly) { window.PLOTLYENV=window.PLOTLYENV || {};window.PLOTLYENV.BASE_URL=\"https://plot.ly\";Plotly.newPlot(\"71bb5894-b897-438b-bb35-64d2bef05bc7\", [{\"marker\": {\"color\": \"teal\"}, \"orientation\": \"h\", \"showlegend\": false, \"x\": [8505, 12709, 13254, 14061, 18174, 30161, 31368, 56359, 275044, 1035956], \"y\": [\"Opera\", \"Safari (in-app)\", \"Opera Mini\", \"Samsung Internet\", \"Edge\", \"Android Webview\", \"Internet Explorer\", \"Firefox\", \"Safari\", \"Chrome\"], \"type\": \"bar\", \"uid\": \"d89cf034-0d39-4fb5-a97d-547f75df764b\", \"xaxis\": \"x\", \"yaxis\": \"y\"}, {\"marker\": {\"color\": \"teal\"}, \"orientation\": \"h\", \"showlegend\": false, \"x\": [8505, 12709, 13254, 14061, 18174, 30161, 31368, 56359, 275044, 1035956], \"y\": [\"Opera\", \"Safari (in-app)\", \"Opera Mini\", \"Samsung Internet\", \"Edge\", \"Android Webview\", \"Internet Explorer\", \"Firefox\", \"Safari\", \"Chrome\"], \"type\": \"bar\", \"uid\": \"606393d1-6284-48eb-8e9e-a912e77f3a4b\", \"xaxis\": \"x2\", \"yaxis\": \"y2\"}, {\"marker\": {\"color\": \"teal\"}, \"orientation\": \"h\", \"showlegend\": false, \"x\": [84392.71017048795, 13835.077504130932, 0.0, 17202.19045587085, 488907.23010894685, 6569.41082855343, 335395.94491201226, 3869068.1168934866, 266023.8725440293, 1964165.4375282347], \"y\": [\"Opera\", \"Safari (in-app)\", \"Opera Mini\", \"Samsung Internet\", \"Edge\", \"Android Webview\", \"Internet Explorer\", \"Firefox\", \"Safari\", \"Chrome\"], \"type\": \"bar\", \"uid\": \"4a37f46a-c9d5-4bdc-8629-e8e335e18782\", \"xaxis\": \"x3\", \"yaxis\": \"y3\"}, {\"marker\": {\"color\": \"#484849\"}, \"orientation\": \"h\", \"showlegend\": false, \"x\": [58300, 416786, 1033252], \"y\": [\"tablet\", \"mobile\", \"desktop\"], \"type\": \"bar\", \"uid\": \"975dad17-1d7e-4b2d-b604-7dd02a584fcc\", \"xaxis\": \"x4\", \"yaxis\": \"y4\"}, {\"marker\": {\"color\": \"#484849\"}, \"orientation\": \"h\", \"showlegend\": false, \"x\": [58300, 416786, 1033252], \"y\": [\"tablet\", \"mobile\", \"desktop\"], \"type\": \"bar\", \"uid\": \"22b91929-808d-40fe-9b20-b60d61fe7d6d\", \"xaxis\": \"x5\", \"yaxis\": \"y5\"}, {\"marker\": {\"color\": \"#484849\"}, \"orientation\": \"h\", \"showlegend\": false, \"x\": [227420.5831903945, 167384.29313844515, 2190940.535319554], \"y\": [\"tablet\", \"mobile\", \"desktop\"], \"type\": \"bar\", \"uid\": \"18350ccb-c4c0-4d07-a540-75979624d327\", \"xaxis\": \"x6\", \"yaxis\": \"y6\"}, {\"marker\": {\"color\": \"#36729C\"}, \"orientation\": \"h\", \"showlegend\": false, \"x\": [311, 625, 804, 1456, 45353, 56421, 194353, 264781, 386173, 547046], \"y\": [\"BlackBerry\", \"Tizen\", \"Samsung\", \"Windows Phone\", \"Chrome OS\", \"Linux\", \"iOS\", \"Android\", \"Macintosh\", \"Windows\"], \"type\": \"bar\", \"uid\": \"2ffb7706-32e8-4605-867b-55f09a3ad6bf\", \"xaxis\": \"x7\", \"yaxis\": \"y7\"}, {\"marker\": {\"color\": \"#36729C\"}, \"orientation\": \"h\", \"showlegend\": false, \"x\": [311, 625, 804, 1456, 45353, 56421, 194353, 264781, 386173, 547046], \"y\": [\"BlackBerry\", \"Tizen\", \"Samsung\", \"Windows Phone\", \"Chrome OS\", \"Linux\", \"iOS\", \"Android\", \"Macintosh\", \"Windows\"], \"type\": \"bar\", \"uid\": \"31c91625-0c25-4595-9f4c-6153c5494b5e\", \"xaxis\": \"x8\", \"yaxis\": \"y8\"}, {\"marker\": {\"color\": \"#36729C\"}, \"orientation\": \"h\", \"showlegend\": false, \"x\": [0.0, 0.0, 0.0, 0.0, 5531087.028421493, 1230956.558728133, 180005.196729662, 178068.55476790253, 3297617.3890976324, 1226456.3309118429], \"y\": [\"BlackBerry\", \"Tizen\", \"Samsung\", \"Windows Phone\", \"Chrome OS\", \"Linux\", \"iOS\", \"Android\", \"Macintosh\", \"Windows\"], \"type\": \"bar\", \"uid\": \"32cd0723-1a36-409a-8977-e9ffe1edc4af\", \"xaxis\": \"x9\", \"yaxis\": \"y9\"}], {\"annotations\": [{\"font\": {\"size\": 16}, \"showarrow\": false, \"text\": \"Device Browser - Count\", \"x\": 0.14444444444444446, \"xanchor\": \"center\", \"xref\": \"paper\", \"y\": 1.0, \"yanchor\": \"bottom\", \"yref\": \"paper\"}, {\"font\": {\"size\": 16}, \"showarrow\": false, \"text\": \"Device Browser - Non-zero Revenue Count\", \"x\": 0.5, \"xanchor\": \"center\", \"xref\": \"paper\", \"y\": 1.0, \"yanchor\": \"bottom\", \"yref\": \"paper\"}, {\"font\": {\"size\": 16}, \"showarrow\": false, \"text\": \"Device Browser - Mean Revenue\", \"x\": 0.8555555555555556, \"xanchor\": \"center\", \"xref\": \"paper\", \"y\": 1.0, \"yanchor\": \"bottom\", \"yref\": \"paper\"}, {\"font\": {\"size\": 16}, \"showarrow\": false, \"text\": \"Device Category - Count\", \"x\": 0.14444444444444446, \"xanchor\": \"center\", \"xref\": \"paper\", \"y\": 0.6533333333333333, \"yanchor\": \"bottom\", \"yref\": \"paper\"}, {\"font\": {\"size\": 16}, \"showarrow\": false, \"text\": \"Device Category - Non-zero Revenue Count\", \"x\": 0.5, \"xanchor\": \"center\", \"xref\": \"paper\", \"y\": 0.6533333333333333, \"yanchor\": \"bottom\", \"yref\": \"paper\"}, {\"font\": {\"size\": 16}, \"showarrow\": false, \"text\": \"Device Category - Mean Revenue\", \"x\": 0.8555555555555556, \"xanchor\": \"center\", \"xref\": \"paper\", \"y\": 0.6533333333333333, \"yanchor\": \"bottom\", \"yref\": \"paper\"}, {\"font\": {\"size\": 16}, \"showarrow\": false, \"text\": \"Device OS - Count\", \"x\": 0.14444444444444446, \"xanchor\": \"center\", \"xref\": \"paper\", \"y\": 0.3066666666666667, \"yanchor\": \"bottom\", \"yref\": \"paper\"}, {\"font\": {\"size\": 16}, \"showarrow\": false, \"text\": \"Device OS - Non-zero Revenue Count\", \"x\": 0.5, \"xanchor\": \"center\", \"xref\": \"paper\", \"y\": 0.3066666666666667, \"yanchor\": \"bottom\", \"yref\": \"paper\"}, {\"font\": {\"size\": 16}, \"showarrow\": false, \"text\": \"Device OS - Mean Revenue\", \"x\": 0.8555555555555556, \"xanchor\": \"center\", \"xref\": \"paper\", \"y\": 0.3066666666666667, \"yanchor\": \"bottom\", \"yref\": \"paper\"}], \"xaxis\": {\"anchor\": \"y\", \"domain\": [0.0, 0.2888888888888889]}, \"yaxis\": {\"anchor\": \"x\", \"domain\": [0.6933333333333334, 1.0]}, \"xaxis2\": {\"anchor\": \"y2\", \"domain\": [0.35555555555555557, 0.6444444444444445]}, \"yaxis2\": {\"anchor\": \"x2\", \"domain\": [0.6933333333333334, 1.0]}, \"xaxis3\": {\"anchor\": \"y3\", \"domain\": [0.7111111111111111, 1.0]}, \"yaxis3\": {\"anchor\": \"x3\", \"domain\": [0.6933333333333334, 1.0]}, \"xaxis4\": {\"anchor\": \"y4\", \"domain\": [0.0, 0.2888888888888889]}, \"yaxis4\": {\"anchor\": \"x4\", \"domain\": [0.3466666666666667, 0.6533333333333333]}, \"xaxis5\": {\"anchor\": \"y5\", \"domain\": [0.35555555555555557, 0.6444444444444445]}, \"yaxis5\": {\"anchor\": \"x5\", \"domain\": [0.3466666666666667, 0.6533333333333333]}, \"xaxis6\": {\"anchor\": \"y6\", \"domain\": [0.7111111111111111, 1.0]}, \"yaxis6\": {\"anchor\": \"x6\", \"domain\": [0.3466666666666667, 0.6533333333333333]}, \"xaxis7\": {\"anchor\": \"y7\", \"domain\": [0.0, 0.2888888888888889]}, \"yaxis7\": {\"anchor\": \"x7\", \"domain\": [0.0, 0.3066666666666667]}, \"xaxis8\": {\"anchor\": \"y8\", \"domain\": [0.35555555555555557, 0.6444444444444445]}, \"yaxis8\": {\"anchor\": \"x8\", \"domain\": [0.0, 0.3066666666666667]}, \"xaxis9\": {\"anchor\": \"y9\", \"domain\": [0.7111111111111111, 1.0]}, \"yaxis9\": {\"anchor\": \"x9\", \"domain\": [0.0, 0.3066666666666667]}, \"height\": 1200, \"width\": 1200, \"paper_bgcolor\": \"rgb(233,233,233)\", \"title\": \"Device Plots\"}, {\"showLink\": true, \"linkText\": \"Export to plot.ly\", \"plotlyServerURL\": \"https://plot.ly\"})});</script>"
      ],
      "text/vnd.plotly.v1+html": [
       "<div id=\"71bb5894-b897-438b-bb35-64d2bef05bc7\" style=\"height: 1200px; width: 1200px;\" class=\"plotly-graph-div\"></div><script type=\"text/javascript\">require([\"plotly\"], function(Plotly) { window.PLOTLYENV=window.PLOTLYENV || {};window.PLOTLYENV.BASE_URL=\"https://plot.ly\";Plotly.newPlot(\"71bb5894-b897-438b-bb35-64d2bef05bc7\", [{\"marker\": {\"color\": \"teal\"}, \"orientation\": \"h\", \"showlegend\": false, \"x\": [8505, 12709, 13254, 14061, 18174, 30161, 31368, 56359, 275044, 1035956], \"y\": [\"Opera\", \"Safari (in-app)\", \"Opera Mini\", \"Samsung Internet\", \"Edge\", \"Android Webview\", \"Internet Explorer\", \"Firefox\", \"Safari\", \"Chrome\"], \"type\": \"bar\", \"uid\": \"d89cf034-0d39-4fb5-a97d-547f75df764b\", \"xaxis\": \"x\", \"yaxis\": \"y\"}, {\"marker\": {\"color\": \"teal\"}, \"orientation\": \"h\", \"showlegend\": false, \"x\": [8505, 12709, 13254, 14061, 18174, 30161, 31368, 56359, 275044, 1035956], \"y\": [\"Opera\", \"Safari (in-app)\", \"Opera Mini\", \"Samsung Internet\", \"Edge\", \"Android Webview\", \"Internet Explorer\", \"Firefox\", \"Safari\", \"Chrome\"], \"type\": \"bar\", \"uid\": \"606393d1-6284-48eb-8e9e-a912e77f3a4b\", \"xaxis\": \"x2\", \"yaxis\": \"y2\"}, {\"marker\": {\"color\": \"teal\"}, \"orientation\": \"h\", \"showlegend\": false, \"x\": [84392.71017048795, 13835.077504130932, 0.0, 17202.19045587085, 488907.23010894685, 6569.41082855343, 335395.94491201226, 3869068.1168934866, 266023.8725440293, 1964165.4375282347], \"y\": [\"Opera\", \"Safari (in-app)\", \"Opera Mini\", \"Samsung Internet\", \"Edge\", \"Android Webview\", \"Internet Explorer\", \"Firefox\", \"Safari\", \"Chrome\"], \"type\": \"bar\", \"uid\": \"4a37f46a-c9d5-4bdc-8629-e8e335e18782\", \"xaxis\": \"x3\", \"yaxis\": \"y3\"}, {\"marker\": {\"color\": \"#484849\"}, \"orientation\": \"h\", \"showlegend\": false, \"x\": [58300, 416786, 1033252], \"y\": [\"tablet\", \"mobile\", \"desktop\"], \"type\": \"bar\", \"uid\": \"975dad17-1d7e-4b2d-b604-7dd02a584fcc\", \"xaxis\": \"x4\", \"yaxis\": \"y4\"}, {\"marker\": {\"color\": \"#484849\"}, \"orientation\": \"h\", \"showlegend\": false, \"x\": [58300, 416786, 1033252], \"y\": [\"tablet\", \"mobile\", \"desktop\"], \"type\": \"bar\", \"uid\": \"22b91929-808d-40fe-9b20-b60d61fe7d6d\", \"xaxis\": \"x5\", \"yaxis\": \"y5\"}, {\"marker\": {\"color\": \"#484849\"}, \"orientation\": \"h\", \"showlegend\": false, \"x\": [227420.5831903945, 167384.29313844515, 2190940.535319554], \"y\": [\"tablet\", \"mobile\", \"desktop\"], \"type\": \"bar\", \"uid\": \"18350ccb-c4c0-4d07-a540-75979624d327\", \"xaxis\": \"x6\", \"yaxis\": \"y6\"}, {\"marker\": {\"color\": \"#36729C\"}, \"orientation\": \"h\", \"showlegend\": false, \"x\": [311, 625, 804, 1456, 45353, 56421, 194353, 264781, 386173, 547046], \"y\": [\"BlackBerry\", \"Tizen\", \"Samsung\", \"Windows Phone\", \"Chrome OS\", \"Linux\", \"iOS\", \"Android\", \"Macintosh\", \"Windows\"], \"type\": \"bar\", \"uid\": \"2ffb7706-32e8-4605-867b-55f09a3ad6bf\", \"xaxis\": \"x7\", \"yaxis\": \"y7\"}, {\"marker\": {\"color\": \"#36729C\"}, \"orientation\": \"h\", \"showlegend\": false, \"x\": [311, 625, 804, 1456, 45353, 56421, 194353, 264781, 386173, 547046], \"y\": [\"BlackBerry\", \"Tizen\", \"Samsung\", \"Windows Phone\", \"Chrome OS\", \"Linux\", \"iOS\", \"Android\", \"Macintosh\", \"Windows\"], \"type\": \"bar\", \"uid\": \"31c91625-0c25-4595-9f4c-6153c5494b5e\", \"xaxis\": \"x8\", \"yaxis\": \"y8\"}, {\"marker\": {\"color\": \"#36729C\"}, \"orientation\": \"h\", \"showlegend\": false, \"x\": [0.0, 0.0, 0.0, 0.0, 5531087.028421493, 1230956.558728133, 180005.196729662, 178068.55476790253, 3297617.3890976324, 1226456.3309118429], \"y\": [\"BlackBerry\", \"Tizen\", \"Samsung\", \"Windows Phone\", \"Chrome OS\", \"Linux\", \"iOS\", \"Android\", \"Macintosh\", \"Windows\"], \"type\": \"bar\", \"uid\": \"32cd0723-1a36-409a-8977-e9ffe1edc4af\", \"xaxis\": \"x9\", \"yaxis\": \"y9\"}], {\"annotations\": [{\"font\": {\"size\": 16}, \"showarrow\": false, \"text\": \"Device Browser - Count\", \"x\": 0.14444444444444446, \"xanchor\": \"center\", \"xref\": \"paper\", \"y\": 1.0, \"yanchor\": \"bottom\", \"yref\": \"paper\"}, {\"font\": {\"size\": 16}, \"showarrow\": false, \"text\": \"Device Browser - Non-zero Revenue Count\", \"x\": 0.5, \"xanchor\": \"center\", \"xref\": \"paper\", \"y\": 1.0, \"yanchor\": \"bottom\", \"yref\": \"paper\"}, {\"font\": {\"size\": 16}, \"showarrow\": false, \"text\": \"Device Browser - Mean Revenue\", \"x\": 0.8555555555555556, \"xanchor\": \"center\", \"xref\": \"paper\", \"y\": 1.0, \"yanchor\": \"bottom\", \"yref\": \"paper\"}, {\"font\": {\"size\": 16}, \"showarrow\": false, \"text\": \"Device Category - Count\", \"x\": 0.14444444444444446, \"xanchor\": \"center\", \"xref\": \"paper\", \"y\": 0.6533333333333333, \"yanchor\": \"bottom\", \"yref\": \"paper\"}, {\"font\": {\"size\": 16}, \"showarrow\": false, \"text\": \"Device Category - Non-zero Revenue Count\", \"x\": 0.5, \"xanchor\": \"center\", \"xref\": \"paper\", \"y\": 0.6533333333333333, \"yanchor\": \"bottom\", \"yref\": \"paper\"}, {\"font\": {\"size\": 16}, \"showarrow\": false, \"text\": \"Device Category - Mean Revenue\", \"x\": 0.8555555555555556, \"xanchor\": \"center\", \"xref\": \"paper\", \"y\": 0.6533333333333333, \"yanchor\": \"bottom\", \"yref\": \"paper\"}, {\"font\": {\"size\": 16}, \"showarrow\": false, \"text\": \"Device OS - Count\", \"x\": 0.14444444444444446, \"xanchor\": \"center\", \"xref\": \"paper\", \"y\": 0.3066666666666667, \"yanchor\": \"bottom\", \"yref\": \"paper\"}, {\"font\": {\"size\": 16}, \"showarrow\": false, \"text\": \"Device OS - Non-zero Revenue Count\", \"x\": 0.5, \"xanchor\": \"center\", \"xref\": \"paper\", \"y\": 0.3066666666666667, \"yanchor\": \"bottom\", \"yref\": \"paper\"}, {\"font\": {\"size\": 16}, \"showarrow\": false, \"text\": \"Device OS - Mean Revenue\", \"x\": 0.8555555555555556, \"xanchor\": \"center\", \"xref\": \"paper\", \"y\": 0.3066666666666667, \"yanchor\": \"bottom\", \"yref\": \"paper\"}], \"xaxis\": {\"anchor\": \"y\", \"domain\": [0.0, 0.2888888888888889]}, \"yaxis\": {\"anchor\": \"x\", \"domain\": [0.6933333333333334, 1.0]}, \"xaxis2\": {\"anchor\": \"y2\", \"domain\": [0.35555555555555557, 0.6444444444444445]}, \"yaxis2\": {\"anchor\": \"x2\", \"domain\": [0.6933333333333334, 1.0]}, \"xaxis3\": {\"anchor\": \"y3\", \"domain\": [0.7111111111111111, 1.0]}, \"yaxis3\": {\"anchor\": \"x3\", \"domain\": [0.6933333333333334, 1.0]}, \"xaxis4\": {\"anchor\": \"y4\", \"domain\": [0.0, 0.2888888888888889]}, \"yaxis4\": {\"anchor\": \"x4\", \"domain\": [0.3466666666666667, 0.6533333333333333]}, \"xaxis5\": {\"anchor\": \"y5\", \"domain\": [0.35555555555555557, 0.6444444444444445]}, \"yaxis5\": {\"anchor\": \"x5\", \"domain\": [0.3466666666666667, 0.6533333333333333]}, \"xaxis6\": {\"anchor\": \"y6\", \"domain\": [0.7111111111111111, 1.0]}, \"yaxis6\": {\"anchor\": \"x6\", \"domain\": [0.3466666666666667, 0.6533333333333333]}, \"xaxis7\": {\"anchor\": \"y7\", \"domain\": [0.0, 0.2888888888888889]}, \"yaxis7\": {\"anchor\": \"x7\", \"domain\": [0.0, 0.3066666666666667]}, \"xaxis8\": {\"anchor\": \"y8\", \"domain\": [0.35555555555555557, 0.6444444444444445]}, \"yaxis8\": {\"anchor\": \"x8\", \"domain\": [0.0, 0.3066666666666667]}, \"xaxis9\": {\"anchor\": \"y9\", \"domain\": [0.7111111111111111, 1.0]}, \"yaxis9\": {\"anchor\": \"x9\", \"domain\": [0.0, 0.3066666666666667]}, \"height\": 1200, \"width\": 1200, \"paper_bgcolor\": \"rgb(233,233,233)\", \"title\": \"Device Plots\"}, {\"showLink\": true, \"linkText\": \"Export to plot.ly\", \"plotlyServerURL\": \"https://plot.ly\"})});</script>"
      ]
     },
     "metadata": {},
     "output_type": "display_data"
    }
   ],
   "source": [
    "\n",
    "# aqui imprimimos el browser y lo analizamos en conjunto con transactionRevenue\n",
    "cnt_srs = df.groupby('browser')['totalTransactionRevenue'].agg(['size', 'count', 'mean'])\n",
    "cnt_srs.columns = [\"count\", \"count of non-zero revenue\", \"mean\"]\n",
    "cnt_srs = cnt_srs.sort_values(by=\"count\", ascending=False)\n",
    "trace1 = horizontal_bar_chart(cnt_srs[\"count\"].head(10), color=\"teal\")\n",
    "trace2 = horizontal_bar_chart(cnt_srs[\"count of non-zero revenue\"].head(10), color=\"teal\")\n",
    "trace3 = horizontal_bar_chart(cnt_srs[\"mean\"].head(10), color=\"teal\")\n",
    "\n",
    "# aqui imprimirmos la categoria de desktop, tablet o mobil y hacemos un cruce con trasactionRevenue. \n",
    "cnt_srs = df.groupby('deviceCategory')['totalTransactionRevenue'].agg(['size', 'count', 'mean'])\n",
    "cnt_srs.columns = [\"count\", \"count of non-zero revenue\", \"mean\"]\n",
    "cnt_srs = cnt_srs.sort_values(by=\"count\", ascending=False)\n",
    "trace4 = horizontal_bar_chart(cnt_srs[\"count\"].head(10), color=\"#484849\")\n",
    "trace5 = horizontal_bar_chart(cnt_srs[\"count of non-zero revenue\"].head(10), color=\"#484849\")\n",
    "trace6 = horizontal_bar_chart(cnt_srs[\"mean\"].head(10), color=\"#484849\")\n",
    "\n",
    "# Hacemos un conteo de OS y lo cruzamos con transactionRevenue.\n",
    "cnt_srs = df.groupby('operatingSystem')['totalTransactionRevenue'].agg(['size', 'count', 'mean'])\n",
    "cnt_srs.columns = [\"count\", \"count of non-zero revenue\", \"mean\"]\n",
    "cnt_srs = cnt_srs.sort_values(by=\"count\", ascending=False)\n",
    "trace7 = horizontal_bar_chart(cnt_srs[\"count\"].head(10), color=\"#36729C\")\n",
    "trace8 = horizontal_bar_chart(cnt_srs[\"count of non-zero revenue\"].head(10),color=\"#36729C\")\n",
    "trace9 = horizontal_bar_chart(cnt_srs[\"mean\"].head(10),color=\"#36729C\")\n",
    "\n",
    "fig = tools.make_subplots(rows=3, cols=3, vertical_spacing=0.04, \n",
    "                          subplot_titles=[\"Device Browser - Count\", \"Device Browser - Non-zero Revenue Count\", \"Device Browser - Mean Revenue\",\n",
    "                                          \"Device Category - Count\",  \"Device Category - Non-zero Revenue Count\", \"Device Category - Mean Revenue\", \n",
    "                                          \"Device OS - Count\", \"Device OS - Non-zero Revenue Count\", \"Device OS - Mean Revenue\"])\n",
    "\n",
    "fig.append_trace(trace1, 1, 1)\n",
    "fig.append_trace(trace2, 1, 2)\n",
    "fig.append_trace(trace3, 1, 3)\n",
    "fig.append_trace(trace4, 2, 1)\n",
    "fig.append_trace(trace5, 2, 2)\n",
    "fig.append_trace(trace6, 2, 3)\n",
    "fig.append_trace(trace7, 3, 1)\n",
    "fig.append_trace(trace8, 3, 2)\n",
    "fig.append_trace(trace9, 3, 3)\n",
    "\n",
    "fig['layout'].update(height=1200, width=1200, paper_bgcolor='rgb(233,233,233)', title=\"Device Plots\")\n",
    "py.iplot(fig, filename='device-plots')"
   ]
  },
  {
   "cell_type": "markdown",
   "metadata": {},
   "source": [
    "BROWSER: \n",
    "\n",
    "Chrome seems to be the most frequent browser of choice. But it also seems to be the browser that makes the most zero-vale revenue. But what we do see is when we cross the 'totalTransactionRevenue' with 'browser'. Our result in the graph indicate that amog all of the users with different browsers, the ones that make a higher income to the store is Firefox with a transactionRevenue of aproximately 3.68M followd by Chrome with 1.9M. Earlier we though it could be a possibility that Chrome would be amog the one that incrementes de transactionRevenue by far, but the count of browsers indicated that FIrefox, with only 56k users, make the most of the Transactionrevenue compared to Chrome with 1.03M users. \n",
    "\n",
    "It is a big difference between these two browsers. \n",
    "\n",
    "DEVICE CATEGORY: \n",
    "\n",
    "Aproximately 60% of the platforms used to visit the store are from a desktop. Desktop seems to be the platform that makes the most zero-vale revenue compared with the other two. Where it gets interesting is when we cross the device category with transacionRevenue. It seems that mobile and tablet its not an option whenever we want to make a purchase at the store. These are being made through a desktop platform.\n",
    "\n",
    "\n",
    "OPERATING SYSTEM:\n",
    "\n",
    "In 'browser' count we got that Chrome, Safari and Firefox where the ones that are leading by the consumers. We say that most of Safari browsers are bing used in a Macintosh OS for the most part. It´s our guess. Another guess is that Chrome could also be installed in a MacOS platform. Its just a guess. Our reults tells us something dufferent to our guess. As expected, Windows and MacOS are leading the comsumer demands as an Operating system of choice. As well as the other two atributes, zero values doesnt add any value to our dataset when it comes to making an histogrm. But it does add some interesting resulta when we see which operating systems are making the most of the transactionRevenue. \n",
    "\n",
    "Chrome OS es leading the transactionRevenue with an amount of aproximately 5.5M followed by Macintosh with 3.3M. \n",
    "\n",
    "CONCLUSION: \n",
    "\n",
    "Meaning that these two Operating Systems Chrome OS and Macintosh, use Firefox and Chrome to make their purchases from a desktop platform for the most part. Let´s analyse further this to see if our conlcusion get closer to the real data. "
   ]
  },
  {
   "cell_type": "code",
   "execution_count": 20,
   "metadata": {},
   "outputs": [
    {
     "data": {
      "image/png": "[encoded data removed]",
      "text/plain": [
       "<Figure size 1008x504 with 1 Axes>"
      ]
     },
     "metadata": {},
     "output_type": "display_data"
    }
   ],
   "source": [
    "# analyze the the 'operatingSystem' with the 'browsers'\n",
    "import matplotlib.pyplot as plt\n",
    "\n",
    "\n",
    "# At index I will use isin to substitute the loop and get just the values with more than 1%\n",
    "crosstab_eda = pd.crosstab(index=df[df['operatingSystem']\\\n",
    "                                          .isin(df['operatingSystem']\\\n",
    "                                                .value_counts()[:8].index.values)]['operatingSystem'], \n",
    "                           \n",
    "                           # at this line, I am using the isin to select just the top 5 of browsers\n",
    "                           columns=df[df['browser'].isin(df['browser']\\\n",
    "                                                                            .value_counts()[:5].index.values)]['browser'])\n",
    "# Ploting the crosstab that we did above\n",
    "crosstab_eda.plot(kind=\"bar\",    # select the bar to plot the count of categoricals\n",
    "                 figsize=(14,7), # adjusting the size of graphs\n",
    "                 stacked=True)   # code to unstack \n",
    "plt.title(\"Los sistemas operativos en conjunto con el Navegador\", fontsize=22) # adjusting title and fontsize\n",
    "plt.xlabel(\"Nombre de los sistemas operativos\", fontsize=19) # adjusting x label and fontsize\n",
    "plt.ylabel(\"Conteo de OS\", fontsize=19) # adjusting y label and fontsize\n",
    "plt.xticks(rotation=0) # Adjust the xticks, rotating the labels\n",
    "\n",
    "plt.show() # rendering"
   ]
  },
  {
   "cell_type": "markdown",
   "metadata": {},
   "source": [
    "Ahora hagamos lo mismo pero con la categorias Desktop, Tablet y Mobile. "
   ]
  },
  {
   "cell_type": "code",
   "execution_count": 21,
   "metadata": {},
   "outputs": [
    {
     "data": {
      "image/png": "[encoded data removed]",
      "text/plain": [
       "<Figure size 1008x504 with 1 Axes>"
      ]
     },
     "metadata": {},
     "output_type": "display_data"
    }
   ],
   "source": [
    "# At index I will use isin to substitute the loop and get just the values with more than 1%\n",
    "crosstab_eda = pd.crosstab(index=df[df['deviceCategory']\\\n",
    "                                          .isin(df['deviceCategory']\\\n",
    "                                                .value_counts()[:3].index.values)]['deviceCategory'], \n",
    "                           \n",
    "                           # at this line, I am using the isin to select just the top 5 of browsers\n",
    "                           columns=df[df['browser'].isin(df['browser']\\\n",
    "                                                                            .value_counts()[:5].index.values)]['browser'])\n",
    "# Ploting the crosstab that we did above\n",
    "crosstab_eda.plot(kind=\"bar\",    # select the bar to plot the count of categoricals\n",
    "                 figsize=(14,7), # adjusting the size of graphs\n",
    "                 stacked=True)   # code to unstack \n",
    "plt.title(\"Categorías en conjunto con el Navegador\", fontsize=22) # adjusting title and fontsize\n",
    "plt.xlabel(\"Categorias\", fontsize=19) # adjusting x label and fontsize\n",
    "plt.ylabel(\"Conteo de OS\", fontsize=19) # adjusting y label and fontsize\n",
    "plt.xticks(rotation=0) # Adjust the xticks, rotating the labels\n",
    "\n",
    "plt.show() # rendering"
   ]
  },
  {
   "cell_type": "markdown",
   "metadata": {},
   "source": [
    "Definately we see that our conclusion after makgin a separate hisogram is true. Chrome is the most used browser among users but still, our value is applied to Firefox being the browser in which most of the transactionRevenue is being made. "
   ]
  },
  {
   "cell_type": "markdown",
   "metadata": {},
   "source": [
    "# Country\n",
    "In this section we are going to see what countries are controbuting to the revenue the most, we will also see what devices are being used by those countries. "
   ]
  }
 ],
 "metadata": {
  "kernelspec": {
   "display_name": "Python 3",
   "language": "python",
   "name": "python3"
  },
  "language_info": {
   "codemirror_mode": {
    "name": "ipython",
    "version": 3
   },
   "file_extension": ".py",
   "mimetype": "text/x-python",
   "name": "python",
   "nbconvert_exporter": "python",
   "pygments_lexer": "ipython3",
   "version": "3.6.4"
  }
 },
 "nbformat": 4,
 "nbformat_minor": 2
}
