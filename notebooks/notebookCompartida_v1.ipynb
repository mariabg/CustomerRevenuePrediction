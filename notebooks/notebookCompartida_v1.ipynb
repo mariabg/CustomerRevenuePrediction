{
 "cells": [
  {
   "cell_type": "markdown",
   "metadata": {
    "colab_type": "text",
    "id": "7UnMTKThySTS"
   },
   "source": [
    "### **Importación de datos, librerías y definición de funciones**"
   ]
  },
  {
   "cell_type": "code",
   "execution_count": 1,
   "metadata": {
    "colab": {},
    "colab_type": "code",
    "id": "TKvLnFzdydTV"
   },
   "outputs": [],
   "source": [
    "import pandas as pd\n",
    "import json"
   ]
  },
  {
   "cell_type": "code",
   "execution_count": 2,
   "metadata": {
    "colab": {},
    "colab_type": "code",
    "id": "O31og21075T5"
   },
   "outputs": [
    {
     "name": "stderr",
     "output_type": "stream",
     "text": [
      "/anaconda3/lib/python3.6/site-packages/IPython/core/interactiveshell.py:2728: DtypeWarning: Columns (2,4,5) have mixed types. Specify dtype option on import or set low_memory=False.\n",
      "  interactivity=interactivity, compiler=compiler, result=result)\n",
      "/anaconda3/lib/python3.6/site-packages/IPython/core/interactiveshell.py:2728: DtypeWarning: Columns (2) have mixed types. Specify dtype option on import or set low_memory=False.\n",
      "  interactivity=interactivity, compiler=compiler, result=result)\n",
      "/anaconda3/lib/python3.6/site-packages/IPython/core/interactiveshell.py:2728: DtypeWarning: Columns (1) have mixed types. Specify dtype option on import or set low_memory=False.\n",
      "  interactivity=interactivity, compiler=compiler, result=result)\n"
     ]
    }
   ],
   "source": [
    "# data = pd.read_csv(\"../data/train.csv\")\n",
    "\n",
    "# df = data\n",
    "\n",
    "# para v2 cargar --> convertir todo esto en un for donde se van limpiando los datos segun llegan (las columnas ya se añaden limpias al dataframe final)\n",
    "misc = pd.read_csv(\"../data/segregated/misc_v2.csv\")\n",
    "device = pd.read_csv(\"../data/segregated/device_v2.csv\")\n",
    "geoNetwork = pd.read_csv(\"../data/segregated/geoNetwork_v2.csv\")\n",
    "totals = pd.read_csv(\"../data/segregated/totals_v2.csv\")\n",
    "trafficSource = pd.read_csv(\"../data/segregated/trafficSource_v2.csv\")\n",
    "# hitsFiles = glob.glob(\"*_hists.csv\")\n",
    "# for fl in hitsFiles:\n",
    "  # hits = pd.read_csv(\"data/fl.csv\")"
   ]
  },
  {
   "cell_type": "code",
   "execution_count": 3,
   "metadata": {},
   "outputs": [],
   "source": [
    "# device = pd.read_csv(\"../data/segregated/device_v2_new.csv\")\n",
    "# device = device.sample(903653)"
   ]
  },
  {
   "cell_type": "code",
   "execution_count": 4,
   "metadata": {},
   "outputs": [],
   "source": [
    "# device.drop(columns=['Unnamed: 0'], axis=1, inplace=True)\n",
    "# device"
   ]
  },
  {
   "cell_type": "code",
   "execution_count": 5,
   "metadata": {},
   "outputs": [
    {
     "name": "stdout",
     "output_type": "stream",
     "text": [
      "(1799982, 9)\n",
      "(1799982, 4)\n",
      "(1799982, 4)\n",
      "(1799982, 4)\n",
      "(1799982, 4)\n"
     ]
    }
   ],
   "source": [
    "print(misc.shape)\n",
    "print(device.shape)\n",
    "print(geoNetwork.shape)\n",
    "print(totals.shape)\n",
    "print(trafficSource.shape)"
   ]
  },
  {
   "cell_type": "code",
   "execution_count": 6,
   "metadata": {},
   "outputs": [],
   "source": [
    "misc.drop(columns=['Unnamed: 0', 'visitId'], axis=1, inplace=True)\n",
    "device.drop(columns=['Unnamed: 0', 'fullVisitorId', 'visitId'], axis=1, inplace=True)\n",
    "geoNetwork.drop(columns=['Unnamed: 0', 'fullVisitorId', 'visitId'], axis=1, inplace=True)\n",
    "totals.drop(columns=['Unnamed: 0', 'fullVisitorId', 'visitId'], axis=1, inplace=True)\n",
    "trafficSource.drop(columns=['Unnamed: 0', 'fullVisitorId', 'visitId'], axis=1, inplace=True)"
   ]
  },
  {
   "cell_type": "code",
   "execution_count": 7,
   "metadata": {
    "colab": {},
    "colab_type": "code",
    "id": "x7qD1iLW7luj"
   },
   "outputs": [],
   "source": [
    "# recursive flatten function from https://towardsdatascience.com/flattening-json-objects-in-python-f5343c794b10\n",
    "# Call example:\n",
    "  # flattenCol = [flatten_json(json.loads(d)) for d in df['trafficSource']]\n",
    "  # dataFrameOfFlattenCol = pd.DataFrame(flattenCol)\n",
    "def flatten_json(y):\n",
    "    out = {}\n",
    "\n",
    "    def flatten(x, name=''):\n",
    "        if type(x) is dict:\n",
    "            for a in x:\n",
    "                flatten(x[a], name + a + '_')\n",
    "        elif type(x) is list:\n",
    "            i = 0\n",
    "            for a in x:\n",
    "                flatten(a, name + str(i) + '_')\n",
    "                i += 1\n",
    "        else:\n",
    "            out[name[:-1]] = x\n",
    "\n",
    "    flatten(y)\n",
    "    return out\n",
    "\n",
    "  \n",
    "# Call example:\n",
    "  # df = extract_day(df, 'month')\n",
    "def extract_date_info(df, parametro):\n",
    "    if parametro == \"date\":\n",
    "        df[\"date\"] = [d.date() for d in df[\"visitStartTime\"]]\n",
    "    if parametro == \"time\":\n",
    "        df[\"time\"] = [d.time() for d in df[\"visitStartTime\"]]\n",
    "    if parametro == \"day\":\n",
    "        df[\"day\"] = df[\"visitStartTime\"].dt.day\n",
    "    if parametro == \"month\":\n",
    "        df['month'] = df[\"visitStartTime\"].dt.month\n",
    "    if parametro == \"weekday\":\n",
    "        df['weekday'] = df[\"visitStartTime\"].dt.weekday\n",
    "    if parametro == \"weekofyear\": \n",
    "        df['weekofyear'] = df[\"visitStartTime\"].dt.weekofyear\n",
    "    return df\n",
    "\n",
    "def catch(func, handle=lambda e : e, *args, **kwargs):\n",
    "    try:\n",
    "        return func(*args, **kwargs)\n",
    "    except Exception as e:\n",
    "        return handle(e)"
   ]
  },
  {
   "cell_type": "markdown",
   "metadata": {
    "colab_type": "text",
    "id": "lVUeB-g2Qtgi"
   },
   "source": [
    "### Limpieza \n"
   ]
  },
  {
   "cell_type": "code",
   "execution_count": 8,
   "metadata": {
    "colab": {},
    "colab_type": "code",
    "id": "znD_Oa4rR9BZ"
   },
   "outputs": [],
   "source": [
    "# De misc mantenemos:\n",
    "  # fullVisitorId\n",
    "  # visitStartTime\n",
    "  # channelGrouping\n",
    "\n",
    "misc[\"visitStartTime\"] = pd.to_datetime(misc[\"visitStartTime\"], unit='s')\n",
    "misc.drop(['date', 'socialEngagementType'], axis=1, inplace=True)\n",
    "\n",
    "df = misc.copy()"
   ]
  },
  {
   "cell_type": "code",
   "execution_count": null,
   "metadata": {},
   "outputs": [],
   "source": [
    "# pd.set_option('display.max_colwidth', 1000)\n",
    "# device.iloc[0]"
   ]
  },
  {
   "cell_type": "code",
   "execution_count": 11,
   "metadata": {
    "colab": {},
    "colab_type": "code",
    "id": "YZYn_coiDCSZ"
   },
   "outputs": [],
   "source": [
    "# De device mantenemos:\n",
    "  # browser\n",
    "  # deviceCategory\n",
    "  # operatingSystem\n",
    "\n",
    "numberExc = 0\n",
    "\n",
    "deviceFlatten = [flatten_json(catch(lambda: json.loads(d))) for d in device['device']]\n",
    "\n",
    "devi = pd.DataFrame(deviceFlatten)\n",
    "\n",
    "# quest: language?\n",
    "devi.drop(columns=['', 'browserSize', 'browserVersion', 'flashVersion', 'language', \n",
    "    'mobileDeviceBranding', 'mobileDeviceInfo', 'mobileDeviceMarketingName',\n",
    "    'mobileDeviceModel', 'mobileInputSelector', 'operatingSystemVersion',\n",
    "    'screenColors','screenResolution'], inplace=True)\n",
    "isMobile = {False : 0, True : 1}\n",
    "browser = {'Chrome': 1, 'Safari': 2, 'Firefox': 3, 'Internet Explorer': 4, 'Edge': 5, \n",
    "    'Android Webview': 0, 'Safari (in-app)': 0, 'Opera Mini': 0, 'Opera': 0,\n",
    "    'UC Browser': 0}\n",
    "category = {'desktop': 1, 'mobile': 2, 'tablet': 3}\n",
    "operatingSystem = {'Windows': 1, 'Macintosh': 2, 'Android': 3, 'iOS': 4,'Linux': 5,\n",
    "    'Chrome OS': 6, '(not set)': 0, 'Windows Phone': 0, 'BlackBerry': 0, 'Samsung': 0}\n",
    "\n",
    "#we map our data to its corresponding value\n",
    "devi[\"isMobile\"] = devi[\"isMobile\"].map(isMobile)\n",
    "devi[\"browser\"] = devi[\"browser\"].map(browser)\n",
    "devi[\"deviceCategory\"] = devi[\"deviceCategory\"].map(category)\n",
    "devi[\"operatingSystem\"] = devi[\"operatingSystem\"].map(operatingSystem)\n",
    "\n",
    "devi.drop(columns=['isMobile'], inplace=True)\n",
    "df = df.join(devi)"
   ]
  },
  {
   "cell_type": "code",
   "execution_count": 12,
   "metadata": {},
   "outputs": [],
   "source": [
    "# print (\"There we\", numberExc, \"exceptions\")"
   ]
  },
  {
   "cell_type": "code",
   "execution_count": 13,
   "metadata": {},
   "outputs": [
    {
     "data": {
      "text/plain": [
       "(1799982, 3)"
      ]
     },
     "execution_count": 13,
     "metadata": {},
     "output_type": "execute_result"
    }
   ],
   "source": [
    "devi.shape"
   ]
  },
  {
   "cell_type": "code",
   "execution_count": 14,
   "metadata": {},
   "outputs": [
    {
     "data": {
      "text/plain": [
       "(1799982, 8)"
      ]
     },
     "execution_count": 14,
     "metadata": {},
     "output_type": "execute_result"
    }
   ],
   "source": [
    "df.shape"
   ]
  },
  {
   "cell_type": "code",
   "execution_count": 15,
   "metadata": {},
   "outputs": [
    {
     "data": {
      "text/plain": [
       "(1799982,)"
      ]
     },
     "execution_count": 15,
     "metadata": {},
     "output_type": "execute_result"
    }
   ],
   "source": [
    "device['device'].shape"
   ]
  },
  {
   "cell_type": "code",
   "execution_count": 17,
   "metadata": {
    "colab": {},
    "colab_type": "code",
    "id": "PwOdocxgA4iV"
   },
   "outputs": [],
   "source": [
    "# De geoNetwork mantenemos:\n",
    "  # coutry\n",
    "  # region (que contiene ciudad si no está disponible)\n",
    "  # city\n",
    "\n",
    "geoNetworkFlatten = [flatten_json(catch(lambda: json.loads(d))) for d in geoNetwork['geoNetwork']]\n",
    "geo = pd.DataFrame(geoNetworkFlatten)\n",
    "geo.drop(['latitude','longitude','networkLocation','cityId','continent','metro'], axis=1, inplace=True)\n",
    "\n",
    "# QUEST: check that it works in the same way\n",
    "# geo['region'].apply(lambda x: geo['country'] if x == '(not set)' else x)\n",
    "# geo['region'].apply(lambda x: geo['country'] if x == 'not available in demo dataset' else x)\n",
    "\n",
    "\n",
    "def region_country(geo):\n",
    "    if geo['region'] == '(not set)':\n",
    "        return geo['country']\n",
    "    elif geo['region'] == 'not available in demo dataset':\n",
    "        return geo['country']\n",
    "    else:\n",
    "        return geo['region']\n",
    "\n",
    "geo['region']=geo.apply(region_country,axis=1)\n",
    "\n",
    "# df.drop(['geoNetwork'], axis=1, inplace=True)\n",
    "df = df.join(geo)\n",
    "# df = pd.concat([df, geo])"
   ]
  },
  {
   "cell_type": "code",
   "execution_count": 21,
   "metadata": {
    "colab": {},
    "colab_type": "code",
    "id": "8p2Vc8ftPYny"
   },
   "outputs": [],
   "source": [
    "# De totals mantenemos:\n",
    "  # hits\n",
    "  # transactionRevenue\n",
    "  # newVisits\n",
    "\n",
    "#Transform json\n",
    "totalsList = [flatten_json(catch(lambda: json.loads(d))) for d in totals['totals']]\n",
    "totals_df = pd.DataFrame(totalsList)\n",
    "# totals_df = totals['totals'].apply(catch(lambda: json.loads)).apply(pd.Series)\n",
    "\n",
    "#Remove visits column as it does not provide any information\n",
    "totals_df = totals_df.drop(['', 'visits'], axis=1)\n",
    "\n",
    "#Change nan in \"newVisits\" for 0. Binary, 1 it's new visit, 0 it's not. \n",
    "totals_df['newVisits'] = totals_df['newVisits'].fillna(0)\n",
    "\n",
    "#Change nan in \"transactionRevenue\" for 0. \n",
    "totals_df['transactionRevenue'] = totals_df['transactionRevenue'].fillna(0)\n",
    "\n",
    "#Change nan in \"bounces\" for 0\n",
    "totals_df['bounces'] = totals_df['bounces'].fillna(0)\n",
    "\n",
    "#There are some nan in pageviews but it is not trivial to find a value we can change these nan by logically.\n",
    "#The corrlation with hits is 0.984, so we can keep hits that does not have any nan value. Keeping both could be redundant.\n",
    "totals_df = totals_df.drop(['pageviews'], axis=1)\n",
    "\n",
    "#Not 100% proven yet, but i have a big feeling that bounces is mainly 1 when there is only 1 hit by defenition.\n",
    "#This means that even though the correlation doesn't provide a big value beetween them two, bounces is not giving much \n",
    "#additional info. Meaning using it is not relevant.\n",
    "totals_df = totals_df.drop(['bounces'], axis=1)\n",
    "\n",
    "# df.drop(['totals'], axis=1, inplace=True)\n",
    "df = df.join(totals_df)\n",
    "# df = pd.concat([df, totals_df])"
   ]
  },
  {
   "cell_type": "code",
   "execution_count": 23,
   "metadata": {
    "colab": {},
    "colab_type": "code",
    "id": "5n7oTMMSPYa_"
   },
   "outputs": [],
   "source": [
    "# De trafficSource mantenemos:\n",
    "  # adHasContent\n",
    "  # adPosition\n",
    "  # campaign\n",
    "  # isTrueDirect\n",
    "  # medium\n",
    "  # source\n",
    "\n",
    "trafficFlatten = [flatten_json(catch(lambda: json.loads(d))) for d in trafficSource['trafficSource']]\n",
    "traffic = pd.DataFrame(trafficFlatten)\n",
    "traffic.drop(['', 'adwordsClickInfo_criteriaParameters', 'adwordsClickInfo_adNetworkType',\n",
    "    'adwordsClickInfo_gclId', 'adwordsClickInfo_isVideoAd', 'adwordsClickInfo_page',\n",
    "    'keyword', 'referralPath', ], axis=1, inplace=True)\n",
    "\n",
    "# TO DO check campaignCode\n",
    "\n",
    "# adContent to bool\n",
    "traffic['adContent'] = traffic['adContent'].map(lambda x: 0 if str(x) == 'NoneType' else 1)\n",
    "\n",
    "# rename to a simpler name\n",
    "traffic.rename(index=str, columns={\"adwordsClickInfo_page\": \"adPosition\", \"adContent\": \"adwordsClickInfo_slot\", \"\": \"adPosition\"})\n",
    "\n",
    "# TO DO: traffic['source'] regex for the main domain (last whatevs.com), and drop less than 1000\n",
    "\n",
    "\n",
    "# TO DO: traffc['medium']\n",
    "#     merge (not set) and (none)\n",
    "#     cpc -> Cost Per Click\n",
    "#     affiliate -> Affiliate marketing is a type of performance-based marketing in which a business rewards one or more affiliates for each visitor or customer brought by the affiliate's own marketing efforts.\n",
    "#     cpm -> Cost per impression\n",
    "# entender qué implican estos valores. ¿cpc vienen de search y cpm de webs? ¿Se juntan? ¿Importan?\n",
    "\n",
    "\n",
    "# df.drop(['trafficSource'], axis=1, inplace=True)\n",
    "df = df.join(traffic)\n",
    "# df = pd.concat([df, traffic])"
   ]
  },
  {
   "cell_type": "code",
   "execution_count": 24,
   "metadata": {
    "colab": {},
    "colab_type": "code",
    "id": "BkEtxl8MPehV"
   },
   "outputs": [],
   "source": [
    "# hits (only in v2)"
   ]
  },
  {
   "cell_type": "code",
   "execution_count": 28,
   "metadata": {},
   "outputs": [
    {
     "data": {
      "text/plain": [
       "['Unnamed: 1',\n",
       " 'channelGrouping',\n",
       " 'fullVisitorId',\n",
       " 'visitNumber',\n",
       " 'visitStartTime',\n",
       " 'browser',\n",
       " 'deviceCategory',\n",
       " 'operatingSystem',\n",
       " '',\n",
       " 'city',\n",
       " 'country',\n",
       " 'networkDomain',\n",
       " 'region',\n",
       " 'subContinent',\n",
       " 'hits',\n",
       " 'newVisits',\n",
       " 'sessionQualityDim',\n",
       " 'timeOnSite',\n",
       " 'totalTransactionRevenue',\n",
       " 'transactionRevenue',\n",
       " 'transactions',\n",
       " 'adContent',\n",
       " 'adwordsClickInfo_slot',\n",
       " 'campaign',\n",
       " 'campaignCode',\n",
       " 'isTrueDirect',\n",
       " 'medium',\n",
       " 'source']"
      ]
     },
     "execution_count": 28,
     "metadata": {},
     "output_type": "execute_result"
    }
   ],
   "source": [
    "list(df.columns.values)"
   ]
  },
  {
   "cell_type": "code",
   "execution_count": 30,
   "metadata": {},
   "outputs": [],
   "source": [
    "df.drop(columns=[\"\", \"Unnamed: 1\"], axis=1, inplace=True)"
   ]
  },
  {
   "cell_type": "code",
   "execution_count": 31,
   "metadata": {},
   "outputs": [
    {
     "data": {
      "text/plain": [
       "(1799982, 26)"
      ]
     },
     "execution_count": 31,
     "metadata": {},
     "output_type": "execute_result"
    }
   ],
   "source": [
    "df.shape"
   ]
  },
  {
   "cell_type": "code",
   "execution_count": 32,
   "metadata": {},
   "outputs": [
    {
     "data": {
      "text/html": [
       "<div>\n",
       "<style scoped>\n",
       "    .dataframe tbody tr th:only-of-type {\n",
       "        vertical-align: middle;\n",
       "    }\n",
       "\n",
       "    .dataframe tbody tr th {\n",
       "        vertical-align: top;\n",
       "    }\n",
       "\n",
       "    .dataframe thead th {\n",
       "        text-align: right;\n",
       "    }\n",
       "</style>\n",
       "<table border=\"1\" class=\"dataframe\">\n",
       "  <thead>\n",
       "    <tr style=\"text-align: right;\">\n",
       "      <th></th>\n",
       "      <th>channelGrouping</th>\n",
       "      <th>fullVisitorId</th>\n",
       "      <th>visitNumber</th>\n",
       "      <th>visitStartTime</th>\n",
       "      <th>browser</th>\n",
       "      <th>deviceCategory</th>\n",
       "      <th>operatingSystem</th>\n",
       "      <th>city</th>\n",
       "      <th>country</th>\n",
       "      <th>networkDomain</th>\n",
       "      <th>...</th>\n",
       "      <th>totalTransactionRevenue</th>\n",
       "      <th>transactionRevenue</th>\n",
       "      <th>transactions</th>\n",
       "      <th>adContent</th>\n",
       "      <th>adwordsClickInfo_slot</th>\n",
       "      <th>campaign</th>\n",
       "      <th>campaignCode</th>\n",
       "      <th>isTrueDirect</th>\n",
       "      <th>medium</th>\n",
       "      <th>source</th>\n",
       "    </tr>\n",
       "  </thead>\n",
       "  <tbody>\n",
       "    <tr>\n",
       "      <th>0</th>\n",
       "      <td>Organic Search</td>\n",
       "      <td>538928163114544921</td>\n",
       "      <td>1.0</td>\n",
       "      <td>2017-05-29 16:07:23</td>\n",
       "      <td>1.0</td>\n",
       "      <td>3.0</td>\n",
       "      <td>3.0</td>\n",
       "      <td>not available in demo dataset</td>\n",
       "      <td>United States</td>\n",
       "      <td>rr.com</td>\n",
       "      <td>...</td>\n",
       "      <td>NaN</td>\n",
       "      <td>0</td>\n",
       "      <td>NaN</td>\n",
       "      <td>1</td>\n",
       "      <td>NaN</td>\n",
       "      <td>(not set)</td>\n",
       "      <td>NaN</td>\n",
       "      <td>NaN</td>\n",
       "      <td>organic</td>\n",
       "      <td>google</td>\n",
       "    </tr>\n",
       "    <tr>\n",
       "      <th>1</th>\n",
       "      <td>Organic Search</td>\n",
       "      <td>5863936343673668667</td>\n",
       "      <td>2.0</td>\n",
       "      <td>2017-05-29 19:43:31</td>\n",
       "      <td>1.0</td>\n",
       "      <td>1.0</td>\n",
       "      <td>1.0</td>\n",
       "      <td>Bengaluru</td>\n",
       "      <td>India</td>\n",
       "      <td>122-airtelbroadband.in</td>\n",
       "      <td>...</td>\n",
       "      <td>NaN</td>\n",
       "      <td>0</td>\n",
       "      <td>NaN</td>\n",
       "      <td>1</td>\n",
       "      <td>NaN</td>\n",
       "      <td>(not set)</td>\n",
       "      <td>NaN</td>\n",
       "      <td>True</td>\n",
       "      <td>organic</td>\n",
       "      <td>google</td>\n",
       "    </tr>\n",
       "    <tr>\n",
       "      <th>2</th>\n",
       "      <td>Organic Search</td>\n",
       "      <td>9993197829693068679</td>\n",
       "      <td>9.0</td>\n",
       "      <td>2017-05-29 23:09:51</td>\n",
       "      <td>2.0</td>\n",
       "      <td>2.0</td>\n",
       "      <td>4.0</td>\n",
       "      <td>San Jose</td>\n",
       "      <td>United States</td>\n",
       "      <td>comcast.net</td>\n",
       "      <td>...</td>\n",
       "      <td>NaN</td>\n",
       "      <td>0</td>\n",
       "      <td>NaN</td>\n",
       "      <td>1</td>\n",
       "      <td>NaN</td>\n",
       "      <td>(not set)</td>\n",
       "      <td>NaN</td>\n",
       "      <td>True</td>\n",
       "      <td>organic</td>\n",
       "      <td>google</td>\n",
       "    </tr>\n",
       "    <tr>\n",
       "      <th>3</th>\n",
       "      <td>Referral</td>\n",
       "      <td>635666386021193101</td>\n",
       "      <td>13.0</td>\n",
       "      <td>2017-05-29 09:20:43</td>\n",
       "      <td>1.0</td>\n",
       "      <td>1.0</td>\n",
       "      <td>1.0</td>\n",
       "      <td>Osaka</td>\n",
       "      <td>Japan</td>\n",
       "      <td>i-revonet.jp</td>\n",
       "      <td>...</td>\n",
       "      <td>NaN</td>\n",
       "      <td>0</td>\n",
       "      <td>NaN</td>\n",
       "      <td>1</td>\n",
       "      <td>NaN</td>\n",
       "      <td>(not set)</td>\n",
       "      <td>NaN</td>\n",
       "      <td>True</td>\n",
       "      <td>referral</td>\n",
       "      <td>analytics.google.com</td>\n",
       "    </tr>\n",
       "    <tr>\n",
       "      <th>4</th>\n",
       "      <td>Organic Search</td>\n",
       "      <td>7772696018151280169</td>\n",
       "      <td>1.0</td>\n",
       "      <td>2017-05-29 10:19:06</td>\n",
       "      <td>1.0</td>\n",
       "      <td>1.0</td>\n",
       "      <td>1.0</td>\n",
       "      <td>not available in demo dataset</td>\n",
       "      <td>Spain</td>\n",
       "      <td>jazztel.es</td>\n",
       "      <td>...</td>\n",
       "      <td>NaN</td>\n",
       "      <td>0</td>\n",
       "      <td>NaN</td>\n",
       "      <td>1</td>\n",
       "      <td>NaN</td>\n",
       "      <td>(not set)</td>\n",
       "      <td>NaN</td>\n",
       "      <td>NaN</td>\n",
       "      <td>organic</td>\n",
       "      <td>google</td>\n",
       "    </tr>\n",
       "  </tbody>\n",
       "</table>\n",
       "<p>5 rows × 26 columns</p>\n",
       "</div>"
      ],
      "text/plain": [
       "  channelGrouping        fullVisitorId  visitNumber      visitStartTime  \\\n",
       "0  Organic Search   538928163114544921          1.0 2017-05-29 16:07:23   \n",
       "1  Organic Search  5863936343673668667          2.0 2017-05-29 19:43:31   \n",
       "2  Organic Search  9993197829693068679          9.0 2017-05-29 23:09:51   \n",
       "3        Referral   635666386021193101         13.0 2017-05-29 09:20:43   \n",
       "4  Organic Search  7772696018151280169          1.0 2017-05-29 10:19:06   \n",
       "\n",
       "   browser  deviceCategory  operatingSystem                           city  \\\n",
       "0      1.0             3.0              3.0  not available in demo dataset   \n",
       "1      1.0             1.0              1.0                      Bengaluru   \n",
       "2      2.0             2.0              4.0                       San Jose   \n",
       "3      1.0             1.0              1.0                          Osaka   \n",
       "4      1.0             1.0              1.0  not available in demo dataset   \n",
       "\n",
       "         country           networkDomain          ...           \\\n",
       "0  United States                  rr.com          ...            \n",
       "1          India  122-airtelbroadband.in          ...            \n",
       "2  United States             comcast.net          ...            \n",
       "3          Japan            i-revonet.jp          ...            \n",
       "4          Spain              jazztel.es          ...            \n",
       "\n",
       "  totalTransactionRevenue transactionRevenue transactions adContent  \\\n",
       "0                     NaN                  0          NaN         1   \n",
       "1                     NaN                  0          NaN         1   \n",
       "2                     NaN                  0          NaN         1   \n",
       "3                     NaN                  0          NaN         1   \n",
       "4                     NaN                  0          NaN         1   \n",
       "\n",
       "  adwordsClickInfo_slot   campaign campaignCode isTrueDirect    medium  \\\n",
       "0                   NaN  (not set)          NaN          NaN   organic   \n",
       "1                   NaN  (not set)          NaN         True   organic   \n",
       "2                   NaN  (not set)          NaN         True   organic   \n",
       "3                   NaN  (not set)          NaN         True  referral   \n",
       "4                   NaN  (not set)          NaN          NaN   organic   \n",
       "\n",
       "                 source  \n",
       "0                google  \n",
       "1                google  \n",
       "2                google  \n",
       "3  analytics.google.com  \n",
       "4                google  \n",
       "\n",
       "[5 rows x 26 columns]"
      ]
     },
     "execution_count": 32,
     "metadata": {},
     "output_type": "execute_result"
    }
   ],
   "source": [
    "df.head()"
   ]
  },
  {
   "cell_type": "code",
   "execution_count": 27,
   "metadata": {},
   "outputs": [
    {
     "ename": "KeyboardInterrupt",
     "evalue": "",
     "output_type": "error",
     "traceback": [
      "\u001b[0;31m---------------------------------------------------------------------------\u001b[0m",
      "\u001b[0;31mKeyboardInterrupt\u001b[0m                         Traceback (most recent call last)",
      "\u001b[0;32m<ipython-input-27-3d55614491fa>\u001b[0m in \u001b[0;36m<module>\u001b[0;34m()\u001b[0m\n\u001b[0;32m----> 1\u001b[0;31m \u001b[0mdf\u001b[0m\u001b[0;34m.\u001b[0m\u001b[0mto_csv\u001b[0m\u001b[0;34m(\u001b[0m\u001b[0;34m\"../data/train_v2_cleaned.csv\"\u001b[0m\u001b[0;34m)\u001b[0m\u001b[0;34m\u001b[0m\u001b[0m\n\u001b[0m\u001b[1;32m      2\u001b[0m \u001b[0mdf\u001b[0m\u001b[0;34m.\u001b[0m\u001b[0mto_pickle\u001b[0m\u001b[0;34m(\u001b[0m\u001b[0;34m\"../data/train_v2_cleaned.csv\"\u001b[0m\u001b[0;34m)\u001b[0m\u001b[0;34m\u001b[0m\u001b[0m\n",
      "\u001b[0;32m/anaconda3/lib/python3.6/site-packages/pandas/core/frame.py\u001b[0m in \u001b[0;36mto_csv\u001b[0;34m(self, path_or_buf, sep, na_rep, float_format, columns, header, index, index_label, mode, encoding, compression, quoting, quotechar, line_terminator, chunksize, tupleize_cols, date_format, doublequote, escapechar, decimal)\u001b[0m\n\u001b[1;32m   1522\u001b[0m                                      \u001b[0mdoublequote\u001b[0m\u001b[0;34m=\u001b[0m\u001b[0mdoublequote\u001b[0m\u001b[0;34m,\u001b[0m\u001b[0;34m\u001b[0m\u001b[0m\n\u001b[1;32m   1523\u001b[0m                                      escapechar=escapechar, decimal=decimal)\n\u001b[0;32m-> 1524\u001b[0;31m         \u001b[0mformatter\u001b[0m\u001b[0;34m.\u001b[0m\u001b[0msave\u001b[0m\u001b[0;34m(\u001b[0m\u001b[0;34m)\u001b[0m\u001b[0;34m\u001b[0m\u001b[0m\n\u001b[0m\u001b[1;32m   1525\u001b[0m \u001b[0;34m\u001b[0m\u001b[0m\n\u001b[1;32m   1526\u001b[0m         \u001b[0;32mif\u001b[0m \u001b[0mpath_or_buf\u001b[0m \u001b[0;32mis\u001b[0m \u001b[0;32mNone\u001b[0m\u001b[0;34m:\u001b[0m\u001b[0;34m\u001b[0m\u001b[0m\n",
      "\u001b[0;32m/anaconda3/lib/python3.6/site-packages/pandas/io/formats/format.py\u001b[0m in \u001b[0;36msave\u001b[0;34m(self)\u001b[0m\n\u001b[1;32m   1650\u001b[0m                 \u001b[0mself\u001b[0m\u001b[0;34m.\u001b[0m\u001b[0mwriter\u001b[0m \u001b[0;34m=\u001b[0m \u001b[0mUnicodeWriter\u001b[0m\u001b[0;34m(\u001b[0m\u001b[0mf\u001b[0m\u001b[0;34m,\u001b[0m \u001b[0;34m**\u001b[0m\u001b[0mwriter_kwargs\u001b[0m\u001b[0;34m)\u001b[0m\u001b[0;34m\u001b[0m\u001b[0m\n\u001b[1;32m   1651\u001b[0m \u001b[0;34m\u001b[0m\u001b[0m\n\u001b[0;32m-> 1652\u001b[0;31m             \u001b[0mself\u001b[0m\u001b[0;34m.\u001b[0m\u001b[0m_save\u001b[0m\u001b[0;34m(\u001b[0m\u001b[0;34m)\u001b[0m\u001b[0;34m\u001b[0m\u001b[0m\n\u001b[0m\u001b[1;32m   1653\u001b[0m \u001b[0;34m\u001b[0m\u001b[0m\n\u001b[1;32m   1654\u001b[0m         \u001b[0;32mfinally\u001b[0m\u001b[0;34m:\u001b[0m\u001b[0;34m\u001b[0m\u001b[0m\n",
      "\u001b[0;32m/anaconda3/lib/python3.6/site-packages/pandas/io/formats/format.py\u001b[0m in \u001b[0;36m_save\u001b[0;34m(self)\u001b[0m\n\u001b[1;32m   1752\u001b[0m                 \u001b[0;32mbreak\u001b[0m\u001b[0;34m\u001b[0m\u001b[0m\n\u001b[1;32m   1753\u001b[0m \u001b[0;34m\u001b[0m\u001b[0m\n\u001b[0;32m-> 1754\u001b[0;31m             \u001b[0mself\u001b[0m\u001b[0;34m.\u001b[0m\u001b[0m_save_chunk\u001b[0m\u001b[0;34m(\u001b[0m\u001b[0mstart_i\u001b[0m\u001b[0;34m,\u001b[0m \u001b[0mend_i\u001b[0m\u001b[0;34m)\u001b[0m\u001b[0;34m\u001b[0m\u001b[0m\n\u001b[0m\u001b[1;32m   1755\u001b[0m \u001b[0;34m\u001b[0m\u001b[0m\n\u001b[1;32m   1756\u001b[0m     \u001b[0;32mdef\u001b[0m \u001b[0m_save_chunk\u001b[0m\u001b[0;34m(\u001b[0m\u001b[0mself\u001b[0m\u001b[0;34m,\u001b[0m \u001b[0mstart_i\u001b[0m\u001b[0;34m,\u001b[0m \u001b[0mend_i\u001b[0m\u001b[0;34m)\u001b[0m\u001b[0;34m:\u001b[0m\u001b[0;34m\u001b[0m\u001b[0m\n",
      "\u001b[0;32m/anaconda3/lib/python3.6/site-packages/pandas/io/formats/format.py\u001b[0m in \u001b[0;36m_save_chunk\u001b[0;34m(self, start_i, end_i)\u001b[0m\n\u001b[1;32m   1778\u001b[0m                                         quoting=self.quoting)\n\u001b[1;32m   1779\u001b[0m \u001b[0;34m\u001b[0m\u001b[0m\n\u001b[0;32m-> 1780\u001b[0;31m         \u001b[0mlib\u001b[0m\u001b[0;34m.\u001b[0m\u001b[0mwrite_csv_rows\u001b[0m\u001b[0;34m(\u001b[0m\u001b[0mself\u001b[0m\u001b[0;34m.\u001b[0m\u001b[0mdata\u001b[0m\u001b[0;34m,\u001b[0m \u001b[0mix\u001b[0m\u001b[0;34m,\u001b[0m \u001b[0mself\u001b[0m\u001b[0;34m.\u001b[0m\u001b[0mnlevels\u001b[0m\u001b[0;34m,\u001b[0m \u001b[0mself\u001b[0m\u001b[0;34m.\u001b[0m\u001b[0mcols\u001b[0m\u001b[0;34m,\u001b[0m \u001b[0mself\u001b[0m\u001b[0;34m.\u001b[0m\u001b[0mwriter\u001b[0m\u001b[0;34m)\u001b[0m\u001b[0;34m\u001b[0m\u001b[0m\n\u001b[0m\u001b[1;32m   1781\u001b[0m \u001b[0;34m\u001b[0m\u001b[0m\n\u001b[1;32m   1782\u001b[0m \u001b[0;34m\u001b[0m\u001b[0m\n",
      "\u001b[0;32mpandas/_libs/lib.pyx\u001b[0m in \u001b[0;36mpandas._libs.lib.write_csv_rows\u001b[0;34m()\u001b[0m\n",
      "\u001b[0;31mKeyboardInterrupt\u001b[0m: "
     ]
    }
   ],
   "source": [
    "df.to_csv(\"../data/train_v2_cleaned.csv\")\n",
    "df.to_pickle(\"../data/train_v2_cleaned.csv\")"
   ]
  },
  {
   "cell_type": "markdown",
   "metadata": {
    "colab_type": "text",
    "id": "A_jick6oQtqJ"
   },
   "source": [
    "### **Transformación**"
   ]
  },
  {
   "cell_type": "code",
   "execution_count": null,
   "metadata": {
    "colab": {},
    "colab_type": "code",
    "id": "llVLZ0a6R9Y0"
   },
   "outputs": [],
   "source": []
  },
  {
   "cell_type": "code",
   "execution_count": null,
   "metadata": {
    "colab": {},
    "colab_type": "code",
    "id": "yLDzVPrlZbRH"
   },
   "outputs": [],
   "source": []
  },
  {
   "cell_type": "markdown",
   "metadata": {
    "colab_type": "text",
    "id": "tdLOqlPJQt3M"
   },
   "source": [
    "### ** Minería de datos **"
   ]
  },
  {
   "cell_type": "code",
   "execution_count": null,
   "metadata": {
    "colab": {},
    "colab_type": "code",
    "id": "K2Qjx-ncRmer"
   },
   "outputs": [],
   "source": [
    "traffic"
   ]
  },
  {
   "cell_type": "markdown",
   "metadata": {
    "colab_type": "text",
    "id": "zNjxVHiWR7GN"
   },
   "source": [
    "### ** Interpretación y evaluación **"
   ]
  },
  {
   "cell_type": "code",
   "execution_count": null,
   "metadata": {
    "colab": {},
    "colab_type": "code",
    "id": "wowe_OIQR3yg"
   },
   "outputs": [],
   "source": [
    "import numpy as np"
   ]
  },
  {
   "cell_type": "code",
   "execution_count": null,
   "metadata": {
    "colab": {},
    "colab_type": "code",
    "id": "yBPN2X6VR_T9"
   },
   "outputs": [],
   "source": [
    "mixed = pd.DataFrame(np.random.randn(6,4),columns=list('ABCD'))\n",
    "mixed['A'].iloc[0] = 'A'"
   ]
  },
  {
   "cell_type": "code",
   "execution_count": null,
   "metadata": {
    "colab": {},
    "colab_type": "code",
    "id": "n_Xwdj6q3tp0"
   },
   "outputs": [],
   "source": [
    "mixed['B'].dtype"
   ]
  },
  {
   "cell_type": "code",
   "execution_count": null,
   "metadata": {
    "colab": {},
    "colab_type": "code",
    "id": "e18g_GjBDBkM"
   },
   "outputs": [],
   "source": []
  }
 ],
 "metadata": {
  "colab": {
   "collapsed_sections": [
    "yqXIshpIQtWb"
   ],
   "name": "notebookCompartida_v0.ipynb",
   "provenance": [],
   "toc_visible": true,
   "version": "0.3.2"
  },
  "kernelspec": {
   "display_name": "Python 3",
   "language": "python",
   "name": "python3"
  },
  "language_info": {
   "codemirror_mode": {
    "name": "ipython",
    "version": 3
   },
   "file_extension": ".py",
   "mimetype": "text/x-python",
   "name": "python",
   "nbconvert_exporter": "python",
   "pygments_lexer": "ipython3",
   "version": "3.6.4"
  }
 },
 "nbformat": 4,
 "nbformat_minor": 1
}
