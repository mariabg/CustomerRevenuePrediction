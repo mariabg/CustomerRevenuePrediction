{
 "cells": [
  {
   "cell_type": "markdown",
   "metadata": {},
   "source": [
    "### Funciones y librerías usadas en el Notebook"
   ]
  },
  {
   "cell_type": "code",
   "execution_count": 1,
   "metadata": {},
   "outputs": [
    {
     "name": "stderr",
     "output_type": "stream",
     "text": [
      "/anaconda3/lib/python3.6/site-packages/lightgbm/__init__.py:46: UserWarning: Starting from version 2.2.1, the library file in distribution wheels for macOS is built by the Apple Clang (Xcode_8.3.1) compiler.\n",
      "This means that in case of installing LightGBM from PyPI via the ``pip install lightgbm`` command, you don't need to install the gcc compiler anymore.\n",
      "Instead of that, you need to install the OpenMP library, which is required for running LightGBM on the system with the Apple Clang compiler.\n",
      "You can install the OpenMP library by the following command: ``brew install libomp``.\n",
      "  \"You can install the OpenMP library by the following command: ``brew install libomp``.\", UserWarning)\n"
     ]
    }
   ],
   "source": [
    "import pandas as pd\n",
    "import numpy as np\n",
    "import matplotlib.pyplot as plt\n",
    "import lightgbm as lgb\n",
    "import warnings\n",
    "import sys\n",
    "\n",
    "from datetime import date\n",
    "from sklearn.metrics  import  classification_report \n",
    "from sklearn.metrics import mean_squared_error\n",
    "from sklearn.metrics import confusion_matrix\n",
    "from sklearn.model_selection import train_test_split\n",
    "from sklearn.preprocessing import LabelEncoder\n",
    "from sklearn import preprocessing\n",
    "\n",
    "def ignore_warn(*args, **kwargs):\n",
    "    pass\n",
    "warnings.warn = ignore_warn #Ignora los warning\n",
    "\n",
    "if not sys.warnoptions:\n",
    "    warnings.simplefilter(\"ignore\")"
   ]
  },
  {
   "cell_type": "code",
   "execution_count": 2,
   "metadata": {},
   "outputs": [],
   "source": [
    "#Funcion que servira para extraer todos los valores que existen en \"visitStartTime\"\n",
    "def extract_date_info(df, parametro):\n",
    "    #Obtenemos la fecha\n",
    "    if parametro == \"date\":\n",
    "        df[\"date\"] = [d.date() for d in df[\"visitStartTime\"]]\n",
    "    #Obtenemos el tiempo(hora, minutos, segundos)\n",
    "    if parametro == \"time\":\n",
    "        df[\"time\"] = [d.time() for d in df[\"visitStartTime\"]]\n",
    "    #Obtenemos el dia\n",
    "    if parametro == \"day\":\n",
    "        df[\"day\"] = df[\"visitStartTime\"].dt.day\n",
    "    #Obtenemos el mes\n",
    "    if parametro == \"month\":\n",
    "        df['month'] = df[\"visitStartTime\"].dt.month\n",
    "    #Obtenemos el numero que es un dia en la semana, los valores van de 0 a 6\n",
    "    if parametro == \"weekday\":\n",
    "        df['weekday'] = df[\"visitStartTime\"].dt.weekday\n",
    "    #Obtenemos el numero de la semana en el año\n",
    "    if parametro == \"weekofyear\": \n",
    "        df['weekofyear'] = df[\"visitStartTime\"].dt.weekofyear\n",
    "    #Obtenemos la hora\n",
    "    if parametro == \"hour\":\n",
    "        df['hour'] = df['visitStartTime'].dt.hour"
   ]
  },
  {
   "cell_type": "code",
   "execution_count": 3,
   "metadata": {},
   "outputs": [],
   "source": [
    "train = pd.read_csv(\"../data/train_v2_cleaned.csv\", sep=\",\", index_col=0, parse_dates=['visitStartTime'], dtype={'fullVisitorId': 'str'});\n",
    "test = pd.read_csv(\"../data/test_v2_cleaned.csv\", sep=\",\", index_col=0, parse_dates=['visitStartTime'], dtype={'fullVisitorId': 'str'})"
   ]
  },
  {
   "cell_type": "code",
   "execution_count": 4,
   "metadata": {},
   "outputs": [],
   "source": [
    "#Guardamos los valores de \"totalTransactionRevenue\", los cuales serán utilizados para entrenar el modelo y encontrar\n",
    "#el error cuadratico medio\n",
    "y_train = train[\"totalTransactionRevenue\"].values\n",
    "y_test = test[\"totalTransactionRevenue\"].values\n",
    "y_test_aux = test[\"totalTransactionRevenue\"]\n",
    "\n",
    "#Guardamos el Id de test que nos servirá para poder generar el fichero final con las predicciones \n",
    "test_id = test[\"fullVisitorId\"].values"
   ]
  },
  {
   "cell_type": "code",
   "execution_count": 5,
   "metadata": {},
   "outputs": [],
   "source": [
    "#Utilizamos la funcion creada antes para extrar solo el mes, tanto en el train como en el test\n",
    "for data in (train, test):\n",
    "    extract_date_info(data,'month')"
   ]
  },
  {
   "cell_type": "code",
   "execution_count": 6,
   "metadata": {},
   "outputs": [],
   "source": [
    "cat_cols = [\"channelGrouping\",\"browser\",\"deviceCategory\",\"operatingSystem\",\"city\",\"country\",\"region\",\"subContinent\",\n",
    "            \"adContent\",\"adPosition\",\"campaign\",\"isTrueDirect\",\"medium\",\"source\"]"
   ]
  },
  {
   "cell_type": "code",
   "execution_count": 7,
   "metadata": {},
   "outputs": [],
   "source": [
    "#Usaremos labelencoder para convertir las etiquetas en valores numericos, pensamos utilizar hot enconder, pero por la \n",
    "#cantidad de datos, no era viable ese metodo.\n",
    "labelencoder = preprocessing.LabelEncoder()\n",
    "for data in (train, test):\n",
    "    for c in cat_cols:\n",
    "        data[c] = labelencoder.fit_transform(data[c].astype(str))\n",
    "        labels = data[c]\n",
    "        labelencoder.fit(labels)\n",
    "        labels = labelencoder.transform(labels)"
   ]
  },
  {
   "cell_type": "code",
   "execution_count": 9,
   "metadata": {},
   "outputs": [],
   "source": [
    "#Eliminamos las columnas que hacen \"trampa\" para la prediccion tanto en el test como en el train\n",
    "train.drop(columns=['timeOnSite','transactions','fullVisitorId','visitStartTime'], axis=1, inplace=True)\n",
    "test.drop(columns=['timeOnSite','transactions','fullVisitorId','visitStartTime','totalTransactionRevenue'], axis=1, inplace=True)"
   ]
  },
  {
   "cell_type": "code",
   "execution_count": 10,
   "metadata": {},
   "outputs": [],
   "source": [
    "#Usaremos \"train_test_split\" para poder encontrar los valores de entrenamiento y validacion para poder entrenar el modelo\n",
    "train_lgb = train[:train.shape[0]]\n",
    "x = train_lgb.drop(columns=['totalTransactionRevenue'], axis=1)\n",
    "y = np.log1p(train_lgb[\"totalTransactionRevenue\"].astype(float))\n",
    "train_x, valid_x, train_y, valid_y = train_test_split(x,y, test_size=0.30, random_state=1)"
   ]
  },
  {
   "cell_type": "markdown",
   "metadata": {},
   "source": [
    "### LGBM"
   ]
  },
  {
   "cell_type": "code",
   "execution_count": 11,
   "metadata": {},
   "outputs": [
    {
     "name": "stdout",
     "output_type": "stream",
     "text": [
      "Training until validation scores don't improve for 500 rounds.\n",
      "[100]\ttraining's rmse: 0.397309\tvalid_1's rmse: 0.405339\n",
      "[200]\ttraining's rmse: 0.396206\tvalid_1's rmse: 0.404909\n",
      "[300]\ttraining's rmse: 0.395621\tvalid_1's rmse: 0.404904\n",
      "[400]\ttraining's rmse: 0.395194\tvalid_1's rmse: 0.404908\n",
      "[500]\ttraining's rmse: 0.394842\tvalid_1's rmse: 0.40494\n",
      "[600]\ttraining's rmse: 0.394481\tvalid_1's rmse: 0.404989\n",
      "[700]\ttraining's rmse: 0.394189\tvalid_1's rmse: 0.405025\n",
      "Early stopping, best iteration is:\n",
      "[253]\ttraining's rmse: 0.395874\tvalid_1's rmse: 0.404883\n"
     ]
    }
   ],
   "source": [
    "lgb_params = {\"objective\" : \"regression\", \n",
    "              \"metric\" : \"rmse\", \n",
    "              \"num_leaves\" : 100,\n",
    "              \"min_child_samples\" : 100,\n",
    "              \"learning_rate\" : 0.05,\n",
    "              \"bagging_fraction\" : 0.8,\n",
    "              \"feature_fraction\" : 0.6,\n",
    "              \"bagging_frequency\" : 7,\n",
    "              \"bagging_seed\" : 3,\n",
    "              \"verbosity\" : -1}\n",
    "lgb_train = lgb.Dataset(train_x, label=train_y)\n",
    "lgb_val = lgb.Dataset(valid_x, label=valid_y)\n",
    "model = lgb.train(lgb_params, lgb_train, 1000, valid_sets=[lgb_train, lgb_val], early_stopping_rounds=500, verbose_eval=100)"
   ]
  },
  {
   "cell_type": "code",
   "execution_count": 12,
   "metadata": {},
   "outputs": [],
   "source": [
    "#Prediccion del test\n",
    "prediccion_gasto = np.zeros(len(test))\n",
    "prediccion_gasto = model.predict(test, num_iteration=model.best_iteration)\n",
    "prediccion  = pd.DataFrame()\n",
    "prediccion[\"fullVisitorId\"] = test_id\n",
    "prediccion[\"PredictedLogRevenue\"] = np.expm1(prediccion_gasto)\n",
    "prediccion[\"PredictedLogRevenue\"] = prediccion[\"PredictedLogRevenue\"].apply(lambda x : 0.0 if x < 0 else x)\n",
    "\n",
    "#Agruparlos por \"fullVisitorId\" y sumar sus \"PredictedLogRevenue\" para luego aplicar el logaritmo a la suma.\n",
    "submission = prediccion.groupby(\"fullVisitorId\").agg({\"PredictedLogRevenue\" : \"sum\"}).reset_index()\n",
    "submission[\"PredictedLogRevenue\"] = np.log1p(submission[\"PredictedLogRevenue\"])\n",
    "submission[\"PredictedLogRevenue\"] =  submission[\"PredictedLogRevenue\"].apply(lambda x : 0.0 if x < 0 else x)\n",
    "submission[\"PredictedLogRevenue\"] = submission[\"PredictedLogRevenue\"].fillna(0.0)"
   ]
  },
  {
   "cell_type": "code",
   "execution_count": 22,
   "metadata": {
    "scrolled": true
   },
   "outputs": [
    {
     "name": "stdout",
     "output_type": "stream",
     "text": [
      "4377.197705630635\n"
     ]
    }
   ],
   "source": [
    "print(mean_squared_error(y_test, prediccion['PredictedLogRevenue']))"
   ]
  },
  {
   "cell_type": "markdown",
   "metadata": {},
   "source": [
    "### Analisis de Resultados"
   ]
  },
  {
   "cell_type": "markdown",
   "metadata": {},
   "source": [
    "#### Consideramos \"compras\" solo a aquellas cuya prediccion es diferente a 0"
   ]
  },
  {
   "cell_type": "code",
   "execution_count": 13,
   "metadata": {},
   "outputs": [
    {
     "name": "stdout",
     "output_type": "stream",
     "text": [
      "             precision    recall  f1-score   support\n",
      "\n",
      "        0.0       1.00      0.19      0.32    396995\n",
      "        1.0       0.01      0.96      0.03      4594\n",
      "\n",
      "avg / total       0.99      0.20      0.31    401589\n",
      "\n"
     ]
    }
   ],
   "source": [
    "# Evaluación binaria de los resultados\n",
    "y_pred_test = prediccion[\"PredictedLogRevenue\"].values\n",
    "y_pred_test_binary = pd.DataFrame(y_pred_test)[0].apply(lambda x: x if x == 0 else 1)\n",
    "y_test_binary = pd.DataFrame(y_test_aux)['totalTransactionRevenue'].apply(lambda x: x if x == 0 else 1)\n",
    "print(classification_report(y_test_binary, y_pred_test_binary))"
   ]
  },
  {
   "cell_type": "code",
   "execution_count": 14,
   "metadata": {},
   "outputs": [
    {
     "name": "stdout",
     "output_type": "stream",
     "text": [
      "[[ 74474 322521]\n",
      " [   188   4406]]\n"
     ]
    }
   ],
   "source": [
    "print(confusion_matrix(y_test_binary, y_pred_test_binary))"
   ]
  },
  {
   "cell_type": "markdown",
   "metadata": {},
   "source": [
    "Sin embargo estos resultados no son logicos, ya que aquellas prediccion que marca como compra (\"1\") son valores que rondan el 0, como por ejemplo 0.001"
   ]
  },
  {
   "cell_type": "markdown",
   "metadata": {},
   "source": [
    "#### Consideramos \"compras\" solo a aquellas cuya prediccion es mayor a 1"
   ]
  },
  {
   "cell_type": "code",
   "execution_count": 16,
   "metadata": {},
   "outputs": [
    {
     "name": "stdout",
     "output_type": "stream",
     "text": [
      "             precision    recall  f1-score   support\n",
      "\n",
      "        0.0       0.99      1.00      0.99    396995\n",
      "        1.0       1.00      0.11      0.19      4594\n",
      "\n",
      "avg / total       0.99      0.99      0.99    401589\n",
      "\n"
     ]
    }
   ],
   "source": [
    "# Evaluación binaria de los resultados\n",
    "y_pred_test = prediccion[\"PredictedLogRevenue\"].values\n",
    "y_pred_test_binary = pd.DataFrame(y_pred_test)[0].apply(lambda x: 0 if x < 1 else 1)\n",
    "y_test_binary = pd.DataFrame(y_test_aux)['totalTransactionRevenue'].apply(lambda x: x if x == 0 else 1)\n",
    "print(classification_report(y_test_binary, y_pred_test_binary))"
   ]
  },
  {
   "cell_type": "code",
   "execution_count": 17,
   "metadata": {},
   "outputs": [
    {
     "name": "stdout",
     "output_type": "stream",
     "text": [
      "[[396995      0]\n",
      " [  4111    483]]\n"
     ]
    }
   ],
   "source": [
    "print(confusion_matrix(y_test_binary, y_pred_test_binary))"
   ]
  },
  {
   "cell_type": "code",
   "execution_count": 19,
   "metadata": {},
   "outputs": [
    {
     "data": {
      "text/html": [
       "<div>\n",
       "<style scoped>\n",
       "    .dataframe tbody tr th:only-of-type {\n",
       "        vertical-align: middle;\n",
       "    }\n",
       "\n",
       "    .dataframe tbody tr th {\n",
       "        vertical-align: top;\n",
       "    }\n",
       "\n",
       "    .dataframe thead th {\n",
       "        text-align: right;\n",
       "    }\n",
       "</style>\n",
       "<table border=\"1\" class=\"dataframe\">\n",
       "  <thead>\n",
       "    <tr style=\"text-align: right;\">\n",
       "      <th></th>\n",
       "      <th>fullVisitorId</th>\n",
       "      <th>PredictedLogRevenue</th>\n",
       "    </tr>\n",
       "  </thead>\n",
       "  <tbody>\n",
       "    <tr>\n",
       "      <th>84596</th>\n",
       "      <td>392344150119056175</td>\n",
       "      <td>66.760237</td>\n",
       "    </tr>\n",
       "    <tr>\n",
       "      <th>220182</th>\n",
       "      <td>6316136652184945229</td>\n",
       "      <td>103.503385</td>\n",
       "    </tr>\n",
       "    <tr>\n",
       "      <th>74852</th>\n",
       "      <td>4828622678500284421</td>\n",
       "      <td>58.415245</td>\n",
       "    </tr>\n",
       "    <tr>\n",
       "      <th>307139</th>\n",
       "      <td>9752762228732349732</td>\n",
       "      <td>60.769750</td>\n",
       "    </tr>\n",
       "    <tr>\n",
       "      <th>382211</th>\n",
       "      <td>0438250177572890948</td>\n",
       "      <td>66.726944</td>\n",
       "    </tr>\n",
       "    <tr>\n",
       "      <th>95282</th>\n",
       "      <td>9249130983722228273</td>\n",
       "      <td>115.155428</td>\n",
       "    </tr>\n",
       "    <tr>\n",
       "      <th>354664</th>\n",
       "      <td>5080412442132595375</td>\n",
       "      <td>71.373722</td>\n",
       "    </tr>\n",
       "    <tr>\n",
       "      <th>74903</th>\n",
       "      <td>2652382083854828728</td>\n",
       "      <td>103.631725</td>\n",
       "    </tr>\n",
       "    <tr>\n",
       "      <th>309450</th>\n",
       "      <td>6643124935587485700</td>\n",
       "      <td>123.335658</td>\n",
       "    </tr>\n",
       "    <tr>\n",
       "      <th>242703</th>\n",
       "      <td>0010364132187346780</td>\n",
       "      <td>125.943505</td>\n",
       "    </tr>\n",
       "    <tr>\n",
       "      <th>82222</th>\n",
       "      <td>919928556976595247</td>\n",
       "      <td>65.725947</td>\n",
       "    </tr>\n",
       "    <tr>\n",
       "      <th>237009</th>\n",
       "      <td>7225072084600115832</td>\n",
       "      <td>85.818143</td>\n",
       "    </tr>\n",
       "    <tr>\n",
       "      <th>109046</th>\n",
       "      <td>1981061387580901126</td>\n",
       "      <td>62.812306</td>\n",
       "    </tr>\n",
       "    <tr>\n",
       "      <th>172879</th>\n",
       "      <td>8665078014499866389</td>\n",
       "      <td>97.459736</td>\n",
       "    </tr>\n",
       "    <tr>\n",
       "      <th>363508</th>\n",
       "      <td>4075711852393720175</td>\n",
       "      <td>61.746082</td>\n",
       "    </tr>\n",
       "    <tr>\n",
       "      <th>318332</th>\n",
       "      <td>2070054621456653419</td>\n",
       "      <td>88.993407</td>\n",
       "    </tr>\n",
       "    <tr>\n",
       "      <th>293690</th>\n",
       "      <td>7224143957951197294</td>\n",
       "      <td>83.049826</td>\n",
       "    </tr>\n",
       "    <tr>\n",
       "      <th>211213</th>\n",
       "      <td>5901634732019418967</td>\n",
       "      <td>91.401760</td>\n",
       "    </tr>\n",
       "    <tr>\n",
       "      <th>270921</th>\n",
       "      <td>5719540576950270917</td>\n",
       "      <td>86.973903</td>\n",
       "    </tr>\n",
       "    <tr>\n",
       "      <th>251009</th>\n",
       "      <td>8908079517654295334</td>\n",
       "      <td>56.107522</td>\n",
       "    </tr>\n",
       "  </tbody>\n",
       "</table>\n",
       "</div>"
      ],
      "text/plain": [
       "              fullVisitorId  PredictedLogRevenue\n",
       "84596    392344150119056175            66.760237\n",
       "220182  6316136652184945229           103.503385\n",
       "74852   4828622678500284421            58.415245\n",
       "307139  9752762228732349732            60.769750\n",
       "382211  0438250177572890948            66.726944\n",
       "95282   9249130983722228273           115.155428\n",
       "354664  5080412442132595375            71.373722\n",
       "74903   2652382083854828728           103.631725\n",
       "309450  6643124935587485700           123.335658\n",
       "242703  0010364132187346780           125.943505\n",
       "82222    919928556976595247            65.725947\n",
       "237009  7225072084600115832            85.818143\n",
       "109046  1981061387580901126            62.812306\n",
       "172879  8665078014499866389            97.459736\n",
       "363508  4075711852393720175            61.746082\n",
       "318332  2070054621456653419            88.993407\n",
       "293690  7224143957951197294            83.049826\n",
       "211213  5901634732019418967            91.401760\n",
       "270921  5719540576950270917            86.973903\n",
       "251009  8908079517654295334            56.107522"
      ]
     },
     "execution_count": 19,
     "metadata": {},
     "output_type": "execute_result"
    }
   ],
   "source": [
    "prediccion[prediccion[\"PredictedLogRevenue\"] > 1].sample(20)"
   ]
  },
  {
   "cell_type": "markdown",
   "metadata": {},
   "source": [
    "Como se puede apreciar el modelo predice valores que rondan el 0, como por ejemplo 0.001, esto quiere decir\n",
    "que nadie compra.\n",
    "\n",
    "Gracias a este analisis nos dimos cuenta que la orientacion que habiamos tomado para la prediccion no era la correcta."
   ]
  },
  {
   "cell_type": "code",
   "execution_count": null,
   "metadata": {},
   "outputs": [],
   "source": []
  }
 ],
 "metadata": {
  "kernelspec": {
   "display_name": "Python 3",
   "language": "python",
   "name": "python3"
  },
  "language_info": {
   "codemirror_mode": {
    "name": "ipython",
    "version": 3
   },
   "file_extension": ".py",
   "mimetype": "text/x-python",
   "name": "python",
   "nbconvert_exporter": "python",
   "pygments_lexer": "ipython3",
   "version": "3.6.4"
  }
 },
 "nbformat": 4,
 "nbformat_minor": 2
}
