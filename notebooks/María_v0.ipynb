{
 "cells": [
  {
   "cell_type": "code",
   "execution_count": 1,
   "metadata": {},
   "outputs": [],
   "source": [
    "import pandas as pd"
   ]
  },
  {
   "cell_type": "code",
   "execution_count": 2,
   "metadata": {},
   "outputs": [
    {
     "name": "stderr",
     "output_type": "stream",
     "text": [
      "/anaconda3/lib/python3.6/site-packages/IPython/core/interactiveshell.py:2728: DtypeWarning: Columns (3) have mixed types. Specify dtype option on import or set low_memory=False.\n",
      "  interactivity=interactivity, compiler=compiler, result=result)\n"
     ]
    }
   ],
   "source": [
    "data = pd.read_csv(\"../data/train.csv\")"
   ]
  },
  {
   "cell_type": "code",
   "execution_count": 3,
   "metadata": {},
   "outputs": [
    {
     "data": {
      "text/html": [
       "<div>\n",
       "<style scoped>\n",
       "    .dataframe tbody tr th:only-of-type {\n",
       "        vertical-align: middle;\n",
       "    }\n",
       "\n",
       "    .dataframe tbody tr th {\n",
       "        vertical-align: top;\n",
       "    }\n",
       "\n",
       "    .dataframe thead th {\n",
       "        text-align: right;\n",
       "    }\n",
       "</style>\n",
       "<table border=\"1\" class=\"dataframe\">\n",
       "  <thead>\n",
       "    <tr style=\"text-align: right;\">\n",
       "      <th></th>\n",
       "      <th>channelGrouping</th>\n",
       "      <th>date</th>\n",
       "      <th>device</th>\n",
       "      <th>fullVisitorId</th>\n",
       "      <th>geoNetwork</th>\n",
       "      <th>sessionId</th>\n",
       "      <th>socialEngagementType</th>\n",
       "      <th>totals</th>\n",
       "      <th>trafficSource</th>\n",
       "      <th>visitId</th>\n",
       "      <th>visitNumber</th>\n",
       "      <th>visitStartTime</th>\n",
       "    </tr>\n",
       "  </thead>\n",
       "  <tbody>\n",
       "    <tr>\n",
       "      <th>count</th>\n",
       "      <td>5000</td>\n",
       "      <td>5.000000e+03</td>\n",
       "      <td>5000</td>\n",
       "      <td>5.000000e+03</td>\n",
       "      <td>5000</td>\n",
       "      <td>5000</td>\n",
       "      <td>5000</td>\n",
       "      <td>5000</td>\n",
       "      <td>5000</td>\n",
       "      <td>5.000000e+03</td>\n",
       "      <td>5000.000000</td>\n",
       "      <td>5.000000e+03</td>\n",
       "    </tr>\n",
       "    <tr>\n",
       "      <th>unique</th>\n",
       "      <td>8</td>\n",
       "      <td>NaN</td>\n",
       "      <td>47</td>\n",
       "      <td>4.990000e+03</td>\n",
       "      <td>1688</td>\n",
       "      <td>5000</td>\n",
       "      <td>1</td>\n",
       "      <td>401</td>\n",
       "      <td>380</td>\n",
       "      <td>NaN</td>\n",
       "      <td>NaN</td>\n",
       "      <td>NaN</td>\n",
       "    </tr>\n",
       "    <tr>\n",
       "      <th>top</th>\n",
       "      <td>Organic Search</td>\n",
       "      <td>NaN</td>\n",
       "      <td>{\"browser\": \"Chrome\", \"browserVersion\": \"not a...</td>\n",
       "      <td>3.121600e+18</td>\n",
       "      <td>{\"continent\": \"Americas\", \"subContinent\": \"Nor...</td>\n",
       "      <td>750953995400852633_1474695151</td>\n",
       "      <td>Not Socially Engaged</td>\n",
       "      <td>{\"visits\": \"1\", \"hits\": \"1\", \"pageviews\": \"1\",...</td>\n",
       "      <td>{\"campaign\": \"(not set)\", \"source\": \"google\", ...</td>\n",
       "      <td>NaN</td>\n",
       "      <td>NaN</td>\n",
       "      <td>NaN</td>\n",
       "    </tr>\n",
       "    <tr>\n",
       "      <th>freq</th>\n",
       "      <td>2043</td>\n",
       "      <td>NaN</td>\n",
       "      <td>1609</td>\n",
       "      <td>2.000000e+00</td>\n",
       "      <td>354</td>\n",
       "      <td>1</td>\n",
       "      <td>5000</td>\n",
       "      <td>1997</td>\n",
       "      <td>1603</td>\n",
       "      <td>NaN</td>\n",
       "      <td>NaN</td>\n",
       "      <td>NaN</td>\n",
       "    </tr>\n",
       "    <tr>\n",
       "      <th>mean</th>\n",
       "      <td>NaN</td>\n",
       "      <td>2.016588e+07</td>\n",
       "      <td>NaN</td>\n",
       "      <td>NaN</td>\n",
       "      <td>NaN</td>\n",
       "      <td>NaN</td>\n",
       "      <td>NaN</td>\n",
       "      <td>NaN</td>\n",
       "      <td>NaN</td>\n",
       "      <td>1.485038e+09</td>\n",
       "      <td>2.113000</td>\n",
       "      <td>1.485038e+09</td>\n",
       "    </tr>\n",
       "    <tr>\n",
       "      <th>std</th>\n",
       "      <td>NaN</td>\n",
       "      <td>4.701674e+03</td>\n",
       "      <td>NaN</td>\n",
       "      <td>NaN</td>\n",
       "      <td>NaN</td>\n",
       "      <td>NaN</td>\n",
       "      <td>NaN</td>\n",
       "      <td>NaN</td>\n",
       "      <td>NaN</td>\n",
       "      <td>9.110427e+06</td>\n",
       "      <td>6.742531</td>\n",
       "      <td>9.110427e+06</td>\n",
       "    </tr>\n",
       "    <tr>\n",
       "      <th>min</th>\n",
       "      <td>NaN</td>\n",
       "      <td>2.016080e+07</td>\n",
       "      <td>NaN</td>\n",
       "      <td>NaN</td>\n",
       "      <td>NaN</td>\n",
       "      <td>NaN</td>\n",
       "      <td>NaN</td>\n",
       "      <td>NaN</td>\n",
       "      <td>NaN</td>\n",
       "      <td>1.470039e+09</td>\n",
       "      <td>1.000000</td>\n",
       "      <td>1.470039e+09</td>\n",
       "    </tr>\n",
       "    <tr>\n",
       "      <th>25%</th>\n",
       "      <td>NaN</td>\n",
       "      <td>2.016102e+07</td>\n",
       "      <td>NaN</td>\n",
       "      <td>NaN</td>\n",
       "      <td>NaN</td>\n",
       "      <td>NaN</td>\n",
       "      <td>NaN</td>\n",
       "      <td>NaN</td>\n",
       "      <td>NaN</td>\n",
       "      <td>1.477442e+09</td>\n",
       "      <td>1.000000</td>\n",
       "      <td>1.477442e+09</td>\n",
       "    </tr>\n",
       "    <tr>\n",
       "      <th>50%</th>\n",
       "      <td>NaN</td>\n",
       "      <td>2.017011e+07</td>\n",
       "      <td>NaN</td>\n",
       "      <td>NaN</td>\n",
       "      <td>NaN</td>\n",
       "      <td>NaN</td>\n",
       "      <td>NaN</td>\n",
       "      <td>NaN</td>\n",
       "      <td>NaN</td>\n",
       "      <td>1.484029e+09</td>\n",
       "      <td>1.000000</td>\n",
       "      <td>1.484029e+09</td>\n",
       "    </tr>\n",
       "    <tr>\n",
       "      <th>75%</th>\n",
       "      <td>NaN</td>\n",
       "      <td>2.017042e+07</td>\n",
       "      <td>NaN</td>\n",
       "      <td>NaN</td>\n",
       "      <td>NaN</td>\n",
       "      <td>NaN</td>\n",
       "      <td>NaN</td>\n",
       "      <td>NaN</td>\n",
       "      <td>NaN</td>\n",
       "      <td>1.492814e+09</td>\n",
       "      <td>1.000000</td>\n",
       "      <td>1.492814e+09</td>\n",
       "    </tr>\n",
       "    <tr>\n",
       "      <th>max</th>\n",
       "      <td>NaN</td>\n",
       "      <td>2.017080e+07</td>\n",
       "      <td>NaN</td>\n",
       "      <td>NaN</td>\n",
       "      <td>NaN</td>\n",
       "      <td>NaN</td>\n",
       "      <td>NaN</td>\n",
       "      <td>NaN</td>\n",
       "      <td>NaN</td>\n",
       "      <td>1.501651e+09</td>\n",
       "      <td>167.000000</td>\n",
       "      <td>1.501651e+09</td>\n",
       "    </tr>\n",
       "  </tbody>\n",
       "</table>\n",
       "</div>"
      ],
      "text/plain": [
       "       channelGrouping          date  \\\n",
       "count             5000  5.000000e+03   \n",
       "unique               8           NaN   \n",
       "top     Organic Search           NaN   \n",
       "freq              2043           NaN   \n",
       "mean               NaN  2.016588e+07   \n",
       "std                NaN  4.701674e+03   \n",
       "min                NaN  2.016080e+07   \n",
       "25%                NaN  2.016102e+07   \n",
       "50%                NaN  2.017011e+07   \n",
       "75%                NaN  2.017042e+07   \n",
       "max                NaN  2.017080e+07   \n",
       "\n",
       "                                                   device  fullVisitorId  \\\n",
       "count                                                5000   5.000000e+03   \n",
       "unique                                                 47   4.990000e+03   \n",
       "top     {\"browser\": \"Chrome\", \"browserVersion\": \"not a...   3.121600e+18   \n",
       "freq                                                 1609   2.000000e+00   \n",
       "mean                                                  NaN            NaN   \n",
       "std                                                   NaN            NaN   \n",
       "min                                                   NaN            NaN   \n",
       "25%                                                   NaN            NaN   \n",
       "50%                                                   NaN            NaN   \n",
       "75%                                                   NaN            NaN   \n",
       "max                                                   NaN            NaN   \n",
       "\n",
       "                                               geoNetwork  \\\n",
       "count                                                5000   \n",
       "unique                                               1688   \n",
       "top     {\"continent\": \"Americas\", \"subContinent\": \"Nor...   \n",
       "freq                                                  354   \n",
       "mean                                                  NaN   \n",
       "std                                                   NaN   \n",
       "min                                                   NaN   \n",
       "25%                                                   NaN   \n",
       "50%                                                   NaN   \n",
       "75%                                                   NaN   \n",
       "max                                                   NaN   \n",
       "\n",
       "                            sessionId  socialEngagementType  \\\n",
       "count                            5000                  5000   \n",
       "unique                           5000                     1   \n",
       "top     750953995400852633_1474695151  Not Socially Engaged   \n",
       "freq                                1                  5000   \n",
       "mean                              NaN                   NaN   \n",
       "std                               NaN                   NaN   \n",
       "min                               NaN                   NaN   \n",
       "25%                               NaN                   NaN   \n",
       "50%                               NaN                   NaN   \n",
       "75%                               NaN                   NaN   \n",
       "max                               NaN                   NaN   \n",
       "\n",
       "                                                   totals  \\\n",
       "count                                                5000   \n",
       "unique                                                401   \n",
       "top     {\"visits\": \"1\", \"hits\": \"1\", \"pageviews\": \"1\",...   \n",
       "freq                                                 1997   \n",
       "mean                                                  NaN   \n",
       "std                                                   NaN   \n",
       "min                                                   NaN   \n",
       "25%                                                   NaN   \n",
       "50%                                                   NaN   \n",
       "75%                                                   NaN   \n",
       "max                                                   NaN   \n",
       "\n",
       "                                            trafficSource       visitId  \\\n",
       "count                                                5000  5.000000e+03   \n",
       "unique                                                380           NaN   \n",
       "top     {\"campaign\": \"(not set)\", \"source\": \"google\", ...           NaN   \n",
       "freq                                                 1603           NaN   \n",
       "mean                                                  NaN  1.485038e+09   \n",
       "std                                                   NaN  9.110427e+06   \n",
       "min                                                   NaN  1.470039e+09   \n",
       "25%                                                   NaN  1.477442e+09   \n",
       "50%                                                   NaN  1.484029e+09   \n",
       "75%                                                   NaN  1.492814e+09   \n",
       "max                                                   NaN  1.501651e+09   \n",
       "\n",
       "        visitNumber  visitStartTime  \n",
       "count   5000.000000    5.000000e+03  \n",
       "unique          NaN             NaN  \n",
       "top             NaN             NaN  \n",
       "freq            NaN             NaN  \n",
       "mean       2.113000    1.485038e+09  \n",
       "std        6.742531    9.110427e+06  \n",
       "min        1.000000    1.470039e+09  \n",
       "25%        1.000000    1.477442e+09  \n",
       "50%        1.000000    1.484029e+09  \n",
       "75%        1.000000    1.492814e+09  \n",
       "max      167.000000    1.501651e+09  "
      ]
     },
     "execution_count": 3,
     "metadata": {},
     "output_type": "execute_result"
    }
   ],
   "source": [
    "df = data.sample(n=5000)\n",
    "df.describe(include='all')"
   ]
  },
  {
   "cell_type": "code",
   "execution_count": 4,
   "metadata": {},
   "outputs": [
    {
     "data": {
      "text/html": [
       "<div>\n",
       "<style scoped>\n",
       "    .dataframe tbody tr th:only-of-type {\n",
       "        vertical-align: middle;\n",
       "    }\n",
       "\n",
       "    .dataframe tbody tr th {\n",
       "        vertical-align: top;\n",
       "    }\n",
       "\n",
       "    .dataframe thead th {\n",
       "        text-align: right;\n",
       "    }\n",
       "</style>\n",
       "<table border=\"1\" class=\"dataframe\">\n",
       "  <thead>\n",
       "    <tr style=\"text-align: right;\">\n",
       "      <th></th>\n",
       "      <th>channelGrouping</th>\n",
       "      <th>date</th>\n",
       "      <th>device</th>\n",
       "      <th>fullVisitorId</th>\n",
       "      <th>geoNetwork</th>\n",
       "      <th>sessionId</th>\n",
       "      <th>socialEngagementType</th>\n",
       "      <th>totals</th>\n",
       "      <th>trafficSource</th>\n",
       "      <th>visitId</th>\n",
       "      <th>visitNumber</th>\n",
       "      <th>visitStartTime</th>\n",
       "    </tr>\n",
       "  </thead>\n",
       "  <tbody>\n",
       "    <tr>\n",
       "      <th>56489</th>\n",
       "      <td>Organic Search</td>\n",
       "      <td>20170515</td>\n",
       "      <td>{\"browser\": \"Chrome\", \"browserVersion\": \"not a...</td>\n",
       "      <td>666096599711646936</td>\n",
       "      <td>{\"continent\": \"Americas\", \"subContinent\": \"Nor...</td>\n",
       "      <td>666096599711646936_1494902405</td>\n",
       "      <td>Not Socially Engaged</td>\n",
       "      <td>{\"visits\": \"1\", \"hits\": \"3\", \"pageviews\": \"3\",...</td>\n",
       "      <td>{\"campaign\": \"(not set)\", \"source\": \"google\", ...</td>\n",
       "      <td>1494902405</td>\n",
       "      <td>1</td>\n",
       "      <td>1494902405</td>\n",
       "    </tr>\n",
       "    <tr>\n",
       "      <th>136918</th>\n",
       "      <td>Direct</td>\n",
       "      <td>20170102</td>\n",
       "      <td>{\"browser\": \"Amazon Silk\", \"browserVersion\": \"...</td>\n",
       "      <td>6957169362830097424</td>\n",
       "      <td>{\"continent\": \"Americas\", \"subContinent\": \"Nor...</td>\n",
       "      <td>6957169362830097424_1483364599</td>\n",
       "      <td>Not Socially Engaged</td>\n",
       "      <td>{\"visits\": \"1\", \"hits\": \"1\", \"pageviews\": \"1\",...</td>\n",
       "      <td>{\"campaign\": \"(not set)\", \"source\": \"(direct)\"...</td>\n",
       "      <td>1483364599</td>\n",
       "      <td>1</td>\n",
       "      <td>1483364599</td>\n",
       "    </tr>\n",
       "    <tr>\n",
       "      <th>798781</th>\n",
       "      <td>Organic Search</td>\n",
       "      <td>20170418</td>\n",
       "      <td>{\"browser\": \"Chrome\", \"browserVersion\": \"not a...</td>\n",
       "      <td>9820664596722877756</td>\n",
       "      <td>{\"continent\": \"Americas\", \"subContinent\": \"Nor...</td>\n",
       "      <td>9820664596722877756_1492561845</td>\n",
       "      <td>Not Socially Engaged</td>\n",
       "      <td>{\"visits\": \"1\", \"hits\": \"3\", \"pageviews\": \"3\"}</td>\n",
       "      <td>{\"campaign\": \"(not set)\", \"source\": \"google\", ...</td>\n",
       "      <td>1492561845</td>\n",
       "      <td>2</td>\n",
       "      <td>1492561845</td>\n",
       "    </tr>\n",
       "    <tr>\n",
       "      <th>556731</th>\n",
       "      <td>Social</td>\n",
       "      <td>20160919</td>\n",
       "      <td>{\"browser\": \"Safari\", \"browserVersion\": \"not a...</td>\n",
       "      <td>4373776106149862057</td>\n",
       "      <td>{\"continent\": \"Asia\", \"subContinent\": \"Souther...</td>\n",
       "      <td>4373776106149862057_1474287060</td>\n",
       "      <td>Not Socially Engaged</td>\n",
       "      <td>{\"visits\": \"1\", \"hits\": \"1\", \"pageviews\": \"1\",...</td>\n",
       "      <td>{\"referralPath\": \"/yt/about/\", \"campaign\": \"(n...</td>\n",
       "      <td>1474287060</td>\n",
       "      <td>1</td>\n",
       "      <td>1474287060</td>\n",
       "    </tr>\n",
       "    <tr>\n",
       "      <th>54456</th>\n",
       "      <td>Affiliates</td>\n",
       "      <td>20170529</td>\n",
       "      <td>{\"browser\": \"Chrome\", \"browserVersion\": \"not a...</td>\n",
       "      <td>662514173625852646</td>\n",
       "      <td>{\"continent\": \"Asia\", \"subContinent\": \"Eastern...</td>\n",
       "      <td>662514173625852646_1496077444</td>\n",
       "      <td>Not Socially Engaged</td>\n",
       "      <td>{\"visits\": \"1\", \"hits\": \"1\", \"pageviews\": \"1\",...</td>\n",
       "      <td>{\"campaign\": \"Data Share Promo\", \"source\": \"Pa...</td>\n",
       "      <td>1496077444</td>\n",
       "      <td>1</td>\n",
       "      <td>1496077444</td>\n",
       "    </tr>\n",
       "  </tbody>\n",
       "</table>\n",
       "</div>"
      ],
      "text/plain": [
       "       channelGrouping      date  \\\n",
       "56489   Organic Search  20170515   \n",
       "136918          Direct  20170102   \n",
       "798781  Organic Search  20170418   \n",
       "556731          Social  20160919   \n",
       "54456       Affiliates  20170529   \n",
       "\n",
       "                                                   device  \\\n",
       "56489   {\"browser\": \"Chrome\", \"browserVersion\": \"not a...   \n",
       "136918  {\"browser\": \"Amazon Silk\", \"browserVersion\": \"...   \n",
       "798781  {\"browser\": \"Chrome\", \"browserVersion\": \"not a...   \n",
       "556731  {\"browser\": \"Safari\", \"browserVersion\": \"not a...   \n",
       "54456   {\"browser\": \"Chrome\", \"browserVersion\": \"not a...   \n",
       "\n",
       "              fullVisitorId  \\\n",
       "56489    666096599711646936   \n",
       "136918  6957169362830097424   \n",
       "798781  9820664596722877756   \n",
       "556731  4373776106149862057   \n",
       "54456    662514173625852646   \n",
       "\n",
       "                                               geoNetwork  \\\n",
       "56489   {\"continent\": \"Americas\", \"subContinent\": \"Nor...   \n",
       "136918  {\"continent\": \"Americas\", \"subContinent\": \"Nor...   \n",
       "798781  {\"continent\": \"Americas\", \"subContinent\": \"Nor...   \n",
       "556731  {\"continent\": \"Asia\", \"subContinent\": \"Souther...   \n",
       "54456   {\"continent\": \"Asia\", \"subContinent\": \"Eastern...   \n",
       "\n",
       "                             sessionId  socialEngagementType  \\\n",
       "56489    666096599711646936_1494902405  Not Socially Engaged   \n",
       "136918  6957169362830097424_1483364599  Not Socially Engaged   \n",
       "798781  9820664596722877756_1492561845  Not Socially Engaged   \n",
       "556731  4373776106149862057_1474287060  Not Socially Engaged   \n",
       "54456    662514173625852646_1496077444  Not Socially Engaged   \n",
       "\n",
       "                                                   totals  \\\n",
       "56489   {\"visits\": \"1\", \"hits\": \"3\", \"pageviews\": \"3\",...   \n",
       "136918  {\"visits\": \"1\", \"hits\": \"1\", \"pageviews\": \"1\",...   \n",
       "798781     {\"visits\": \"1\", \"hits\": \"3\", \"pageviews\": \"3\"}   \n",
       "556731  {\"visits\": \"1\", \"hits\": \"1\", \"pageviews\": \"1\",...   \n",
       "54456   {\"visits\": \"1\", \"hits\": \"1\", \"pageviews\": \"1\",...   \n",
       "\n",
       "                                            trafficSource     visitId  \\\n",
       "56489   {\"campaign\": \"(not set)\", \"source\": \"google\", ...  1494902405   \n",
       "136918  {\"campaign\": \"(not set)\", \"source\": \"(direct)\"...  1483364599   \n",
       "798781  {\"campaign\": \"(not set)\", \"source\": \"google\", ...  1492561845   \n",
       "556731  {\"referralPath\": \"/yt/about/\", \"campaign\": \"(n...  1474287060   \n",
       "54456   {\"campaign\": \"Data Share Promo\", \"source\": \"Pa...  1496077444   \n",
       "\n",
       "        visitNumber  visitStartTime  \n",
       "56489             1      1494902405  \n",
       "136918            1      1483364599  \n",
       "798781            2      1492561845  \n",
       "556731            1      1474287060  \n",
       "54456             1      1496077444  "
      ]
     },
     "execution_count": 4,
     "metadata": {},
     "output_type": "execute_result"
    }
   ],
   "source": [
    "df.head()"
   ]
  },
  {
   "cell_type": "code",
   "execution_count": 5,
   "metadata": {},
   "outputs": [
    {
     "data": {
      "text/plain": [
       "Organic Search    2043\n",
       "Social            1289\n",
       "Direct             783\n",
       "Referral           618\n",
       "Paid Search        140\n",
       "Affiliates          93\n",
       "Display             31\n",
       "(Other)              3\n",
       "Name: channelGrouping, dtype: int64"
      ]
     },
     "execution_count": 5,
     "metadata": {},
     "output_type": "execute_result"
    }
   ],
   "source": [
    "df['channelGrouping'].value_counts()"
   ]
  },
  {
   "cell_type": "code",
   "execution_count": 6,
   "metadata": {},
   "outputs": [],
   "source": [
    "# si del timestamp queremos sacar la hora además del día hay que mirar el formato de la hora, y si es local, tener en cuenta la región\n",
    "# df.rimestamp.dt.tz_localize('UTC').dt.tz_convert('Europe/Brussels')\n",
    "\n",
    "# este cast funciona mal :3\n",
    "df['date'] = pd.to_datetime(df['date'], unit='s')\n",
    "# data['date'] = pd.to_datetime(data['date'], format='%d%m%Y', errors='coerce')"
   ]
  },
  {
   "cell_type": "code",
   "execution_count": 7,
   "metadata": {},
   "outputs": [
    {
     "data": {
      "text/plain": [
       "Timestamp('1970-08-22 10:55:15')"
      ]
     },
     "execution_count": 7,
     "metadata": {},
     "output_type": "execute_result"
    }
   ],
   "source": [
    "df['date'].iloc[0]"
   ]
  },
  {
   "cell_type": "code",
   "execution_count": 8,
   "metadata": {},
   "outputs": [
    {
     "data": {
      "text/plain": [
       "'{\"browser\": \"Chrome\", \"browserVersion\": \"not available in demo dataset\", \"browserSize\": \"not available in demo dataset\", \"operatingSystem\": \"Windows\", \"operatingSystemVersion\": \"not available in demo dataset\", \"isMobile\": false, \"mobileDeviceBranding\": \"not available in demo dataset\", \"mobileDeviceModel\": \"not available in demo dataset\", \"mobileInputSelector\": \"not available in demo dataset\", \"mobileDeviceInfo\": \"not available in demo dataset\", \"mobileDeviceMarketingName\": \"not available in demo dataset\", \"flashVersion\": \"not available in demo dataset\", \"language\": \"not available in demo dataset\", \"screenColors\": \"not available in demo dataset\", \"screenResolution\": \"not available in demo dataset\", \"deviceCategory\": \"desktop\"}'"
      ]
     },
     "execution_count": 8,
     "metadata": {},
     "output_type": "execute_result"
    }
   ],
   "source": [
    "df.device.iloc[0]"
   ]
  },
  {
   "cell_type": "code",
   "execution_count": 9,
   "metadata": {},
   "outputs": [
    {
     "data": {
      "text/plain": [
       "Chrome                      3469\n",
       "Safari                       974\n",
       "Firefox                      191\n",
       "Internet Explorer            117\n",
       "Edge                          55\n",
       "Android Webview               46\n",
       "Opera Mini                    34\n",
       "Safari (in-app)               29\n",
       "Opera                         25\n",
       "UC Browser                    20\n",
       "YaBrowser                     17\n",
       "Amazon Silk                    5\n",
       "Coc Coc                        4\n",
       "Mozilla Compatible Agent       4\n",
       "Android Browser                4\n",
       "Maxthon                        2\n",
       "BlackBerry                     2\n",
       "LYF_LS_4002_11                 1\n",
       "MRCHROME                       1\n",
       "Name: device, dtype: int64"
      ]
     },
     "execution_count": 9,
     "metadata": {},
     "output_type": "execute_result"
    }
   ],
   "source": [
    "df['device'] = df['device'].str.extract('{\"browser\": \"(.+?)\"', expand=True)\n",
    "# df['device'] = df['device'].str.replace(string_original, nueva)\n",
    "\n",
    "# eliminar los de menos de 100 o los de menos de 1000 (analizar a los de menos de mil, si siguen patronos muy similares entre ellos, mantenerlos, si no se pueden eliminar)\n",
    "df['device'].value_counts()"
   ]
  },
  {
   "cell_type": "code",
   "execution_count": 10,
   "metadata": {},
   "outputs": [],
   "source": [
    "# agrupar por visitanteID y ver qué pasa\n",
    "# df['fullVisitorId']"
   ]
  },
  {
   "cell_type": "code",
   "execution_count": 11,
   "metadata": {},
   "outputs": [
    {
     "data": {
      "text/plain": [
       "'{\"continent\": \"Americas\", \"subContinent\": \"Northern America\", \"country\": \"United States\", \"region\": \"not available in demo dataset\", \"metro\": \"not available in demo dataset\", \"city\": \"not available in demo dataset\", \"cityId\": \"not available in demo dataset\", \"networkDomain\": \"(not set)\", \"latitude\": \"not available in demo dataset\", \"longitude\": \"not available in demo dataset\", \"networkLocation\": \"not available in demo dataset\"}'"
      ]
     },
     "execution_count": 11,
     "metadata": {},
     "output_type": "execute_result"
    }
   ],
   "source": [
    "df.geoNetwork.iloc[0]"
   ]
  },
  {
   "cell_type": "code",
   "execution_count": 12,
   "metadata": {},
   "outputs": [],
   "source": [
    "# df['continent'] = df['geoNetwork'].str.extract('{\"continent\": \"(.+?)\"', expand=True)\n",
    "df['subContinent'] = df['geoNetwork'].str.extract('{\"subContinent\": \"(.+?)\"', expand=True)\n",
    "df['country'] = df['geoNetwork'].str.extract('{\"country\": \"(.+?)\"', expand=True)\n",
    "df = df.drop(['geoNetwork'], axis=1)"
   ]
  },
  {
   "cell_type": "code",
   "execution_count": 13,
   "metadata": {},
   "outputs": [],
   "source": [
    "# sessionId?"
   ]
  },
  {
   "cell_type": "code",
   "execution_count": 14,
   "metadata": {},
   "outputs": [
    {
     "name": "stdout",
     "output_type": "stream",
     "text": [
      "Not Socially Engaged    5000\n",
      "Name: socialEngagementType, dtype: int64\n"
     ]
    }
   ],
   "source": [
    "print(df['socialEngagementType'].value_counts())\n",
    "df = df.drop(['socialEngagementType'], axis=1)"
   ]
  },
  {
   "cell_type": "code",
   "execution_count": 15,
   "metadata": {},
   "outputs": [
    {
     "name": "stdout",
     "output_type": "stream",
     "text": [
      "{\"visits\": \"1\", \"hits\": \"6\", \"pageviews\": \"6\", \"newVisits\": \"1\"}\n",
      "{\"visits\": \"1\", \"hits\": \"1\", \"pageviews\": \"1\", \"bounces\": \"1\", \"newVisits\": \"1\"}\n",
      "{\"visits\": \"1\", \"hits\": \"1\", \"pageviews\": \"1\", \"bounces\": \"1\", \"newVisits\": \"1\"}\n",
      "{\"visits\": \"1\", \"hits\": \"3\", \"pageviews\": \"3\"}\n",
      "{\"visits\": \"1\", \"hits\": \"1\", \"pageviews\": \"1\", \"bounces\": \"1\", \"newVisits\": \"1\"}\n"
     ]
    }
   ],
   "source": [
    "# anything useful here?\n",
    "print(df.totals.iloc[2141])\n",
    "print(df.totals.iloc[243])\n",
    "print(df.totals.iloc[714])\n",
    "print(df.totals.iloc[2175])\n",
    "print(df.totals.iloc[114])"
   ]
  },
  {
   "cell_type": "code",
   "execution_count": 16,
   "metadata": {},
   "outputs": [],
   "source": [
    "df['trafficSource'] = df['trafficSource'].str.extract('{\"campaign\": \"(.+?)\"', expand=True)"
   ]
  },
  {
   "cell_type": "code",
   "execution_count": 17,
   "metadata": {},
   "outputs": [
    {
     "data": {
      "text/plain": [
       "(not set)                             2881\n",
       "Data Share Promo                        93\n",
       "AW - Dynamic Search Ads Whole Site      73\n",
       "AW - Accessories                        41\n",
       "test-liyuhz                              5\n",
       "Name: trafficSource, dtype: int64"
      ]
     },
     "execution_count": 17,
     "metadata": {},
     "output_type": "execute_result"
    }
   ],
   "source": [
    "df['trafficSource'].value_counts()"
   ]
  },
  {
   "cell_type": "code",
   "execution_count": 18,
   "metadata": {},
   "outputs": [],
   "source": [
    "# visitId, visitNumber, visitStartTime?"
   ]
  }
 ],
 "metadata": {
  "kernelspec": {
   "display_name": "Python 3",
   "language": "python",
   "name": "python3"
  },
  "language_info": {
   "codemirror_mode": {
    "name": "ipython",
    "version": 3
   },
   "file_extension": ".py",
   "mimetype": "text/x-python",
   "name": "python",
   "nbconvert_exporter": "python",
   "pygments_lexer": "ipython3",
   "version": "3.6.4"
  }
 },
 "nbformat": 4,
 "nbformat_minor": 2
}
