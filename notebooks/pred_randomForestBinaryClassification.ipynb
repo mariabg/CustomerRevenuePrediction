{
 "cells": [
  {
   "cell_type": "markdown",
   "metadata": {},
   "source": [
    "### Funciones y librerías usadas en el Notebook"
   ]
  },
  {
   "cell_type": "code",
   "execution_count": 1,
   "metadata": {},
   "outputs": [],
   "source": [
    "import pandas as pd\n",
    "import numpy as np\n",
    "from scipy import stats\n",
    "from sklearn import preprocessing\n",
    "from sklearn.metrics import classification_report, confusion_matrix\n",
    "from sklearn.ensemble import RandomForestClassifier\n",
    "\n",
    "pd.set_option('display.max_columns', 30)"
   ]
  },
  {
   "cell_type": "code",
   "execution_count": 2,
   "metadata": {},
   "outputs": [],
   "source": [
    "# Call example:\n",
    "  # extract_date_info(df, 'month')\n",
    "def extract_date_info(df, parametro):\n",
    "    if parametro == \"date\":\n",
    "        df[\"date\"] = [d.date() for d in df[\"visitStartTime\"]]\n",
    "    if parametro == \"time\":\n",
    "        df[\"time\"] = [d.time() for d in df[\"visitStartTime\"]]\n",
    "    if parametro == \"day\":\n",
    "        df[\"day\"] = df[\"visitStartTime\"].dt.day\n",
    "    if parametro == \"month\":\n",
    "        df['month'] = df[\"visitStartTime\"].dt.month\n",
    "    if parametro == \"weekday\":\n",
    "        df['weekday'] = df[\"visitStartTime\"].dt.weekday\n",
    "    if parametro == \"weekofyear\": \n",
    "        df['weekofyear'] = df[\"visitStartTime\"].dt.weekofyear"
   ]
  },
  {
   "cell_type": "code",
   "execution_count": 3,
   "metadata": {},
   "outputs": [
    {
     "name": "stderr",
     "output_type": "stream",
     "text": [
      "/anaconda3/lib/python3.6/site-packages/numpy/lib/arraysetops.py:466: FutureWarning: elementwise comparison failed; returning scalar instead, but in the future will perform elementwise comparison\n",
      "  mask |= (ar1 == a)\n"
     ]
    }
   ],
   "source": [
    "df = pd.read_csv('../data/train_v2_cleaned.csv', index_col=0, parse_dates=['visitStartTime'], dtype={'fullVisitorId': 'str'})"
   ]
  },
  {
   "cell_type": "code",
   "execution_count": 4,
   "metadata": {},
   "outputs": [
    {
     "data": {
      "text/html": [
       "<div>\n",
       "<style scoped>\n",
       "    .dataframe tbody tr th:only-of-type {\n",
       "        vertical-align: middle;\n",
       "    }\n",
       "\n",
       "    .dataframe tbody tr th {\n",
       "        vertical-align: top;\n",
       "    }\n",
       "\n",
       "    .dataframe thead th {\n",
       "        text-align: right;\n",
       "    }\n",
       "</style>\n",
       "<table border=\"1\" class=\"dataframe\">\n",
       "  <thead>\n",
       "    <tr style=\"text-align: right;\">\n",
       "      <th></th>\n",
       "      <th>channelGrouping</th>\n",
       "      <th>fullVisitorId</th>\n",
       "      <th>visitNumber</th>\n",
       "      <th>visitStartTime</th>\n",
       "      <th>browser</th>\n",
       "      <th>deviceCategory</th>\n",
       "      <th>operatingSystem</th>\n",
       "      <th>city</th>\n",
       "      <th>country</th>\n",
       "      <th>region</th>\n",
       "      <th>subContinent</th>\n",
       "      <th>adContent</th>\n",
       "      <th>adPosition</th>\n",
       "      <th>campaign</th>\n",
       "      <th>isTrueDirect</th>\n",
       "      <th>medium</th>\n",
       "      <th>source</th>\n",
       "      <th>timeOnSite</th>\n",
       "      <th>totalTransactionRevenue</th>\n",
       "      <th>transactions</th>\n",
       "      <th>prevPurchases</th>\n",
       "    </tr>\n",
       "  </thead>\n",
       "  <tbody>\n",
       "    <tr>\n",
       "      <th>0</th>\n",
       "      <td>Direct</td>\n",
       "      <td>0423043652415339154</td>\n",
       "      <td>3.0</td>\n",
       "      <td>2016-08-01 07:00:12</td>\n",
       "      <td>Safari</td>\n",
       "      <td>mobile</td>\n",
       "      <td>iOS</td>\n",
       "      <td>not available in demo dataset</td>\n",
       "      <td>United States</td>\n",
       "      <td>United States</td>\n",
       "      <td>Northern America</td>\n",
       "      <td>NaN</td>\n",
       "      <td>NaN</td>\n",
       "      <td>(not set)</td>\n",
       "      <td>True</td>\n",
       "      <td>(none)</td>\n",
       "      <td>(direct)</td>\n",
       "      <td>NaN</td>\n",
       "      <td>0.0</td>\n",
       "      <td>NaN</td>\n",
       "      <td>0.0</td>\n",
       "    </tr>\n",
       "    <tr>\n",
       "      <th>1</th>\n",
       "      <td>Social</td>\n",
       "      <td>8294721032567046680</td>\n",
       "      <td>1.0</td>\n",
       "      <td>2016-08-01 07:04:26</td>\n",
       "      <td>Chrome</td>\n",
       "      <td>desktop</td>\n",
       "      <td>Windows</td>\n",
       "      <td>not available in demo dataset</td>\n",
       "      <td>Thailand</td>\n",
       "      <td>Thailand</td>\n",
       "      <td>Southeast Asia</td>\n",
       "      <td>NaN</td>\n",
       "      <td>NaN</td>\n",
       "      <td>(not set)</td>\n",
       "      <td>NaN</td>\n",
       "      <td>referral</td>\n",
       "      <td>youtube.com</td>\n",
       "      <td>NaN</td>\n",
       "      <td>0.0</td>\n",
       "      <td>NaN</td>\n",
       "      <td>0.0</td>\n",
       "    </tr>\n",
       "    <tr>\n",
       "      <th>2</th>\n",
       "      <td>Organic Search</td>\n",
       "      <td>7718623669497357235</td>\n",
       "      <td>1.0</td>\n",
       "      <td>2016-08-01 07:04:41</td>\n",
       "      <td>Amazon Silk</td>\n",
       "      <td>tablet</td>\n",
       "      <td>Android</td>\n",
       "      <td>not available in demo dataset</td>\n",
       "      <td>United States</td>\n",
       "      <td>United States</td>\n",
       "      <td>Northern America</td>\n",
       "      <td>NaN</td>\n",
       "      <td>NaN</td>\n",
       "      <td>(not set)</td>\n",
       "      <td>NaN</td>\n",
       "      <td>organic</td>\n",
       "      <td>google</td>\n",
       "      <td>40.0</td>\n",
       "      <td>0.0</td>\n",
       "      <td>NaN</td>\n",
       "      <td>0.0</td>\n",
       "    </tr>\n",
       "    <tr>\n",
       "      <th>3</th>\n",
       "      <td>Organic Search</td>\n",
       "      <td>4798058133221713505</td>\n",
       "      <td>1.0</td>\n",
       "      <td>2016-08-01 07:06:01</td>\n",
       "      <td>Chrome</td>\n",
       "      <td>desktop</td>\n",
       "      <td>Windows</td>\n",
       "      <td>not available in demo dataset</td>\n",
       "      <td>Canada</td>\n",
       "      <td>Canada</td>\n",
       "      <td>Northern America</td>\n",
       "      <td>NaN</td>\n",
       "      <td>NaN</td>\n",
       "      <td>(not set)</td>\n",
       "      <td>NaN</td>\n",
       "      <td>organic</td>\n",
       "      <td>google</td>\n",
       "      <td>89.0</td>\n",
       "      <td>0.0</td>\n",
       "      <td>NaN</td>\n",
       "      <td>0.0</td>\n",
       "    </tr>\n",
       "    <tr>\n",
       "      <th>4</th>\n",
       "      <td>Direct</td>\n",
       "      <td>5076747981380011349</td>\n",
       "      <td>1.0</td>\n",
       "      <td>2016-08-01 07:06:10</td>\n",
       "      <td>Chrome</td>\n",
       "      <td>desktop</td>\n",
       "      <td>Windows</td>\n",
       "      <td>Quezon City</td>\n",
       "      <td>Philippines</td>\n",
       "      <td>Metro Manila</td>\n",
       "      <td>Southeast Asia</td>\n",
       "      <td>NaN</td>\n",
       "      <td>NaN</td>\n",
       "      <td>(not set)</td>\n",
       "      <td>True</td>\n",
       "      <td>(none)</td>\n",
       "      <td>(direct)</td>\n",
       "      <td>NaN</td>\n",
       "      <td>0.0</td>\n",
       "      <td>NaN</td>\n",
       "      <td>0.0</td>\n",
       "    </tr>\n",
       "  </tbody>\n",
       "</table>\n",
       "</div>"
      ],
      "text/plain": [
       "  channelGrouping        fullVisitorId  visitNumber      visitStartTime  \\\n",
       "0          Direct  0423043652415339154          3.0 2016-08-01 07:00:12   \n",
       "1          Social  8294721032567046680          1.0 2016-08-01 07:04:26   \n",
       "2  Organic Search  7718623669497357235          1.0 2016-08-01 07:04:41   \n",
       "3  Organic Search  4798058133221713505          1.0 2016-08-01 07:06:01   \n",
       "4          Direct  5076747981380011349          1.0 2016-08-01 07:06:10   \n",
       "\n",
       "       browser deviceCategory operatingSystem                           city  \\\n",
       "0       Safari         mobile             iOS  not available in demo dataset   \n",
       "1       Chrome        desktop         Windows  not available in demo dataset   \n",
       "2  Amazon Silk         tablet         Android  not available in demo dataset   \n",
       "3       Chrome        desktop         Windows  not available in demo dataset   \n",
       "4       Chrome        desktop         Windows                    Quezon City   \n",
       "\n",
       "         country         region      subContinent adContent adPosition  \\\n",
       "0  United States  United States  Northern America       NaN        NaN   \n",
       "1       Thailand       Thailand    Southeast Asia       NaN        NaN   \n",
       "2  United States  United States  Northern America       NaN        NaN   \n",
       "3         Canada         Canada  Northern America       NaN        NaN   \n",
       "4    Philippines   Metro Manila    Southeast Asia       NaN        NaN   \n",
       "\n",
       "    campaign isTrueDirect    medium       source  timeOnSite  \\\n",
       "0  (not set)         True    (none)     (direct)         NaN   \n",
       "1  (not set)          NaN  referral  youtube.com         NaN   \n",
       "2  (not set)          NaN   organic       google        40.0   \n",
       "3  (not set)          NaN   organic       google        89.0   \n",
       "4  (not set)         True    (none)     (direct)         NaN   \n",
       "\n",
       "   totalTransactionRevenue  transactions  prevPurchases  \n",
       "0                      0.0           NaN            0.0  \n",
       "1                      0.0           NaN            0.0  \n",
       "2                      0.0           NaN            0.0  \n",
       "3                      0.0           NaN            0.0  \n",
       "4                      0.0           NaN            0.0  "
      ]
     },
     "execution_count": 4,
     "metadata": {},
     "output_type": "execute_result"
    }
   ],
   "source": [
    "df.head()"
   ]
  },
  {
   "cell_type": "code",
   "execution_count": 5,
   "metadata": {},
   "outputs": [
    {
     "data": {
      "text/plain": [
       "channelGrouping                    object\n",
       "fullVisitorId                      object\n",
       "visitNumber                       float64\n",
       "visitStartTime             datetime64[ns]\n",
       "browser                            object\n",
       "deviceCategory                     object\n",
       "operatingSystem                    object\n",
       "city                               object\n",
       "country                            object\n",
       "region                             object\n",
       "subContinent                       object\n",
       "adContent                          object\n",
       "adPosition                         object\n",
       "campaign                           object\n",
       "isTrueDirect                       object\n",
       "medium                             object\n",
       "source                             object\n",
       "timeOnSite                        float64\n",
       "totalTransactionRevenue           float64\n",
       "transactions                      float64\n",
       "prevPurchases                     float64\n",
       "dtype: object"
      ]
     },
     "execution_count": 5,
     "metadata": {},
     "output_type": "execute_result"
    }
   ],
   "source": [
    "df.dtypes"
   ]
  },
  {
   "cell_type": "code",
   "execution_count": 6,
   "metadata": {},
   "outputs": [],
   "source": [
    "train_data = df.copy()\n",
    "cat_cols = [\"channelGrouping\", \"browser\", \"deviceCategory\",\n",
    "            \"operatingSystem\", \"city\", \"country\", \"region\",\n",
    "            \"subContinent\", 'isTrueDirect', 'medium',\n",
    "            \"source\", \"adContent\", \"adPosition\", \"campaign\"]\n",
    "\n",
    "labelencoder = preprocessing.LabelEncoder()\n",
    "for c in cat_cols:\n",
    "    train_data[c] = labelencoder.fit_transform(train_data[c].astype(str))\n",
    "    labels = train_data[c]\n",
    "    labelencoder.fit(labels)\n",
    "    labels = labelencoder.transform(labels)\n",
    "    \n",
    "extract_date_info(train_data, 'month')\n",
    "extract_date_info(train_data, 'weekday')\n",
    "extract_date_info(train_data, 'weekofyear')\n",
    "train_data.drop(['visitStartTime'], axis=1, inplace=True)"
   ]
  },
  {
   "cell_type": "code",
   "execution_count": 7,
   "metadata": {},
   "outputs": [],
   "source": [
    "X = train_data.drop(['totalTransactionRevenue', 'timeOnSite', 'transactions'], axis=1)\n",
    "y = train_data['totalTransactionRevenue']"
   ]
  },
  {
   "cell_type": "markdown",
   "metadata": {},
   "source": [
    "#### Clasificación binaria\n",
    "En este caso se fuerza a un balanceo de los datos:\n",
    "    - Todos los datos de compras con incluídos\n",
    "    - Se incluyen tantas no compras como compras/2\n",
    "\n",
    "La proporción de compras y no compras es, por tanto, 66% y 33% reespectivamente. Este planteamiento presentó mejores resultados que hacer _cost sentitive learning_ desde el clasificador."
   ]
  },
  {
   "cell_type": "code",
   "execution_count": 8,
   "metadata": {},
   "outputs": [],
   "source": [
    "train_cero = pd.DataFrame()\n",
    "train_aux = pd.DataFrame()\n",
    "train_merge = pd.DataFrame()\n",
    "\n",
    "train_cero = train_data[train_data.totalTransactionRevenue == 0]\n",
    "train_aux = train_data[train_data.totalTransactionRevenue != 0]\n",
    "\n",
    "train_merge = train_merge.append(train_cero.sample(int(train_aux.shape[0]/2)))\n",
    "train_merge = train_merge.append(train_aux)"
   ]
  },
  {
   "cell_type": "code",
   "execution_count": 9,
   "metadata": {},
   "outputs": [],
   "source": [
    "X = train_merge.drop(['totalTransactionRevenue', 'timeOnSite', 'transactions', 'fullVisitorId'], axis=1)\n",
    "y = train_merge['totalTransactionRevenue']\n",
    "y_binary = y.apply(lambda x: x if x == 0 else 1)"
   ]
  },
  {
   "cell_type": "code",
   "execution_count": 10,
   "metadata": {},
   "outputs": [],
   "source": [
    "train_x = X\n",
    "train_y = y_binary"
   ]
  },
  {
   "cell_type": "code",
   "execution_count": 11,
   "metadata": {},
   "outputs": [],
   "source": [
    "clf = RandomForestClassifier(n_estimators=200, max_depth=40,\n",
    "                            random_state=1)\n",
    "# class_weight = 'balanced' or {0:.3, 1:.7}"
   ]
  },
  {
   "cell_type": "code",
   "execution_count": 12,
   "metadata": {},
   "outputs": [
    {
     "data": {
      "text/plain": [
       "RandomForestClassifier(bootstrap=True, class_weight=None, criterion='gini',\n",
       "            max_depth=40, max_features='auto', max_leaf_nodes=None,\n",
       "            min_impurity_decrease=0.0, min_impurity_split=None,\n",
       "            min_samples_leaf=1, min_samples_split=2,\n",
       "            min_weight_fraction_leaf=0.0, n_estimators=200, n_jobs=1,\n",
       "            oob_score=False, random_state=1, verbose=0, warm_start=False)"
      ]
     },
     "execution_count": 12,
     "metadata": {},
     "output_type": "execute_result"
    }
   ],
   "source": [
    "clf.fit(train_x, train_y)"
   ]
  },
  {
   "cell_type": "code",
   "execution_count": 13,
   "metadata": {},
   "outputs": [
    {
     "name": "stdout",
     "output_type": "stream",
     "text": [
      "country :  0.18476730223122764\n",
      "weekofyear :  0.11957611076047389\n",
      "subContinent :  0.11304337651534699\n",
      "weekday :  0.08025933792675781\n",
      "visitNumber :  0.07281263831083913\n",
      "source :  0.06285709959400175\n",
      "city :  0.05369019747732076\n",
      "month :  0.05087404363736084\n",
      "operatingSystem :  0.04506252810033068\n",
      "channelGrouping :  0.04087876761898689\n",
      "region :  0.03949812901416359\n",
      "medium :  0.03697432322715898\n",
      "deviceCategory :  0.03552276495078619\n",
      "browser :  0.022499535730884514\n",
      "isTrueDirect :  0.015108948952337579\n",
      "prevPurchases :  0.010777630678963954\n",
      "adPosition :  0.007369013115752363\n",
      "adContent :  0.004388370576413139\n",
      "campaign :  0.0040398815808933225\n"
     ]
    }
   ],
   "source": [
    "featImportance, featCols = (list(t) for t in zip(*sorted(zip(clf.feature_importances_, list(train_x)), reverse=True)))\n",
    "for i in range(len(featCols)):\n",
    "    print(featCols[i], \": \", featImportance[i])"
   ]
  },
  {
   "cell_type": "markdown",
   "metadata": {},
   "source": [
    "#### Testing with test.csv"
   ]
  },
  {
   "cell_type": "code",
   "execution_count": 14,
   "metadata": {},
   "outputs": [],
   "source": [
    "test = pd.read_csv('../data/test_v2_cleaned.csv', index_col=0, parse_dates=['visitStartTime'], dtype={'fullVisitorId': 'str'})"
   ]
  },
  {
   "cell_type": "code",
   "execution_count": 15,
   "metadata": {},
   "outputs": [],
   "source": [
    "test_data = test.copy()\n",
    "cat_cols = [\"channelGrouping\", \"browser\", \"deviceCategory\",\n",
    "            \"operatingSystem\", \"city\", \"country\", \"region\",\n",
    "            \"subContinent\", 'isTrueDirect', 'medium',\n",
    "            \"source\", \"adContent\", \"adPosition\", \"campaign\"]\n",
    "\n",
    "labelencoder = preprocessing.LabelEncoder()\n",
    "for c in cat_cols:\n",
    "    test_data[c] = labelencoder.fit_transform(test_data[c].astype(str))\n",
    "    labels = test_data[c]\n",
    "    labelencoder.fit(labels)\n",
    "    labels = labelencoder.transform(labels)\n",
    "    \n",
    "extract_date_info(test_data, 'month')\n",
    "extract_date_info(test_data, 'weekday')\n",
    "extract_date_info(test_data, 'weekofyear')\n",
    "test_data.drop('visitStartTime', axis=1, inplace=True)"
   ]
  },
  {
   "cell_type": "code",
   "execution_count": 16,
   "metadata": {},
   "outputs": [],
   "source": [
    "X_test = test_data.drop(['totalTransactionRevenue', 'timeOnSite', 'transactions', 'fullVisitorId'], axis=1)\n",
    "y_test = test_data['totalTransactionRevenue']\n",
    "y_test_binary = y_test.apply(lambda x: x if x == 0 else 1)"
   ]
  },
  {
   "cell_type": "code",
   "execution_count": 17,
   "metadata": {},
   "outputs": [
    {
     "name": "stdout",
     "output_type": "stream",
     "text": [
      "(401589, 19)\n",
      "(401589,)\n",
      "(401589,)\n"
     ]
    }
   ],
   "source": [
    "print(X_test.shape)\n",
    "print(y_test.shape)\n",
    "print(y_test_binary.shape)"
   ]
  },
  {
   "cell_type": "code",
   "execution_count": 18,
   "metadata": {},
   "outputs": [],
   "source": [
    "y_pred_test = clf.predict(X_test)"
   ]
  },
  {
   "cell_type": "code",
   "execution_count": 19,
   "metadata": {},
   "outputs": [
    {
     "name": "stdout",
     "output_type": "stream",
     "text": [
      "             precision    recall  f1-score   support\n",
      "\n",
      "        0.0       0.99      0.90      0.95    396995\n",
      "        1.0       0.06      0.51      0.10      4594\n",
      "\n",
      "avg / total       0.98      0.90      0.94    401589\n",
      "\n"
     ]
    }
   ],
   "source": [
    "print(classification_report(y_test_binary, y_pred_test))"
   ]
  },
  {
   "cell_type": "code",
   "execution_count": 20,
   "metadata": {},
   "outputs": [
    {
     "name": "stdout",
     "output_type": "stream",
     "text": [
      "[[357731  39264]\n",
      " [  2246   2348]]\n"
     ]
    }
   ],
   "source": [
    "print(confusion_matrix(y_test_binary, y_pred_test))"
   ]
  },
  {
   "cell_type": "code",
   "execution_count": 21,
   "metadata": {},
   "outputs": [
    {
     "name": "stdout",
     "output_type": "stream",
     "text": [
      "[0. 1.] [359977  41612]\n",
      "0.1036183760013347\n"
     ]
    }
   ],
   "source": [
    "# porcentaje de usuarios que compran según nuestra predicción\n",
    "unique, counts = np.unique(np.array(y_pred_test), return_counts=True)\n",
    "print(unique, counts)\n",
    "print(counts[1]/y_pred_test.shape[0])"
   ]
  }
 ],
 "metadata": {
  "kernelspec": {
   "display_name": "Python 3",
   "language": "python",
   "name": "python3"
  },
  "language_info": {
   "codemirror_mode": {
    "name": "ipython",
    "version": 3
   },
   "file_extension": ".py",
   "mimetype": "text/x-python",
   "name": "python",
   "nbconvert_exporter": "python",
   "pygments_lexer": "ipython3",
   "version": "3.6.4"
  }
 },
 "nbformat": 4,
 "nbformat_minor": 2
}
