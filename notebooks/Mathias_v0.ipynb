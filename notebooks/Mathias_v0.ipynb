{
 "cells": [
  {
   "cell_type": "code",
   "execution_count": 56,
   "metadata": {},
   "outputs": [],
   "source": [
    "import pandas as pd\n",
    "import numpy as np\n",
    "import json\n",
    "from pandas.io.json import json_normalize\n",
    "\n",
    "# loading the csv file into pandas dataframe\n",
    "df_device = pd.read_csv(\"train1.csv\")\n",
    "\n",
    "# our \"device\" column is in JASON format, so we need to convert the file into multiple columns. \n",
    "def load_df(csv_path='train1.csv', nrows=None):\n",
    "    JSON_COLUMNS = ['device'] \n",
    "\n",
    "    df = pd.read_csv(csv_path,\n",
    "                     converters={column: json.loads for column in JSON_COLUMNS},\n",
    "                     nrows=nrows)\n",
    "\n",
    "    for column in JSON_COLUMNS:\n",
    "        column_as_df = json_normalize(df[column])\n",
    "        column_as_df.columns = [f\"{column}.{subcolumn}\" for subcolumn in column_as_df.columns]\n",
    "        df = df.drop(column, axis=1).merge(column_as_df, right_index=True, left_index=True)\n",
    "    \n",
    "    return df\n",
    "\n",
    "#df_trainDevice will have the device columns deserialized\n",
    "df_trainDevice = load_df()\n",
    "\n"
   ]
  },
  {
   "cell_type": "code",
   "execution_count": 57,
   "metadata": {},
   "outputs": [
    {
     "data": {
      "text/plain": [
       "count      49999\n",
       "unique        27\n",
       "top       Chrome\n",
       "freq       34033\n",
       "Name: device.browser, dtype: object"
      ]
     },
     "execution_count": 57,
     "metadata": {},
     "output_type": "execute_result"
    }
   ],
   "source": [
    "# this way we can prove that some columns aren´t useful in any way. \n",
    "df_trainDevice[\"device.browser\"].describe()"
   ]
  },
  {
   "cell_type": "code",
   "execution_count": 58,
   "metadata": {},
   "outputs": [
    {
     "data": {
      "text/plain": [
       "count       49999\n",
       "unique          3\n",
       "top       desktop\n",
       "freq        36585\n",
       "Name: device.deviceCategory, dtype: object"
      ]
     },
     "execution_count": 58,
     "metadata": {},
     "output_type": "execute_result"
    }
   ],
   "source": [
    "df_trainDevice[\"device.deviceCategory\"].describe()"
   ]
  },
  {
   "cell_type": "code",
   "execution_count": 59,
   "metadata": {},
   "outputs": [
    {
     "data": {
      "text/plain": [
       "count     49999\n",
       "unique        2\n",
       "top       False\n",
       "freq      36590\n",
       "Name: device.isMobile, dtype: object"
      ]
     },
     "execution_count": 59,
     "metadata": {},
     "output_type": "execute_result"
    }
   ],
   "source": [
    "df_trainDevice[\"device.isMobile\"].describe()"
   ]
  },
  {
   "cell_type": "code",
   "execution_count": 60,
   "metadata": {},
   "outputs": [
    {
     "data": {
      "text/plain": [
       "count       49999\n",
       "unique         14\n",
       "top       Windows\n",
       "freq        18992\n",
       "Name: device.operatingSystem, dtype: object"
      ]
     },
     "execution_count": 60,
     "metadata": {},
     "output_type": "execute_result"
    }
   ],
   "source": [
    "df_trainDevice[\"device.operatingSystem\"].describe()"
   ]
  },
  {
   "cell_type": "code",
   "execution_count": 61,
   "metadata": {},
   "outputs": [
    {
     "data": {
      "text/plain": [
       "count                             49999\n",
       "unique                                1\n",
       "top       not available in demo dataset\n",
       "freq                              49999\n",
       "Name: device.screenResolution, dtype: object"
      ]
     },
     "execution_count": 61,
     "metadata": {},
     "output_type": "execute_result"
    }
   ],
   "source": [
    "'''the rest of the colums have 1 unique value which means they are all repeated as \"not availabe in demo dataset\"\n",
    "'''\n",
    "df_trainDevice[\"device.browserSize\"].describe()\n",
    "df_trainDevice[\"device.browserVersion\"].describe()\n",
    "df_trainDevice[\"device.deviceCategory\"].describe()\n",
    "df_trainDevice[\"device.flashVersion\"].describe()\n",
    "df_trainDevice[\"device.isMobile\"].describe()\n",
    "df_trainDevice[\"device.language\"].describe()\n",
    "df_trainDevice[\"device.mobileDeviceBranding\"].describe()\n",
    "df_trainDevice[\"device.mobileDeviceInfo\"].describe()\n",
    "df_trainDevice[\"device.mobileDeviceMarketingName\"].describe()\n",
    "df_trainDevice[\"device.mobileDeviceModel\"].describe()\n",
    "df_trainDevice[\"device.mobileInputSelector\"].describe()\n",
    "df_trainDevice[\"device.operatingSystem\"].describe()\n",
    "df_trainDevice[\"device.operatingSystemVersion\"].describe()\n",
    "df_trainDevice[\"device.screenColors\"].describe()\n",
    "df_trainDevice[\"device.screenResolution\"].describe()"
   ]
  },
  {
   "cell_type": "code",
   "execution_count": 62,
   "metadata": {},
   "outputs": [],
   "source": [
    "'''\n",
    "Since the previous 15 colums that came out of the JSON format aren´t useful for our analysis, we are removing\n",
    "this colums from our dataset. \n",
    "'''\n",
    "df_trainDevice = df_trainDevice.drop(columns=['device.browserSize', 'device.browserVersion',\n",
    "                      'device.flashVersion', 'device.language', \n",
    "                      'device.mobileDeviceBranding',\n",
    "                      'device.mobileDeviceInfo', 'device.mobileDeviceMarketingName',\n",
    "                      'device.mobileDeviceModel',\n",
    "                      'device.mobileInputSelector', 'device.operatingSystemVersion',\n",
    "                      'device.screenColors','device.screenResolution'])"
   ]
  },
  {
   "cell_type": "code",
   "execution_count": 63,
   "metadata": {},
   "outputs": [
    {
     "data": {
      "text/html": [
       "<div>\n",
       "<style scoped>\n",
       "    .dataframe tbody tr th:only-of-type {\n",
       "        vertical-align: middle;\n",
       "    }\n",
       "\n",
       "    .dataframe tbody tr th {\n",
       "        vertical-align: top;\n",
       "    }\n",
       "\n",
       "    .dataframe thead th {\n",
       "        text-align: right;\n",
       "    }\n",
       "</style>\n",
       "<table border=\"1\" class=\"dataframe\">\n",
       "  <thead>\n",
       "    <tr style=\"text-align: right;\">\n",
       "      <th></th>\n",
       "      <th>Unnamed: 0</th>\n",
       "      <th>channelGrouping</th>\n",
       "      <th>date</th>\n",
       "      <th>fullVisitorId</th>\n",
       "      <th>geoNetwork</th>\n",
       "      <th>sessionId</th>\n",
       "      <th>socialEngagementType</th>\n",
       "      <th>totals</th>\n",
       "      <th>trafficSource</th>\n",
       "      <th>visitId</th>\n",
       "      <th>visitNumber</th>\n",
       "      <th>visitStartTime</th>\n",
       "      <th>device.browser</th>\n",
       "      <th>device.deviceCategory</th>\n",
       "      <th>device.isMobile</th>\n",
       "      <th>device.operatingSystem</th>\n",
       "    </tr>\n",
       "  </thead>\n",
       "  <tbody>\n",
       "    <tr>\n",
       "      <th>0</th>\n",
       "      <td>0</td>\n",
       "      <td>Organic Search</td>\n",
       "      <td>20160902</td>\n",
       "      <td>1131660440785968503</td>\n",
       "      <td>{\"continent\": \"Asia\", \"subContinent\": \"Western...</td>\n",
       "      <td>1131660440785968503_1472830385</td>\n",
       "      <td>Not Socially Engaged</td>\n",
       "      <td>{\"visits\": \"1\", \"hits\": \"1\", \"pageviews\": \"1\",...</td>\n",
       "      <td>{\"campaign\": \"(not set)\", \"source\": \"google\", ...</td>\n",
       "      <td>1472830385</td>\n",
       "      <td>1</td>\n",
       "      <td>1472830385</td>\n",
       "      <td>Chrome</td>\n",
       "      <td>desktop</td>\n",
       "      <td>False</td>\n",
       "      <td>Windows</td>\n",
       "    </tr>\n",
       "  </tbody>\n",
       "</table>\n",
       "</div>"
      ],
      "text/plain": [
       "   Unnamed: 0 channelGrouping      date        fullVisitorId  \\\n",
       "0           0  Organic Search  20160902  1131660440785968503   \n",
       "\n",
       "                                          geoNetwork  \\\n",
       "0  {\"continent\": \"Asia\", \"subContinent\": \"Western...   \n",
       "\n",
       "                        sessionId  socialEngagementType  \\\n",
       "0  1131660440785968503_1472830385  Not Socially Engaged   \n",
       "\n",
       "                                              totals  \\\n",
       "0  {\"visits\": \"1\", \"hits\": \"1\", \"pageviews\": \"1\",...   \n",
       "\n",
       "                                       trafficSource     visitId  visitNumber  \\\n",
       "0  {\"campaign\": \"(not set)\", \"source\": \"google\", ...  1472830385            1   \n",
       "\n",
       "   visitStartTime device.browser device.deviceCategory  device.isMobile  \\\n",
       "0      1472830385         Chrome               desktop            False   \n",
       "\n",
       "  device.operatingSystem  \n",
       "0                Windows  "
      ]
     },
     "execution_count": 63,
     "metadata": {},
     "output_type": "execute_result"
    }
   ],
   "source": [
    "#Making sure our columns have been removed successfully. \n",
    "df_trainDevice.head(1)"
   ]
  },
  {
   "cell_type": "code",
   "execution_count": 64,
   "metadata": {},
   "outputs": [
    {
     "data": {
      "image/png": "[encoded data removed]",
      "text/plain": [
       "<Figure size 1080x1080 with 4 Axes>"
      ]
     },
     "metadata": {},
     "output_type": "display_data"
    }
   ],
   "source": [
    "import matplotlib.pyplot as plt\n",
    "\n",
    "#we show an hisogram of each column to see how data is scattered\n",
    "\n",
    "fig, axes = plt.subplots(2, 2, figsize=(15, 15))\n",
    "df_trainDevice[\"device.isMobile\"].value_counts().plot(kind=\"bar\", ax=axes[0][0], rot=0, \n",
    "                                                    legend=\"isMobile\", color='teal',fontsize=10.0)\n",
    "df_trainDevice[\"device.browser\"].value_counts().head(10).plot(kind=\"bar\", ax=axes[0][1], rot=40, \n",
    "                                                    legend=\"browser\",color='teal', fontsize=10.0)\n",
    "df_trainDevice[\"device.deviceCategory\"].value_counts().head(10).plot(kind=\"bar\", ax=axes[1][0], rot=0,\n",
    "                                                    legend=\"deviceCategory\", color='teal', fontsize=10.0)\n",
    "df_trainDevice[\"device.operatingSystem\"].value_counts().head(10).plot(kind=\"bar\", ax=axes[1][1], rot=80,\n",
    "                                                    legend=\"operatingSystem\", color='teal', fontsize=10.0)\n",
    "\n",
    "plt.show()"
   ]
  },
  {
   "cell_type": "code",
   "execution_count": 65,
   "metadata": {},
   "outputs": [],
   "source": [
    "'''\n",
    "We make our data from String to Int for later use. Our desicion is to keep data that its frequency is higher thank \n",
    "1k. Some of the data taht we saw in previous graph it has little relevance to our future analysis. So for now, we \n",
    "refer to this data as '0' meaning 'not important'\n",
    "'''\n",
    "isMobile = {False : 0, True : 1}\n",
    "browser = {'Chrome': 1, 'Safari': 2, 'Firefox': 3, 'Internet Explorer': 4, 'Edge': 5, \n",
    "           'Android Webview': 0,\n",
    "           'Safari (in-app)': 0, \n",
    "           'Opera Mini': 0, \n",
    "           'Opera': 0, \n",
    "           'UC Browser': 0}\n",
    "category = {'desktop': 1, 'mobile': 2, 'tablet': 3}\n",
    "operatingSystem = {'Windows': 1, 'Macintosh': 2, 'Android': 3, 'iOS': 4, 'Linux': 5, 'Chrome OS': 6,\n",
    "                   '(not set)': 0, \n",
    "                   'Windows Phone': 0, \n",
    "                   'BlackBerry': 0, \n",
    "                   'Samsung': 0}\n",
    "\n",
    "#we map our data to its corresponding value\n",
    "df_trainDevice[\"device.isMobile\"] = df_trainDevice[\"device.isMobile\"].map(isMobile)\n",
    "df_trainDevice[\"device.browser\"] = df_trainDevice[\"device.browser\"].map(browser)\n",
    "df_trainDevice[\"device.deviceCategory\"] = df_trainDevice[\"device.deviceCategory\"].map(category)\n",
    "df_trainDevice[\"device.operatingSystem\"] = df_trainDevice[\"device.operatingSystem\"].map(operatingSystem)"
   ]
  },
  {
   "cell_type": "code",
   "execution_count": 66,
   "metadata": {},
   "outputs": [
    {
     "data": {
      "text/html": [
       "<div>\n",
       "<style scoped>\n",
       "    .dataframe tbody tr th:only-of-type {\n",
       "        vertical-align: middle;\n",
       "    }\n",
       "\n",
       "    .dataframe tbody tr th {\n",
       "        vertical-align: top;\n",
       "    }\n",
       "\n",
       "    .dataframe thead th {\n",
       "        text-align: right;\n",
       "    }\n",
       "</style>\n",
       "<table border=\"1\" class=\"dataframe\">\n",
       "  <thead>\n",
       "    <tr style=\"text-align: right;\">\n",
       "      <th></th>\n",
       "      <th>device.browser</th>\n",
       "      <th>device.deviceCategory</th>\n",
       "      <th>device.isMobile</th>\n",
       "      <th>device.operatingSystem</th>\n",
       "    </tr>\n",
       "  </thead>\n",
       "  <tbody>\n",
       "    <tr>\n",
       "      <th>0</th>\n",
       "      <td>1.0</td>\n",
       "      <td>1</td>\n",
       "      <td>0</td>\n",
       "      <td>1.0</td>\n",
       "    </tr>\n",
       "    <tr>\n",
       "      <th>1</th>\n",
       "      <td>3.0</td>\n",
       "      <td>1</td>\n",
       "      <td>0</td>\n",
       "      <td>2.0</td>\n",
       "    </tr>\n",
       "    <tr>\n",
       "      <th>2</th>\n",
       "      <td>1.0</td>\n",
       "      <td>1</td>\n",
       "      <td>0</td>\n",
       "      <td>1.0</td>\n",
       "    </tr>\n",
       "    <tr>\n",
       "      <th>3</th>\n",
       "      <td>0.0</td>\n",
       "      <td>1</td>\n",
       "      <td>0</td>\n",
       "      <td>5.0</td>\n",
       "    </tr>\n",
       "    <tr>\n",
       "      <th>4</th>\n",
       "      <td>1.0</td>\n",
       "      <td>2</td>\n",
       "      <td>1</td>\n",
       "      <td>3.0</td>\n",
       "    </tr>\n",
       "  </tbody>\n",
       "</table>\n",
       "</div>"
      ],
      "text/plain": [
       "   device.browser  device.deviceCategory  device.isMobile  \\\n",
       "0             1.0                      1                0   \n",
       "1             3.0                      1                0   \n",
       "2             1.0                      1                0   \n",
       "3             0.0                      1                0   \n",
       "4             1.0                      2                1   \n",
       "\n",
       "   device.operatingSystem  \n",
       "0                     1.0  \n",
       "1                     2.0  \n",
       "2                     1.0  \n",
       "3                     5.0  \n",
       "4                     3.0  "
      ]
     },
     "execution_count": 66,
     "metadata": {},
     "output_type": "execute_result"
    }
   ],
   "source": [
    "#Print a few lines to make sure our map function worked correcly to the corresponding column\n",
    "\n",
    "df_trainDevice.iloc[0:5, 12:16]"
   ]
  },
  {
   "cell_type": "code",
   "execution_count": 67,
   "metadata": {},
   "outputs": [
    {
     "data": {
      "image/png": "[encoded data removed]",
      "text/plain": [
       "<Figure size 432x288 with 2 Axes>"
      ]
     },
     "metadata": {},
     "output_type": "display_data"
    }
   ],
   "source": [
    "#Now that our variables are integers, we can see any possible correlations between them\n",
    "import numpy as np\n",
    "import seaborn as sns\n",
    "\n",
    "columns = ['device.browser', 'device.deviceCategory', 'device.isMobile', 'device.operatingSystem']\n",
    "\n",
    "cm = np.corrcoef(df_trainDevice[columns].values.T)\n",
    "sns.set(font_scale=1)\n",
    "mask = np.zeros_like(cm, dtype=np.bool)\n",
    "mask[np.triu_indices_from(mask)] = True\n",
    "\n",
    "hm = sns.heatmap(cm, cbar=True, annot=True,mask= mask, square=True, fmt='.2f', annot_kws={'size':10}, yticklabels=columns, xticklabels=columns )\n",
    "\n",
    "plt.show()"
   ]
  },
  {
   "cell_type": "code",
   "execution_count": 68,
   "metadata": {},
   "outputs": [],
   "source": [
    "# The attribute 'isMobile' it dows not add any value to our dataset through its True or False values. \n",
    "# so we proceed to remove this column and keep Device Category. \n",
    "df_trainDevice = df_trainDevice.drop(columns='device.isMobile')"
   ]
  },
  {
   "cell_type": "code",
   "execution_count": 75,
   "metadata": {},
   "outputs": [
    {
     "data": {
      "text/html": [
       "<div>\n",
       "<style scoped>\n",
       "    .dataframe tbody tr th:only-of-type {\n",
       "        vertical-align: middle;\n",
       "    }\n",
       "\n",
       "    .dataframe tbody tr th {\n",
       "        vertical-align: top;\n",
       "    }\n",
       "\n",
       "    .dataframe thead th {\n",
       "        text-align: right;\n",
       "    }\n",
       "</style>\n",
       "<table border=\"1\" class=\"dataframe\">\n",
       "  <thead>\n",
       "    <tr style=\"text-align: right;\">\n",
       "      <th></th>\n",
       "      <th>device.browser</th>\n",
       "      <th>device.deviceCategory</th>\n",
       "      <th>device.operatingSystem</th>\n",
       "    </tr>\n",
       "  </thead>\n",
       "  <tbody>\n",
       "    <tr>\n",
       "      <th>0</th>\n",
       "      <td>1.0</td>\n",
       "      <td>1</td>\n",
       "      <td>1.0</td>\n",
       "    </tr>\n",
       "    <tr>\n",
       "      <th>1</th>\n",
       "      <td>3.0</td>\n",
       "      <td>1</td>\n",
       "      <td>2.0</td>\n",
       "    </tr>\n",
       "    <tr>\n",
       "      <th>2</th>\n",
       "      <td>1.0</td>\n",
       "      <td>1</td>\n",
       "      <td>1.0</td>\n",
       "    </tr>\n",
       "    <tr>\n",
       "      <th>3</th>\n",
       "      <td>0.0</td>\n",
       "      <td>1</td>\n",
       "      <td>5.0</td>\n",
       "    </tr>\n",
       "    <tr>\n",
       "      <th>4</th>\n",
       "      <td>1.0</td>\n",
       "      <td>2</td>\n",
       "      <td>3.0</td>\n",
       "    </tr>\n",
       "    <tr>\n",
       "      <th>5</th>\n",
       "      <td>1.0</td>\n",
       "      <td>1</td>\n",
       "      <td>1.0</td>\n",
       "    </tr>\n",
       "    <tr>\n",
       "      <th>6</th>\n",
       "      <td>1.0</td>\n",
       "      <td>1</td>\n",
       "      <td>1.0</td>\n",
       "    </tr>\n",
       "    <tr>\n",
       "      <th>7</th>\n",
       "      <td>1.0</td>\n",
       "      <td>1</td>\n",
       "      <td>1.0</td>\n",
       "    </tr>\n",
       "    <tr>\n",
       "      <th>8</th>\n",
       "      <td>4.0</td>\n",
       "      <td>1</td>\n",
       "      <td>1.0</td>\n",
       "    </tr>\n",
       "    <tr>\n",
       "      <th>9</th>\n",
       "      <td>3.0</td>\n",
       "      <td>1</td>\n",
       "      <td>1.0</td>\n",
       "    </tr>\n",
       "  </tbody>\n",
       "</table>\n",
       "</div>"
      ],
      "text/plain": [
       "   device.browser  device.deviceCategory  device.operatingSystem\n",
       "0             1.0                      1                     1.0\n",
       "1             3.0                      1                     2.0\n",
       "2             1.0                      1                     1.0\n",
       "3             0.0                      1                     5.0\n",
       "4             1.0                      2                     3.0\n",
       "5             1.0                      1                     1.0\n",
       "6             1.0                      1                     1.0\n",
       "7             1.0                      1                     1.0\n",
       "8             4.0                      1                     1.0\n",
       "9             3.0                      1                     1.0"
      ]
     },
     "execution_count": 75,
     "metadata": {},
     "output_type": "execute_result"
    }
   ],
   "source": [
    "df_trainDevice.iloc[0:10, 12:15]"
   ]
  }
 ],
 "metadata": {
  "kernelspec": {
   "display_name": "Python 3",
   "language": "python",
   "name": "python3"
  },
  "language_info": {
   "codemirror_mode": {
    "name": "ipython",
    "version": 3
   },
   "file_extension": ".py",
   "mimetype": "text/x-python",
   "name": "python",
   "nbconvert_exporter": "python",
   "pygments_lexer": "ipython3",
   "version": "3.7.0"
  }
 },
 "nbformat": 4,
 "nbformat_minor": 2
}
