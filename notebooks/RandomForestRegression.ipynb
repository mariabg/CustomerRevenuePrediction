{
 "cells": [
  {
   "cell_type": "markdown",
   "metadata": {},
   "source": [
    "## Imports and cleaning"
   ]
  },
  {
   "cell_type": "code",
   "execution_count": 1,
   "metadata": {},
   "outputs": [],
   "source": [
    "import pandas as pd\n",
    "import numpy as np\n",
    "from scipy import stats\n",
    "from sklearn import preprocessing\n",
    "from sklearn.model_selection import train_test_split\n",
    "from sklearn.metrics import classification_report, confusion_matrix\n",
    "from sklearn.metrics import mean_squared_error\n",
    "from sklearn.ensemble import RandomForestRegressor\n",
    "from sklearn.datasets import make_regression\n",
    "\n",
    "pd.set_option('display.max_columns', 30)"
   ]
  },
  {
   "cell_type": "code",
   "execution_count": 2,
   "metadata": {},
   "outputs": [],
   "source": [
    "# Call example:\n",
    "  # extract_date_info(df, 'month')\n",
    "def extract_date_info(df, parametro):\n",
    "    if parametro == \"date\":\n",
    "        df[\"date\"] = [d.date() for d in df[\"visitStartTime\"]]\n",
    "    if parametro == \"time\":\n",
    "        df[\"time\"] = [d.time() for d in df[\"visitStartTime\"]]\n",
    "    if parametro == \"hour\":\n",
    "        df[\"hour\"] = [d.hour for d in df[\"visitStartTime\"]]\n",
    "    if parametro == \"day\":\n",
    "        df[\"day\"] = df[\"visitStartTime\"].dt.day\n",
    "    if parametro == \"month\":\n",
    "        df['month'] = df[\"visitStartTime\"].dt.month\n",
    "    if parametro == \"weekday\":\n",
    "        df['weekday'] = df[\"visitStartTime\"].dt.weekday\n",
    "    if parametro == \"weekofyear\": \n",
    "        df['weekofyear'] = df[\"visitStartTime\"].dt.weekofyear\n",
    "    return\n",
    "\n",
    "# handmade mapping\n",
    "browser = {'Chrome': 1, 'Safari': 2, 'Firefox': 3, 'Internet Explorer': 4, 'Edge': 5, \n",
    "           'Android Webview': 0, 'Safari (in-app)': 0, 'Opera Mini': 0, 'Opera': 0,\n",
    "           'UC Browser': 0}\n",
    "category = {'desktop': 1, 'mobile': 2, 'tablet': 3}\n",
    "operatingSystem = {'Windows': 1, 'Macintosh': 2, 'Android': 3, 'iOS': 4,'Linux': 5,\n",
    "    'Chrome OS': 6, '(not set)': 0, 'Windows Phone': 0, 'BlackBerry': 0, 'Samsung': 0}"
   ]
  },
  {
   "cell_type": "code",
   "execution_count": 3,
   "metadata": {},
   "outputs": [
    {
     "name": "stderr",
     "output_type": "stream",
     "text": [
      "/anaconda3/lib/python3.6/site-packages/IPython/core/interactiveshell.py:2728: DtypeWarning: Columns (15) have mixed types. Specify dtype option on import or set low_memory=False.\n",
      "  interactivity=interactivity, compiler=compiler, result=result)\n",
      "/anaconda3/lib/python3.6/site-packages/numpy/lib/arraysetops.py:466: FutureWarning: elementwise comparison failed; returning scalar instead, but in the future will perform elementwise comparison\n",
      "  mask |= (ar1 == a)\n"
     ]
    }
   ],
   "source": [
    "df = pd.read_csv('../data/train_v2_cleaned_nVisits.csv', index_col=0, parse_dates=['visitStartTime'], dtype={'fullVisitorId': 'str'})"
   ]
  },
  {
   "cell_type": "code",
   "execution_count": 4,
   "metadata": {},
   "outputs": [
    {
     "data": {
      "text/html": [
       "<div>\n",
       "<style scoped>\n",
       "    .dataframe tbody tr th:only-of-type {\n",
       "        vertical-align: middle;\n",
       "    }\n",
       "\n",
       "    .dataframe tbody tr th {\n",
       "        vertical-align: top;\n",
       "    }\n",
       "\n",
       "    .dataframe thead th {\n",
       "        text-align: right;\n",
       "    }\n",
       "</style>\n",
       "<table border=\"1\" class=\"dataframe\">\n",
       "  <thead>\n",
       "    <tr style=\"text-align: right;\">\n",
       "      <th></th>\n",
       "      <th>channelGrouping</th>\n",
       "      <th>fullVisitorId</th>\n",
       "      <th>visitNumber</th>\n",
       "      <th>visitStartTime</th>\n",
       "      <th>browser</th>\n",
       "      <th>deviceCategory</th>\n",
       "      <th>operatingSystem</th>\n",
       "      <th>city</th>\n",
       "      <th>country</th>\n",
       "      <th>region</th>\n",
       "      <th>subContinent</th>\n",
       "      <th>adContent</th>\n",
       "      <th>adPosition</th>\n",
       "      <th>campaign</th>\n",
       "      <th>campaignCode</th>\n",
       "      <th>isTrueDirect</th>\n",
       "      <th>medium</th>\n",
       "      <th>source</th>\n",
       "      <th>timeOnSite</th>\n",
       "      <th>totalTransactionRevenue</th>\n",
       "      <th>transactions</th>\n",
       "      <th>comprasAnteriores</th>\n",
       "    </tr>\n",
       "  </thead>\n",
       "  <tbody>\n",
       "    <tr>\n",
       "      <th>0</th>\n",
       "      <td>Direct</td>\n",
       "      <td>0423043652415339154</td>\n",
       "      <td>3.0</td>\n",
       "      <td>2016-08-01 07:00:12</td>\n",
       "      <td>Safari</td>\n",
       "      <td>mobile</td>\n",
       "      <td>iOS</td>\n",
       "      <td>not available in demo dataset</td>\n",
       "      <td>United States</td>\n",
       "      <td>United States</td>\n",
       "      <td>Northern America</td>\n",
       "      <td>NaN</td>\n",
       "      <td>NaN</td>\n",
       "      <td>(not set)</td>\n",
       "      <td>NaN</td>\n",
       "      <td>True</td>\n",
       "      <td>(none)</td>\n",
       "      <td>(direct)</td>\n",
       "      <td>NaN</td>\n",
       "      <td>0.0</td>\n",
       "      <td>NaN</td>\n",
       "      <td>0.0</td>\n",
       "    </tr>\n",
       "    <tr>\n",
       "      <th>1</th>\n",
       "      <td>Social</td>\n",
       "      <td>8294721032567046680</td>\n",
       "      <td>1.0</td>\n",
       "      <td>2016-08-01 07:04:26</td>\n",
       "      <td>Chrome</td>\n",
       "      <td>desktop</td>\n",
       "      <td>Windows</td>\n",
       "      <td>not available in demo dataset</td>\n",
       "      <td>Thailand</td>\n",
       "      <td>Thailand</td>\n",
       "      <td>Southeast Asia</td>\n",
       "      <td>NaN</td>\n",
       "      <td>NaN</td>\n",
       "      <td>(not set)</td>\n",
       "      <td>NaN</td>\n",
       "      <td>NaN</td>\n",
       "      <td>referral</td>\n",
       "      <td>youtube.com</td>\n",
       "      <td>NaN</td>\n",
       "      <td>0.0</td>\n",
       "      <td>NaN</td>\n",
       "      <td>0.0</td>\n",
       "    </tr>\n",
       "    <tr>\n",
       "      <th>2</th>\n",
       "      <td>Organic Search</td>\n",
       "      <td>7718623669497357235</td>\n",
       "      <td>1.0</td>\n",
       "      <td>2016-08-01 07:04:41</td>\n",
       "      <td>Amazon Silk</td>\n",
       "      <td>tablet</td>\n",
       "      <td>Android</td>\n",
       "      <td>not available in demo dataset</td>\n",
       "      <td>United States</td>\n",
       "      <td>United States</td>\n",
       "      <td>Northern America</td>\n",
       "      <td>NaN</td>\n",
       "      <td>NaN</td>\n",
       "      <td>(not set)</td>\n",
       "      <td>NaN</td>\n",
       "      <td>NaN</td>\n",
       "      <td>organic</td>\n",
       "      <td>google</td>\n",
       "      <td>40.0</td>\n",
       "      <td>0.0</td>\n",
       "      <td>NaN</td>\n",
       "      <td>0.0</td>\n",
       "    </tr>\n",
       "    <tr>\n",
       "      <th>3</th>\n",
       "      <td>Organic Search</td>\n",
       "      <td>4798058133221713505</td>\n",
       "      <td>1.0</td>\n",
       "      <td>2016-08-01 07:06:01</td>\n",
       "      <td>Chrome</td>\n",
       "      <td>desktop</td>\n",
       "      <td>Windows</td>\n",
       "      <td>not available in demo dataset</td>\n",
       "      <td>Canada</td>\n",
       "      <td>Canada</td>\n",
       "      <td>Northern America</td>\n",
       "      <td>NaN</td>\n",
       "      <td>NaN</td>\n",
       "      <td>(not set)</td>\n",
       "      <td>NaN</td>\n",
       "      <td>NaN</td>\n",
       "      <td>organic</td>\n",
       "      <td>google</td>\n",
       "      <td>89.0</td>\n",
       "      <td>0.0</td>\n",
       "      <td>NaN</td>\n",
       "      <td>0.0</td>\n",
       "    </tr>\n",
       "    <tr>\n",
       "      <th>4</th>\n",
       "      <td>Direct</td>\n",
       "      <td>5076747981380011349</td>\n",
       "      <td>1.0</td>\n",
       "      <td>2016-08-01 07:06:10</td>\n",
       "      <td>Chrome</td>\n",
       "      <td>desktop</td>\n",
       "      <td>Windows</td>\n",
       "      <td>Quezon City</td>\n",
       "      <td>Philippines</td>\n",
       "      <td>Metro Manila</td>\n",
       "      <td>Southeast Asia</td>\n",
       "      <td>NaN</td>\n",
       "      <td>NaN</td>\n",
       "      <td>(not set)</td>\n",
       "      <td>NaN</td>\n",
       "      <td>True</td>\n",
       "      <td>(none)</td>\n",
       "      <td>(direct)</td>\n",
       "      <td>NaN</td>\n",
       "      <td>0.0</td>\n",
       "      <td>NaN</td>\n",
       "      <td>0.0</td>\n",
       "    </tr>\n",
       "  </tbody>\n",
       "</table>\n",
       "</div>"
      ],
      "text/plain": [
       "  channelGrouping        fullVisitorId  visitNumber      visitStartTime  \\\n",
       "0          Direct  0423043652415339154          3.0 2016-08-01 07:00:12   \n",
       "1          Social  8294721032567046680          1.0 2016-08-01 07:04:26   \n",
       "2  Organic Search  7718623669497357235          1.0 2016-08-01 07:04:41   \n",
       "3  Organic Search  4798058133221713505          1.0 2016-08-01 07:06:01   \n",
       "4          Direct  5076747981380011349          1.0 2016-08-01 07:06:10   \n",
       "\n",
       "       browser deviceCategory operatingSystem                           city  \\\n",
       "0       Safari         mobile             iOS  not available in demo dataset   \n",
       "1       Chrome        desktop         Windows  not available in demo dataset   \n",
       "2  Amazon Silk         tablet         Android  not available in demo dataset   \n",
       "3       Chrome        desktop         Windows  not available in demo dataset   \n",
       "4       Chrome        desktop         Windows                    Quezon City   \n",
       "\n",
       "         country         region      subContinent adContent adPosition  \\\n",
       "0  United States  United States  Northern America       NaN        NaN   \n",
       "1       Thailand       Thailand    Southeast Asia       NaN        NaN   \n",
       "2  United States  United States  Northern America       NaN        NaN   \n",
       "3         Canada         Canada  Northern America       NaN        NaN   \n",
       "4    Philippines   Metro Manila    Southeast Asia       NaN        NaN   \n",
       "\n",
       "    campaign campaignCode isTrueDirect    medium       source  timeOnSite  \\\n",
       "0  (not set)          NaN         True    (none)     (direct)         NaN   \n",
       "1  (not set)          NaN          NaN  referral  youtube.com         NaN   \n",
       "2  (not set)          NaN          NaN   organic       google        40.0   \n",
       "3  (not set)          NaN          NaN   organic       google        89.0   \n",
       "4  (not set)          NaN         True    (none)     (direct)         NaN   \n",
       "\n",
       "   totalTransactionRevenue  transactions  comprasAnteriores  \n",
       "0                      0.0           NaN                0.0  \n",
       "1                      0.0           NaN                0.0  \n",
       "2                      0.0           NaN                0.0  \n",
       "3                      0.0           NaN                0.0  \n",
       "4                      0.0           NaN                0.0  "
      ]
     },
     "execution_count": 4,
     "metadata": {},
     "output_type": "execute_result"
    }
   ],
   "source": [
    "df.head()"
   ]
  },
  {
   "cell_type": "code",
   "execution_count": 5,
   "metadata": {},
   "outputs": [],
   "source": [
    "train_data = df.copy()\n",
    "\n",
    "train_data[\"browser\"] = train_data[\"browser\"].map(browser)\n",
    "train_data[\"deviceCategory\"] = train_data[\"deviceCategory\"].map(category)\n",
    "train_data[\"operatingSystem\"] = train_data[\"operatingSystem\"].map(operatingSystem)\n",
    "\n",
    "cat_cols = [\"channelGrouping\", \"city\", \"browser\", \"country\", \"region\",\n",
    "            \"subContinent\", 'isTrueDirect', 'medium', \"deviceCategory\",\n",
    "            \"source\", \"adContent\", \"adPosition\", \"campaign\", \"operatingSystem\"]\n",
    "\n",
    "labelencoder = preprocessing.LabelEncoder()\n",
    "for c in cat_cols:\n",
    "    train_data[c] = labelencoder.fit_transform(train_data[c].astype(str))\n",
    "    labels = train_data[c]\n",
    "    labelencoder.fit(labels)\n",
    "    labels = labelencoder.transform(labels)\n",
    "    \n",
    "extract_date_info(train_data, 'month')\n",
    "extract_date_info(train_data, 'weekday')\n",
    "extract_date_info(train_data, 'weekofyear')\n",
    "extract_date_info(train_data, 'hour')\n",
    "train_data.drop(['visitStartTime', 'campaignCode'], axis=1, inplace=True)\n",
    "train_data.drop(['medium', \"source\", \"adPosition\", \"campaign\"], axis=1, inplace=True)\n",
    "# train_data.drop([\"channelGrouping\", 'isTrueDirect', 'medium', \"source\", \"adContent\", \"adPosition\", \"campaign\"], axis=1, inplace=True)"
   ]
  },
  {
   "cell_type": "markdown",
   "metadata": {},
   "source": [
    "## Inbalanced training"
   ]
  },
  {
   "cell_type": "code",
   "execution_count": null,
   "metadata": {},
   "outputs": [],
   "source": [
    "X = train_data.drop(['totalTransactionRevenue', 'timeOnSite', 'transactions', 'fullVisitorId'], axis=1)\n",
    "y = train_data['totalTransactionRevenue']\n",
    "y = np.log1p(y)"
   ]
  },
  {
   "cell_type": "code",
   "execution_count": null,
   "metadata": {},
   "outputs": [],
   "source": [
    "# train_x, test_x, train_y, test_y = train_test_split(X, y, test_size=0.20, random_state=1)\n",
    "train_x = X\n",
    "train_y = y"
   ]
  },
  {
   "cell_type": "code",
   "execution_count": null,
   "metadata": {},
   "outputs": [],
   "source": [
    "regr = RandomForestRegressor(max_depth=20, random_state=0, n_estimators=200)"
   ]
  },
  {
   "cell_type": "code",
   "execution_count": null,
   "metadata": {},
   "outputs": [],
   "source": [
    "regr.fit(train_x, train_y)"
   ]
  },
  {
   "cell_type": "code",
   "execution_count": null,
   "metadata": {},
   "outputs": [],
   "source": [
    "featImportance, featCols = (list(t) for t in zip(*sorted(zip(regr.feature_importances_, list(train_x)), reverse=True)))\n",
    "for i in range(len(featCols)):\n",
    "    print(featCols[i], \": \", featImportance[i])"
   ]
  },
  {
   "cell_type": "code",
   "execution_count": null,
   "metadata": {},
   "outputs": [],
   "source": [
    "# regr.decision_path(train_x)"
   ]
  },
  {
   "cell_type": "markdown",
   "metadata": {},
   "source": [
    "#### Test with test.csv"
   ]
  },
  {
   "cell_type": "code",
   "execution_count": null,
   "metadata": {},
   "outputs": [],
   "source": [
    "test = pd.read_csv('../data/test_v2_cleaned_nVisits.csv', index_col=0, parse_dates=['visitStartTime'], dtype={'fullVisitorId': 'str'})"
   ]
  },
  {
   "cell_type": "code",
   "execution_count": null,
   "metadata": {},
   "outputs": [],
   "source": [
    "test_data = test.copy()\n",
    "\n",
    "# turn this into \"high cardinality categorical\"\n",
    "test_data[\"browser\"] = test_data[\"browser\"].map(browser)\n",
    "test_data[\"deviceCategory\"] = test_data[\"deviceCategory\"].map(category)\n",
    "test_data[\"operatingSystem\"] = test_data[\"operatingSystem\"].map(operatingSystem)\n",
    "\n",
    "cat_cols = [\"channelGrouping\", \"city\", \"browser\", \"country\", \"region\",\n",
    "            \"subContinent\", 'isTrueDirect', 'medium', \"deviceCategory\",\n",
    "            \"source\", \"adContent\", \"adPosition\", \"campaign\", \"operatingSystem\"]\n",
    "\n",
    "labelencoder = preprocessing.LabelEncoder()\n",
    "for c in cat_cols:\n",
    "    test_data[c] = labelencoder.fit_transform(test_data[c].astype(str))\n",
    "    labels = test_data[c]\n",
    "    labelencoder.fit(labels)\n",
    "    labels = labelencoder.transform(labels)\n",
    "    \n",
    "extract_date_info(test_data, 'month')\n",
    "extract_date_info(test_data, 'weekday')\n",
    "extract_date_info(test_data, 'weekofyear')\n",
    "extract_date_info(test_data, 'hour')\n",
    "test_data.drop(['visitStartTime', 'campaignCode'], axis=1, inplace=True)\n",
    "test_data.drop(['medium', \"source\", \"adPosition\", \"campaign\"], axis=1, inplace=True)\n",
    "# test_data.drop([\"channelGrouping\", 'isTrueDirect', 'medium', \"source\", \"adContent\", \"adPosition\", \"campaign\"], axis=1, inplace=True)"
   ]
  },
  {
   "cell_type": "code",
   "execution_count": null,
   "metadata": {},
   "outputs": [],
   "source": [
    "X_test = test_data.drop(['totalTransactionRevenue', 'timeOnSite', 'transactions', 'fullVisitorId'], axis=1)\n",
    "y_test = test_data['totalTransactionRevenue']\n",
    "y_test = np.log1p(y_test)"
   ]
  },
  {
   "cell_type": "code",
   "execution_count": null,
   "metadata": {},
   "outputs": [],
   "source": [
    "y_pred_test = regr.predict(X_test)"
   ]
  },
  {
   "cell_type": "code",
   "execution_count": null,
   "metadata": {},
   "outputs": [],
   "source": [
    "print(mean_squared_error(y_test, y_pred_test))"
   ]
  },
  {
   "cell_type": "code",
   "execution_count": null,
   "metadata": {},
   "outputs": [],
   "source": [
    "# undo the log to check the real values\n",
    "y_pred_test = pd.DataFrame(y_pred_test).apply(lambda x: np.expm1(x))\n",
    "y_test = pd.DataFrame(y_test).apply(lambda x: np.expm1(x))\n",
    "print(y_pred_test.mean())\n",
    "print(y_test.mean())"
   ]
  },
  {
   "cell_type": "code",
   "execution_count": null,
   "metadata": {},
   "outputs": [],
   "source": [
    "# y_pred_test.sample(100)\n",
    "y_final_res = y_pred_test[0].apply(lambda x: x if x > 2 else 0)\n",
    "y_final_res.mean()\n",
    "y_final_res_purchases = y_final_res[y_final_res>0]"
   ]
  },
  {
   "cell_type": "code",
   "execution_count": null,
   "metadata": {},
   "outputs": [],
   "source": [
    "y_final_res_purchases.mean()"
   ]
  },
  {
   "cell_type": "code",
   "execution_count": null,
   "metadata": {},
   "outputs": [],
   "source": [
    "# evaluación binaria de los resultados\n",
    "y_pred_test_binary = pd.DataFrame(y_final_res)[0].apply(lambda x: x if x == 0 else 1)\n",
    "y_test_binary = pd.DataFrame(y_test)['totalTransactionRevenue'].apply(lambda x: x if x == 0 else 1)\n",
    "print(classification_report(y_test_binary, y_pred_test_binary))"
   ]
  },
  {
   "cell_type": "code",
   "execution_count": null,
   "metadata": {},
   "outputs": [],
   "source": [
    "print(confusion_matrix(y_test_binary, y_pred_test_binary))"
   ]
  },
  {
   "cell_type": "markdown",
   "metadata": {},
   "source": [
    "## Rebalanced training"
   ]
  },
  {
   "cell_type": "code",
   "execution_count": 403,
   "metadata": {},
   "outputs": [],
   "source": [
    "train_cero = pd.DataFrame()\n",
    "train_aux = pd.DataFrame()\n",
    "train_merge = pd.DataFrame()\n",
    "\n",
    "train_cero = train_data[train_data.totalTransactionRevenue == 0]\n",
    "train_aux = train_data[train_data.totalTransactionRevenue > 0]\n",
    "Q1 = train_aux['totalTransactionRevenue'].quantile(0.25)\n",
    "Q3 = train_aux['totalTransactionRevenue'].quantile(0.75)\n",
    "IQR = Q3 - Q1\n",
    "# decir que por debajo no hay outliers\n",
    "train_aux = train_aux[train_aux['totalTransactionRevenue'] < (Q3+1.5*IQR)]\n",
    "\n",
    "train_merge = train_merge.append(train_cero.sample(int(train_aux.shape[0]/4.5)))\n",
    "train_merge = train_merge.append(train_aux)\n",
    "# train_merge = train_merge.sample(frac=1).reset_index(drop=True)"
   ]
  },
  {
   "cell_type": "code",
   "execution_count": 404,
   "metadata": {},
   "outputs": [],
   "source": [
    "X = train_merge.drop(['totalTransactionRevenue', 'timeOnSite', 'transactions', 'fullVisitorId'], axis=1)\n",
    "y = train_merge['totalTransactionRevenue']\n",
    "y = np.log1p(y)"
   ]
  },
  {
   "cell_type": "code",
   "execution_count": 405,
   "metadata": {},
   "outputs": [],
   "source": [
    "# train_x, test_x, train_y, test_y = train_test_split(X, y, test_size=0.20, random_state=1)\n",
    "train_x = X\n",
    "train_y = y"
   ]
  },
  {
   "cell_type": "code",
   "execution_count": 406,
   "metadata": {},
   "outputs": [],
   "source": [
    "regr = RandomForestRegressor(max_depth=40, random_state=0, n_estimators=200)"
   ]
  },
  {
   "cell_type": "code",
   "execution_count": 407,
   "metadata": {},
   "outputs": [
    {
     "data": {
      "text/plain": [
       "RandomForestRegressor(bootstrap=True, criterion='mse', max_depth=40,\n",
       "           max_features='auto', max_leaf_nodes=None,\n",
       "           min_impurity_decrease=0.0, min_impurity_split=None,\n",
       "           min_samples_leaf=1, min_samples_split=2,\n",
       "           min_weight_fraction_leaf=0.0, n_estimators=200, n_jobs=1,\n",
       "           oob_score=False, random_state=0, verbose=0, warm_start=False)"
      ]
     },
     "execution_count": 407,
     "metadata": {},
     "output_type": "execute_result"
    }
   ],
   "source": [
    "regr.fit(train_x, train_y)"
   ]
  },
  {
   "cell_type": "code",
   "execution_count": 408,
   "metadata": {},
   "outputs": [
    {
     "name": "stdout",
     "output_type": "stream",
     "text": [
      "country :  0.31417489225083484\n",
      "weekofyear :  0.12022805943772663\n",
      "hour :  0.113082751387266\n",
      "visitNumber :  0.0730772094606962\n",
      "weekday :  0.0723491941131789\n",
      "city :  0.049856714287688286\n",
      "channelGrouping :  0.049119071473061486\n",
      "deviceCategory :  0.04524971666836344\n",
      "region :  0.038253131189162036\n",
      "month :  0.03660963327304144\n",
      "operatingSystem :  0.029750085866018957\n",
      "browser :  0.017431051608085238\n",
      "subContinent :  0.014559591884105643\n",
      "isTrueDirect :  0.012163896996843067\n",
      "adContent :  0.010256091393978803\n",
      "comprasAnteriores :  0.0038389087099492602\n"
     ]
    }
   ],
   "source": [
    "featImportance, featCols = (list(t) for t in zip(*sorted(zip(regr.feature_importances_, list(train_x)), reverse=True)))\n",
    "for i in range(len(featCols)):\n",
    "    print(featCols[i], \": \", featImportance[i])"
   ]
  },
  {
   "cell_type": "code",
   "execution_count": 409,
   "metadata": {},
   "outputs": [],
   "source": [
    "# regr.decision_path(train_x)"
   ]
  },
  {
   "cell_type": "markdown",
   "metadata": {},
   "source": [
    "#### Test with test.csv"
   ]
  },
  {
   "cell_type": "code",
   "execution_count": 410,
   "metadata": {},
   "outputs": [],
   "source": [
    "test = pd.read_csv('../data/test_v2_cleaned_nVisits.csv', index_col=0, parse_dates=['visitStartTime'], dtype={'fullVisitorId': 'str'})"
   ]
  },
  {
   "cell_type": "code",
   "execution_count": 411,
   "metadata": {},
   "outputs": [],
   "source": [
    "test_data = test.copy()\n",
    "\n",
    "# turn this into \"high cardinality categorical\"\n",
    "test_data[\"browser\"] = test_data[\"browser\"].map(browser)\n",
    "test_data[\"deviceCategory\"] = test_data[\"deviceCategory\"].map(category)\n",
    "test_data[\"operatingSystem\"] = test_data[\"operatingSystem\"].map(operatingSystem)\n",
    "\n",
    "cat_cols = [\"channelGrouping\", \"city\", \"browser\", \"country\", \"region\",\n",
    "            \"subContinent\", 'isTrueDirect', 'medium', \"deviceCategory\",\n",
    "            \"source\", \"adContent\", \"adPosition\", \"campaign\", \"operatingSystem\"]\n",
    "\n",
    "labelencoder = preprocessing.LabelEncoder()\n",
    "for c in cat_cols:\n",
    "    test_data[c] = labelencoder.fit_transform(test_data[c].astype(str))\n",
    "    labels = test_data[c]\n",
    "    labelencoder.fit(labels)\n",
    "    labels = labelencoder.transform(labels)\n",
    "    \n",
    "extract_date_info(test_data, 'month')\n",
    "extract_date_info(test_data, 'weekday')\n",
    "extract_date_info(test_data, 'weekofyear')\n",
    "extract_date_info(test_data, 'hour')\n",
    "test_data.drop(['visitStartTime'], axis=1, inplace=True)\n",
    "# test_data.drop([\"channelGrouping\", 'isTrueDirect', 'medium', \"source\", \"adContent\", \"adPosition\", \"campaign\"], axis=1, inplace=True)\n",
    "test_data.drop(['medium', \"source\", \"adPosition\", \"campaign\"], axis=1, inplace=True)"
   ]
  },
  {
   "cell_type": "code",
   "execution_count": 412,
   "metadata": {},
   "outputs": [],
   "source": [
    "X_test = test_data.drop(['totalTransactionRevenue', 'timeOnSite', 'transactions', 'fullVisitorId'], axis=1)\n",
    "y_test = test_data['totalTransactionRevenue']\n",
    "# y_test = np.log1p(y_test)"
   ]
  },
  {
   "cell_type": "code",
   "execution_count": 413,
   "metadata": {},
   "outputs": [],
   "source": [
    "y_pred_test = regr.predict(X_test)"
   ]
  },
  {
   "cell_type": "code",
   "execution_count": 414,
   "metadata": {},
   "outputs": [
    {
     "name": "stdout",
     "output_type": "stream",
     "text": [
      "4439.4494727979545\n"
     ]
    }
   ],
   "source": [
    "print(mean_squared_error(y_test, y_pred_test))"
   ]
  },
  {
   "cell_type": "code",
   "execution_count": 415,
   "metadata": {},
   "outputs": [
    {
     "name": "stdout",
     "output_type": "stream",
     "text": [
      "0    3.489733\n",
      "dtype: float64\n",
      "totalTransactionRevenue    inf\n",
      "dtype: float64\n"
     ]
    },
    {
     "name": "stderr",
     "output_type": "stream",
     "text": [
      "/anaconda3/lib/python3.6/site-packages/ipykernel_launcher.py:3: RuntimeWarning: overflow encountered in expm1\n",
      "  This is separate from the ipykernel package so we can avoid doing imports until\n"
     ]
    }
   ],
   "source": [
    "# undo the log to check the real values\n",
    "y_pred_test = pd.DataFrame(y_pred_test).apply(lambda x: np.expm1(x))\n",
    "y_test = pd.DataFrame(y_test).apply(lambda x: np.expm1(x))\n",
    "print(y_pred_test.mean())\n",
    "print(y_test.mean())"
   ]
  },
  {
   "cell_type": "code",
   "execution_count": 416,
   "metadata": {},
   "outputs": [
    {
     "data": {
      "text/plain": [
       "0    0.845437\n",
       "dtype: float64"
      ]
     },
     "execution_count": 416,
     "metadata": {},
     "output_type": "execute_result"
    }
   ],
   "source": [
    "y_pred_test.median()"
   ]
  },
  {
   "cell_type": "code",
   "execution_count": 438,
   "metadata": {},
   "outputs": [
    {
     "data": {
      "text/html": [
       "<div>\n",
       "<style scoped>\n",
       "    .dataframe tbody tr th:only-of-type {\n",
       "        vertical-align: middle;\n",
       "    }\n",
       "\n",
       "    .dataframe tbody tr th {\n",
       "        vertical-align: top;\n",
       "    }\n",
       "\n",
       "    .dataframe thead th {\n",
       "        text-align: right;\n",
       "    }\n",
       "</style>\n",
       "<table border=\"1\" class=\"dataframe\">\n",
       "  <thead>\n",
       "    <tr style=\"text-align: right;\">\n",
       "      <th></th>\n",
       "      <th>0</th>\n",
       "    </tr>\n",
       "  </thead>\n",
       "  <tbody>\n",
       "    <tr>\n",
       "      <th>count</th>\n",
       "      <td>401589.000000</td>\n",
       "    </tr>\n",
       "    <tr>\n",
       "      <th>mean</th>\n",
       "      <td>3.489733</td>\n",
       "    </tr>\n",
       "    <tr>\n",
       "      <th>std</th>\n",
       "      <td>6.471084</td>\n",
       "    </tr>\n",
       "    <tr>\n",
       "      <th>min</th>\n",
       "      <td>0.000000</td>\n",
       "    </tr>\n",
       "    <tr>\n",
       "      <th>25%</th>\n",
       "      <td>0.194167</td>\n",
       "    </tr>\n",
       "    <tr>\n",
       "      <th>50%</th>\n",
       "      <td>0.845437</td>\n",
       "    </tr>\n",
       "    <tr>\n",
       "      <th>75%</th>\n",
       "      <td>3.361685</td>\n",
       "    </tr>\n",
       "    <tr>\n",
       "      <th>max</th>\n",
       "      <td>74.411992</td>\n",
       "    </tr>\n",
       "  </tbody>\n",
       "</table>\n",
       "</div>"
      ],
      "text/plain": [
       "                   0\n",
       "count  401589.000000\n",
       "mean        3.489733\n",
       "std         6.471084\n",
       "min         0.000000\n",
       "25%         0.194167\n",
       "50%         0.845437\n",
       "75%         3.361685\n",
       "max        74.411992"
      ]
     },
     "execution_count": 438,
     "metadata": {},
     "output_type": "execute_result"
    }
   ],
   "source": [
    "y_pred_test.describe()"
   ]
  },
  {
   "cell_type": "code",
   "execution_count": 448,
   "metadata": {},
   "outputs": [],
   "source": [
    "y_final_res = y_pred_test[0].apply(lambda x: x if x > 1.3 else 0)\n",
    "y_final_res_purchases = y_final_res[y_final_res>0]"
   ]
  },
  {
   "cell_type": "code",
   "execution_count": 449,
   "metadata": {},
   "outputs": [
    {
     "name": "stdout",
     "output_type": "stream",
     "text": [
      "3.261875191568776\n",
      "7.918305494779776\n"
     ]
    }
   ],
   "source": [
    "print(y_final_res.mean())\n",
    "print(y_final_res_purchases.mean())"
   ]
  },
  {
   "cell_type": "code",
   "execution_count": 450,
   "metadata": {},
   "outputs": [
    {
     "name": "stdout",
     "output_type": "stream",
     "text": [
      "             precision    recall  f1-score   support\n",
      "\n",
      "        0.0       1.00      0.59      0.74    396995\n",
      "        1.0       0.02      0.80      0.04      4594\n",
      "\n",
      "avg / total       0.99      0.60      0.74    401589\n",
      "\n"
     ]
    }
   ],
   "source": [
    "# evaluación binaria de los resultados\n",
    "y_pred_test_binary = pd.DataFrame(y_final_res)[0].apply(lambda x: x if x == 0 else 1)\n",
    "y_test_binary = pd.DataFrame(y_test)['totalTransactionRevenue'].apply(lambda x: x if x == 0 else 1)\n",
    "print(classification_report(y_test_binary, y_pred_test_binary))"
   ]
  },
  {
   "cell_type": "code",
   "execution_count": 451,
   "metadata": {},
   "outputs": [
    {
     "name": "stdout",
     "output_type": "stream",
     "text": [
      "[[235261 161734]\n",
      " [   897   3697]]\n"
     ]
    }
   ],
   "source": [
    "print(confusion_matrix(y_test_binary, y_pred_test_binary))"
   ]
  },
  {
   "cell_type": "code",
   "execution_count": 422,
   "metadata": {},
   "outputs": [
    {
     "name": "stdout",
     "output_type": "stream",
     "text": [
      "             precision    recall  f1-score   support\n",
      "\n",
      "        0.0       1.00      0.05      0.10    396995\n",
      "        1.0       0.01      1.00      0.02      4594\n",
      "\n",
      "avg / total       0.99      0.06      0.10    401589\n",
      "\n"
     ]
    }
   ],
   "source": [
    "# evaluación binaria de los resultados\n",
    "y_pred_test_binary = pd.DataFrame(y_pred_test)[0].apply(lambda x: x if x == 0 else 1)\n",
    "y_test_binary = pd.DataFrame(y_test)['totalTransactionRevenue'].apply(lambda x: x if x == 0 else 1)\n",
    "print(classification_report(y_test_binary, y_pred_test_binary))"
   ]
  },
  {
   "cell_type": "code",
   "execution_count": 423,
   "metadata": {},
   "outputs": [
    {
     "name": "stdout",
     "output_type": "stream",
     "text": [
      "[[ 20535 376460]\n",
      " [     2   4592]]\n"
     ]
    }
   ],
   "source": [
    "print(confusion_matrix(y_test_binary, y_pred_test_binary))"
   ]
  },
  {
   "cell_type": "code",
   "execution_count": 424,
   "metadata": {},
   "outputs": [
    {
     "data": {
      "text/plain": [
       "1.605947557635243"
      ]
     },
     "execution_count": 424,
     "metadata": {},
     "output_type": "execute_result"
    }
   ],
   "source": [
    "# (TP+FP)*2 - TP*142\n",
    "# (3171+137021)*2 - 3171*142\n",
    "3171*142/((3171+137021)*2)"
   ]
  },
  {
   "cell_type": "code",
   "execution_count": null,
   "metadata": {},
   "outputs": [],
   "source": []
  }
 ],
 "metadata": {
  "kernelspec": {
   "display_name": "Python 3",
   "language": "python",
   "name": "python3"
  },
  "language_info": {
   "codemirror_mode": {
    "name": "ipython",
    "version": 3
   },
   "file_extension": ".py",
   "mimetype": "text/x-python",
   "name": "python",
   "nbconvert_exporter": "python",
   "pygments_lexer": "ipython3",
   "version": "3.6.4"
  }
 },
 "nbformat": 4,
 "nbformat_minor": 2
}
